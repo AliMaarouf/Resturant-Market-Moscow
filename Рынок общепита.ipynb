{
 "cells": [
  {
   "cell_type": "markdown",
   "metadata": {},
   "source": [
    "# Рынок заведений общественного питания Москвы"
   ]
  },
  {
   "cell_type": "markdown",
   "metadata": {},
   "source": [
    "Вы решили открыть небольшое кафе в Москве. Оно оригинальное — гостей должны обслуживать роботы. Проект многообещающий, но дорогой. Вместе с партнёрами вы решились обратиться к инвесторам. Их интересует текущее положение дел на рынке — сможете ли вы снискать популярность на долгое время, когда все зеваки насмотрятся на роботов-официантов?\n",
    "Вы — гуру аналитики, и партнёры просят вас подготовить исследование рынка. У вас есть открытые данные о заведениях общественного питания в Москве."
   ]
  },
  {
   "cell_type": "markdown",
   "metadata": {},
   "source": [
    "## Загрузка и подготовка данных"
   ]
  },
  {
   "cell_type": "code",
   "execution_count": 1,
   "metadata": {},
   "outputs": [
    {
     "name": "stdout",
     "output_type": "stream",
     "text": [
      "<class 'pandas.core.frame.DataFrame'>\n",
      "RangeIndex: 15366 entries, 0 to 15365\n",
      "Data columns (total 6 columns):\n",
      "id             15366 non-null int64\n",
      "object_name    15366 non-null object\n",
      "chain          15366 non-null object\n",
      "object_type    15366 non-null object\n",
      "address        15366 non-null object\n",
      "number         15366 non-null int64\n",
      "dtypes: int64(2), object(4)\n",
      "memory usage: 720.4+ KB\n",
      "None\n"
     ]
    },
    {
     "data": {
      "text/html": [
       "<div>\n",
       "<style scoped>\n",
       "    .dataframe tbody tr th:only-of-type {\n",
       "        vertical-align: middle;\n",
       "    }\n",
       "\n",
       "    .dataframe tbody tr th {\n",
       "        vertical-align: top;\n",
       "    }\n",
       "\n",
       "    .dataframe thead th {\n",
       "        text-align: right;\n",
       "    }\n",
       "</style>\n",
       "<table border=\"1\" class=\"dataframe\">\n",
       "  <thead>\n",
       "    <tr style=\"text-align: right;\">\n",
       "      <th></th>\n",
       "      <th>id</th>\n",
       "      <th>object_name</th>\n",
       "      <th>chain</th>\n",
       "      <th>object_type</th>\n",
       "      <th>address</th>\n",
       "      <th>number</th>\n",
       "    </tr>\n",
       "  </thead>\n",
       "  <tbody>\n",
       "    <tr>\n",
       "      <td>0</td>\n",
       "      <td>151635</td>\n",
       "      <td>СМЕТАНА</td>\n",
       "      <td>нет</td>\n",
       "      <td>кафе</td>\n",
       "      <td>город Москва, улица Егора Абакумова, дом 9</td>\n",
       "      <td>48</td>\n",
       "    </tr>\n",
       "    <tr>\n",
       "      <td>1</td>\n",
       "      <td>77874</td>\n",
       "      <td>Родник</td>\n",
       "      <td>нет</td>\n",
       "      <td>кафе</td>\n",
       "      <td>город Москва, улица Талалихина, дом 2/1, корпус 1</td>\n",
       "      <td>35</td>\n",
       "    </tr>\n",
       "    <tr>\n",
       "      <td>2</td>\n",
       "      <td>24309</td>\n",
       "      <td>Кафе «Академия»</td>\n",
       "      <td>нет</td>\n",
       "      <td>кафе</td>\n",
       "      <td>город Москва, Абельмановская улица, дом 6</td>\n",
       "      <td>95</td>\n",
       "    </tr>\n",
       "    <tr>\n",
       "      <td>3</td>\n",
       "      <td>21894</td>\n",
       "      <td>ПИЦЦЕТОРИЯ</td>\n",
       "      <td>да</td>\n",
       "      <td>кафе</td>\n",
       "      <td>город Москва, Абрамцевская улица, дом 1</td>\n",
       "      <td>40</td>\n",
       "    </tr>\n",
       "    <tr>\n",
       "      <td>4</td>\n",
       "      <td>119365</td>\n",
       "      <td>Кафе «Вишневая метель»</td>\n",
       "      <td>нет</td>\n",
       "      <td>кафе</td>\n",
       "      <td>город Москва, Абрамцевская улица, дом 9, корпус 1</td>\n",
       "      <td>50</td>\n",
       "    </tr>\n",
       "  </tbody>\n",
       "</table>\n",
       "</div>"
      ],
      "text/plain": [
       "       id             object_name chain object_type  \\\n",
       "0  151635                 СМЕТАНА   нет        кафе   \n",
       "1   77874                  Родник   нет        кафе   \n",
       "2   24309         Кафе «Академия»   нет        кафе   \n",
       "3   21894              ПИЦЦЕТОРИЯ    да        кафе   \n",
       "4  119365  Кафе «Вишневая метель»   нет        кафе   \n",
       "\n",
       "                                             address  number  \n",
       "0         город Москва, улица Егора Абакумова, дом 9      48  \n",
       "1  город Москва, улица Талалихина, дом 2/1, корпус 1      35  \n",
       "2          город Москва, Абельмановская улица, дом 6      95  \n",
       "3            город Москва, Абрамцевская улица, дом 1      40  \n",
       "4  город Москва, Абрамцевская улица, дом 9, корпус 1      50  "
      ]
     },
     "execution_count": 1,
     "metadata": {},
     "output_type": "execute_result"
    }
   ],
   "source": [
    "import pandas as pd\n",
    "import numpy as np\n",
    "import matplotlib.pyplot as plt \n",
    "import seaborn as sns\n",
    "import requests\n",
    "import re\n",
    "from io import BytesIO\n",
    "\n",
    "#загрузка данных и первичный осмотр \n",
    "data = pd.read_csv('/datasets/rest_data.csv')\n",
    "print(data.info())\n",
    "data.head()"
   ]
  },
  {
   "cell_type": "code",
   "execution_count": 2,
   "metadata": {},
   "outputs": [],
   "source": [
    "#изменение типа данных \n",
    "data.loc[data['chain'] == 'да','chain'] = 1\n",
    "data.loc[data['chain'] == 'нет','chain'] = 0\n",
    "data['chain'] = data['chain'].astype('bool')"
   ]
  },
  {
   "cell_type": "markdown",
   "metadata": {},
   "source": [
    "Необходимо поменять тип столбца data['chain'] c object на bool.  "
   ]
  },
  {
   "cell_type": "code",
   "execution_count": 3,
   "metadata": {},
   "outputs": [
    {
     "name": "stdout",
     "output_type": "stream",
     "text": [
      "id             0\n",
      "object_name    0\n",
      "chain          0\n",
      "object_type    0\n",
      "address        0\n",
      "number         0\n",
      "dtype: int64\n"
     ]
    },
    {
     "data": {
      "text/plain": [
       "0"
      ]
     },
     "execution_count": 3,
     "metadata": {},
     "output_type": "execute_result"
    }
   ],
   "source": [
    "#проверка наличия дубликатов и пропущенных значаний \n",
    "print(data.isna().sum())\n",
    "data.duplicated().sum()"
   ]
  },
  {
   "cell_type": "code",
   "execution_count": 4,
   "metadata": {},
   "outputs": [
    {
     "name": "stdout",
     "output_type": "stream",
     "text": [
      "<class 'pandas.core.frame.DataFrame'>\n",
      "Int64Index: 15284 entries, 0 to 15365\n",
      "Data columns (total 6 columns):\n",
      "id             15284 non-null int64\n",
      "object_name    15284 non-null object\n",
      "chain          15284 non-null bool\n",
      "object_type    15284 non-null object\n",
      "address        15284 non-null object\n",
      "number         15284 non-null int64\n",
      "dtypes: bool(1), int64(2), object(3)\n",
      "memory usage: 731.4+ KB\n"
     ]
    }
   ],
   "source": [
    "data = data.drop_duplicates(subset=['object_name','chain','object_type','address','number'])\n",
    "data.info()"
   ]
  },
  {
   "cell_type": "markdown",
   "metadata": {},
   "source": [
    "## Анализ данных"
   ]
  },
  {
   "cell_type": "code",
   "execution_count": 5,
   "metadata": {},
   "outputs": [
    {
     "data": {
      "text/html": [
       "<div>\n",
       "<style scoped>\n",
       "    .dataframe tbody tr th:only-of-type {\n",
       "        vertical-align: middle;\n",
       "    }\n",
       "\n",
       "    .dataframe tbody tr th {\n",
       "        vertical-align: top;\n",
       "    }\n",
       "\n",
       "    .dataframe thead th {\n",
       "        text-align: right;\n",
       "    }\n",
       "</style>\n",
       "<table border=\"1\" class=\"dataframe\">\n",
       "  <thead>\n",
       "    <tr style=\"text-align: right;\">\n",
       "      <th></th>\n",
       "      <th>object_type</th>\n",
       "      <th>number</th>\n",
       "      <th>percent</th>\n",
       "    </tr>\n",
       "  </thead>\n",
       "  <tbody>\n",
       "    <tr>\n",
       "      <td>3</td>\n",
       "      <td>кафе</td>\n",
       "      <td>6071</td>\n",
       "      <td>39.72</td>\n",
       "    </tr>\n",
       "    <tr>\n",
       "      <td>8</td>\n",
       "      <td>столовая</td>\n",
       "      <td>2584</td>\n",
       "      <td>16.91</td>\n",
       "    </tr>\n",
       "    <tr>\n",
       "      <td>7</td>\n",
       "      <td>ресторан</td>\n",
       "      <td>2282</td>\n",
       "      <td>14.93</td>\n",
       "    </tr>\n",
       "    <tr>\n",
       "      <td>6</td>\n",
       "      <td>предприятие быстрого обслуживания</td>\n",
       "      <td>1898</td>\n",
       "      <td>12.42</td>\n",
       "    </tr>\n",
       "    <tr>\n",
       "      <td>0</td>\n",
       "      <td>бар</td>\n",
       "      <td>855</td>\n",
       "      <td>5.59</td>\n",
       "    </tr>\n",
       "    <tr>\n",
       "      <td>1</td>\n",
       "      <td>буфет</td>\n",
       "      <td>577</td>\n",
       "      <td>3.78</td>\n",
       "    </tr>\n",
       "    <tr>\n",
       "      <td>4</td>\n",
       "      <td>кафетерий</td>\n",
       "      <td>395</td>\n",
       "      <td>2.58</td>\n",
       "    </tr>\n",
       "    <tr>\n",
       "      <td>2</td>\n",
       "      <td>закусочная</td>\n",
       "      <td>349</td>\n",
       "      <td>2.28</td>\n",
       "    </tr>\n",
       "    <tr>\n",
       "      <td>5</td>\n",
       "      <td>магазин (отдел кулинарии)</td>\n",
       "      <td>273</td>\n",
       "      <td>1.79</td>\n",
       "    </tr>\n",
       "  </tbody>\n",
       "</table>\n",
       "</div>"
      ],
      "text/plain": [
       "                         object_type  number  percent\n",
       "3                               кафе    6071    39.72\n",
       "8                           столовая    2584    16.91\n",
       "7                           ресторан    2282    14.93\n",
       "6  предприятие быстрого обслуживания    1898    12.42\n",
       "0                                бар     855     5.59\n",
       "1                              буфет     577     3.78\n",
       "4                          кафетерий     395     2.58\n",
       "2                         закусочная     349     2.28\n",
       "5          магазин (отдел кулинарии)     273     1.79"
      ]
     },
     "execution_count": 5,
     "metadata": {},
     "output_type": "execute_result"
    }
   ],
   "source": [
    "#соотношение видов объектов общественного питания\n",
    "types = data.groupby('object_type').agg({'id':'count'}).reset_index()\n",
    "types.columns = ['object_type','number']\n",
    "types['percent'] = round(types['number']*100 / types['number'].sum(), 2)\n",
    "types = types.sort_values(by='percent', ascending= False)\n",
    "types"
   ]
  },
  {
   "cell_type": "code",
   "execution_count": 6,
   "metadata": {},
   "outputs": [
    {
     "data": {
      "text/plain": [
       "(array([0, 1, 2, 3, 4, 5, 6, 7, 8]), <a list of 9 Text xticklabel objects>)"
      ]
     },
     "execution_count": 6,
     "metadata": {},
     "output_type": "execute_result"
    },
    {
     "data": {
      "image/png": "[encoded data removed]",
      "text/plain": [
       "<Figure size 864x576 with 1 Axes>"
      ]
     },
     "metadata": {},
     "output_type": "display_data"
    }
   ],
   "source": [
    "#график соотношения видов объектов общественного питания по количеству\n",
    "sns.set(rc = {'figure.figsize':(12,8)})\n",
    "g1 = sns.barplot(data=types, x='object_type', y='percent')\n",
    "g1.set_title('Соотношение видов объектов общественного питания')\n",
    "g1.set_ylabel('Доля вида объекта')\n",
    "g1.set_xlabel('Вид объекта общественного питания')\n",
    "plt.xticks(rotation = 50)"
   ]
  },
  {
   "cell_type": "markdown",
   "metadata": {},
   "source": [
    "Среди объектов общественного питания преобладают кафе (39.7%) и столовые (16.8%), а самые не популярные это кулинарии в магазинах (1.8%) и закусочные (2.3%) "
   ]
  },
  {
   "cell_type": "code",
   "execution_count": 7,
   "metadata": {},
   "outputs": [
    {
     "data": {
      "text/html": [
       "<div>\n",
       "<style scoped>\n",
       "    .dataframe tbody tr th:only-of-type {\n",
       "        vertical-align: middle;\n",
       "    }\n",
       "\n",
       "    .dataframe tbody tr th {\n",
       "        vertical-align: top;\n",
       "    }\n",
       "\n",
       "    .dataframe thead th {\n",
       "        text-align: right;\n",
       "    }\n",
       "</style>\n",
       "<table border=\"1\" class=\"dataframe\">\n",
       "  <thead>\n",
       "    <tr style=\"text-align: right;\">\n",
       "      <th></th>\n",
       "      <th>chain</th>\n",
       "      <th>number</th>\n",
       "      <th>percent</th>\n",
       "    </tr>\n",
       "  </thead>\n",
       "  <tbody>\n",
       "    <tr>\n",
       "      <td>0</td>\n",
       "      <td>False</td>\n",
       "      <td>12320</td>\n",
       "      <td>80.61</td>\n",
       "    </tr>\n",
       "    <tr>\n",
       "      <td>1</td>\n",
       "      <td>True</td>\n",
       "      <td>2964</td>\n",
       "      <td>19.39</td>\n",
       "    </tr>\n",
       "  </tbody>\n",
       "</table>\n",
       "</div>"
      ],
      "text/plain": [
       "   chain  number  percent\n",
       "0  False   12320    80.61\n",
       "1   True    2964    19.39"
      ]
     },
     "execution_count": 7,
     "metadata": {},
     "output_type": "execute_result"
    }
   ],
   "source": [
    "# соотношение сетевых и несетевых заведений \n",
    "network = data.groupby('chain').agg({'id':'count'}).reset_index()\n",
    "network.columns = ['chain','number']\n",
    "network['percent'] = round(network['number']*100 / network['number'].sum(), 2)\n",
    "network = network.sort_values(by='percent', ascending= False)\n",
    "network"
   ]
  },
  {
   "cell_type": "code",
   "execution_count": 8,
   "metadata": {},
   "outputs": [
    {
     "data": {
      "text/plain": [
       "Text(0.5, 0, 'Является ли объект сетевым?')"
      ]
     },
     "execution_count": 8,
     "metadata": {},
     "output_type": "execute_result"
    },
    {
     "data": {
      "image/png": "[encoded data removed]",
      "text/plain": [
       "<Figure size 864x576 with 1 Axes>"
      ]
     },
     "metadata": {},
     "output_type": "display_data"
    }
   ],
   "source": [
    "# грфик соотношения сетевых и несетевых заведений \n",
    "g2 = sns.barplot(data=network, x='chain', y='percent')\n",
    "g2.set_title('Cоотношение сетевых и несетевых заведений')\n",
    "g2.set_ylabel('Доля вида объекта')\n",
    "g2.set_xlabel('Является ли объект сетевым?')"
   ]
  },
  {
   "cell_type": "markdown",
   "metadata": {},
   "source": [
    "Толко около 20% объектов общественного питания являются сетевыми."
   ]
  },
  {
   "cell_type": "code",
   "execution_count": 9,
   "metadata": {},
   "outputs": [
    {
     "data": {
      "text/html": [
       "<div>\n",
       "<style scoped>\n",
       "    .dataframe tbody tr th:only-of-type {\n",
       "        vertical-align: middle;\n",
       "    }\n",
       "\n",
       "    .dataframe tbody tr th {\n",
       "        vertical-align: top;\n",
       "    }\n",
       "\n",
       "    .dataframe thead th {\n",
       "        text-align: right;\n",
       "    }\n",
       "</style>\n",
       "<table border=\"1\" class=\"dataframe\">\n",
       "  <thead>\n",
       "    <tr style=\"text-align: right;\">\n",
       "      <th>chain</th>\n",
       "      <th>object_type</th>\n",
       "      <th>False</th>\n",
       "      <th>True</th>\n",
       "      <th>chain_percent</th>\n",
       "    </tr>\n",
       "  </thead>\n",
       "  <tbody>\n",
       "    <tr>\n",
       "      <td>6</td>\n",
       "      <td>предприятие быстрого обслуживания</td>\n",
       "      <td>1110</td>\n",
       "      <td>788</td>\n",
       "      <td>41.52</td>\n",
       "    </tr>\n",
       "    <tr>\n",
       "      <td>5</td>\n",
       "      <td>магазин (отдел кулинарии)</td>\n",
       "      <td>195</td>\n",
       "      <td>78</td>\n",
       "      <td>28.57</td>\n",
       "    </tr>\n",
       "    <tr>\n",
       "      <td>7</td>\n",
       "      <td>ресторан</td>\n",
       "      <td>1739</td>\n",
       "      <td>543</td>\n",
       "      <td>23.79</td>\n",
       "    </tr>\n",
       "    <tr>\n",
       "      <td>3</td>\n",
       "      <td>кафе</td>\n",
       "      <td>4675</td>\n",
       "      <td>1396</td>\n",
       "      <td>22.99</td>\n",
       "    </tr>\n",
       "    <tr>\n",
       "      <td>2</td>\n",
       "      <td>закусочная</td>\n",
       "      <td>293</td>\n",
       "      <td>56</td>\n",
       "      <td>16.05</td>\n",
       "    </tr>\n",
       "    <tr>\n",
       "      <td>4</td>\n",
       "      <td>кафетерий</td>\n",
       "      <td>343</td>\n",
       "      <td>52</td>\n",
       "      <td>13.16</td>\n",
       "    </tr>\n",
       "    <tr>\n",
       "      <td>0</td>\n",
       "      <td>бар</td>\n",
       "      <td>818</td>\n",
       "      <td>37</td>\n",
       "      <td>4.33</td>\n",
       "    </tr>\n",
       "    <tr>\n",
       "      <td>1</td>\n",
       "      <td>буфет</td>\n",
       "      <td>566</td>\n",
       "      <td>11</td>\n",
       "      <td>1.91</td>\n",
       "    </tr>\n",
       "    <tr>\n",
       "      <td>8</td>\n",
       "      <td>столовая</td>\n",
       "      <td>2581</td>\n",
       "      <td>3</td>\n",
       "      <td>0.12</td>\n",
       "    </tr>\n",
       "  </tbody>\n",
       "</table>\n",
       "</div>"
      ],
      "text/plain": [
       "chain                        object_type  False  True  chain_percent\n",
       "6      предприятие быстрого обслуживания   1110   788          41.52\n",
       "5              магазин (отдел кулинарии)    195    78          28.57\n",
       "7                               ресторан   1739   543          23.79\n",
       "3                                   кафе   4675  1396          22.99\n",
       "2                             закусочная    293    56          16.05\n",
       "4                              кафетерий    343    52          13.16\n",
       "0                                    бар    818    37           4.33\n",
       "1                                  буфет    566    11           1.91\n",
       "8                               столовая   2581     3           0.12"
      ]
     },
     "execution_count": 9,
     "metadata": {},
     "output_type": "execute_result"
    }
   ],
   "source": [
    "#Для какого вида объекта общественного питания характерно сетевое распространение\n",
    "chain_type = data.pivot_table(index='object_type' , columns='chain', values='id',aggfunc='count') \n",
    "chain_type['chain_percent'] = round((chain_type[True]*100 / (chain_type[True]+chain_type[False])),2) \n",
    "chain_type = chain_type.reset_index(drop= False) \n",
    "chain_type = chain_type.sort_values(by= 'chain_percent', ascending= False)\n",
    "chain_type"
   ]
  },
  {
   "cell_type": "code",
   "execution_count": 10,
   "metadata": {},
   "outputs": [
    {
     "data": {
      "text/plain": [
       "(array([0, 1, 2, 3, 4, 5, 6, 7, 8]), <a list of 9 Text xticklabel objects>)"
      ]
     },
     "execution_count": 10,
     "metadata": {},
     "output_type": "execute_result"
    },
    {
     "data": {
      "image/png": "[encoded data removed]",
      "text/plain": [
       "<Figure size 864x576 with 1 Axes>"
      ]
     },
     "metadata": {},
     "output_type": "display_data"
    }
   ],
   "source": [
    "#График доли сетевых заведений среди рахных видов объектов общественного питания\n",
    "g3 = sns.barplot(data=chain_type, x='object_type' , y='chain_percent')\n",
    "g3.set_title('Доля сетевых заведений по виду объекта общественного питания')\n",
    "g3.set_ylabel('Доля сетевых заведений')\n",
    "g3.set_xlabel('Вид объекта общественного питания')\n",
    "plt.xticks(rotation = 50)"
   ]
  },
  {
   "cell_type": "markdown",
   "metadata": {},
   "source": [
    "Сетевые объекты больше популярные среди прдприятий быстрого обслуживания, магазинов, ресторанов и кафе. В то время как сетевые не популярные среди столовых, буфетов и баров. "
   ]
  },
  {
   "cell_type": "code",
   "execution_count": 11,
   "metadata": {},
   "outputs": [
    {
     "data": {
      "text/html": [
       "<div>\n",
       "<style scoped>\n",
       "    .dataframe tbody tr th:only-of-type {\n",
       "        vertical-align: middle;\n",
       "    }\n",
       "\n",
       "    .dataframe tbody tr th {\n",
       "        vertical-align: top;\n",
       "    }\n",
       "\n",
       "    .dataframe thead th {\n",
       "        text-align: right;\n",
       "    }\n",
       "</style>\n",
       "<table border=\"1\" class=\"dataframe\">\n",
       "  <thead>\n",
       "    <tr style=\"text-align: right;\">\n",
       "      <th></th>\n",
       "      <th>id</th>\n",
       "      <th>number</th>\n",
       "    </tr>\n",
       "  </thead>\n",
       "  <tbody>\n",
       "    <tr>\n",
       "      <td>count</td>\n",
       "      <td>724.000000</td>\n",
       "      <td>724.000000</td>\n",
       "    </tr>\n",
       "    <tr>\n",
       "      <td>mean</td>\n",
       "      <td>4.093923</td>\n",
       "      <td>60.322928</td>\n",
       "    </tr>\n",
       "    <tr>\n",
       "      <td>std</td>\n",
       "      <td>12.601654</td>\n",
       "      <td>56.132975</td>\n",
       "    </tr>\n",
       "    <tr>\n",
       "      <td>min</td>\n",
       "      <td>1.000000</td>\n",
       "      <td>0.000000</td>\n",
       "    </tr>\n",
       "    <tr>\n",
       "      <td>25%</td>\n",
       "      <td>1.000000</td>\n",
       "      <td>20.000000</td>\n",
       "    </tr>\n",
       "    <tr>\n",
       "      <td>50%</td>\n",
       "      <td>1.000000</td>\n",
       "      <td>45.000000</td>\n",
       "    </tr>\n",
       "    <tr>\n",
       "      <td>75%</td>\n",
       "      <td>2.000000</td>\n",
       "      <td>83.625000</td>\n",
       "    </tr>\n",
       "    <tr>\n",
       "      <td>max</td>\n",
       "      <td>155.000000</td>\n",
       "      <td>356.000000</td>\n",
       "    </tr>\n",
       "  </tbody>\n",
       "</table>\n",
       "</div>"
      ],
      "text/plain": [
       "               id      number\n",
       "count  724.000000  724.000000\n",
       "mean     4.093923   60.322928\n",
       "std     12.601654   56.132975\n",
       "min      1.000000    0.000000\n",
       "25%      1.000000   20.000000\n",
       "50%      1.000000   45.000000\n",
       "75%      2.000000   83.625000\n",
       "max    155.000000  356.000000"
      ]
     },
     "execution_count": 11,
     "metadata": {},
     "output_type": "execute_result"
    }
   ],
   "source": [
    "#Характеристики сетевых заведений\n",
    "network2 = data[data['chain'] == True].groupby('object_name').agg({'id':'count', 'number':'mean'}).reset_index()\n",
    "network2.describe()"
   ]
  },
  {
   "cell_type": "markdown",
   "metadata": {},
   "source": [
    "Большинство сетей имеет 1 или 2 заведения. В средним около 60 посадочных мест в каждом заведений. Это означает что Для сетевых заведений характерно мало заведений с средним или большим числом посадочных мест. "
   ]
  },
  {
   "cell_type": "code",
   "execution_count": 12,
   "metadata": {},
   "outputs": [
    {
     "data": {
      "text/html": [
       "<div>\n",
       "<style scoped>\n",
       "    .dataframe tbody tr th:only-of-type {\n",
       "        vertical-align: middle;\n",
       "    }\n",
       "\n",
       "    .dataframe tbody tr th {\n",
       "        vertical-align: top;\n",
       "    }\n",
       "\n",
       "    .dataframe thead th {\n",
       "        text-align: right;\n",
       "    }\n",
       "</style>\n",
       "<table border=\"1\" class=\"dataframe\">\n",
       "  <thead>\n",
       "    <tr style=\"text-align: right;\">\n",
       "      <th></th>\n",
       "      <th>object_type</th>\n",
       "      <th>number_mean</th>\n",
       "    </tr>\n",
       "  </thead>\n",
       "  <tbody>\n",
       "    <tr>\n",
       "      <td>8</td>\n",
       "      <td>столовая</td>\n",
       "      <td>130.0</td>\n",
       "    </tr>\n",
       "    <tr>\n",
       "      <td>7</td>\n",
       "      <td>ресторан</td>\n",
       "      <td>97.0</td>\n",
       "    </tr>\n",
       "    <tr>\n",
       "      <td>1</td>\n",
       "      <td>буфет</td>\n",
       "      <td>52.0</td>\n",
       "    </tr>\n",
       "    <tr>\n",
       "      <td>0</td>\n",
       "      <td>бар</td>\n",
       "      <td>44.0</td>\n",
       "    </tr>\n",
       "    <tr>\n",
       "      <td>3</td>\n",
       "      <td>кафе</td>\n",
       "      <td>40.0</td>\n",
       "    </tr>\n",
       "    <tr>\n",
       "      <td>6</td>\n",
       "      <td>предприятие быстрого обслуживания</td>\n",
       "      <td>21.0</td>\n",
       "    </tr>\n",
       "    <tr>\n",
       "      <td>4</td>\n",
       "      <td>кафетерий</td>\n",
       "      <td>9.0</td>\n",
       "    </tr>\n",
       "    <tr>\n",
       "      <td>2</td>\n",
       "      <td>закусочная</td>\n",
       "      <td>8.0</td>\n",
       "    </tr>\n",
       "    <tr>\n",
       "      <td>5</td>\n",
       "      <td>магазин (отдел кулинарии)</td>\n",
       "      <td>6.0</td>\n",
       "    </tr>\n",
       "  </tbody>\n",
       "</table>\n",
       "</div>"
      ],
      "text/plain": [
       "                         object_type  number_mean\n",
       "8                           столовая        130.0\n",
       "7                           ресторан         97.0\n",
       "1                              буфет         52.0\n",
       "0                                бар         44.0\n",
       "3                               кафе         40.0\n",
       "6  предприятие быстрого обслуживания         21.0\n",
       "4                          кафетерий          9.0\n",
       "2                         закусочная          8.0\n",
       "5          магазин (отдел кулинарии)          6.0"
      ]
     },
     "execution_count": 12,
     "metadata": {},
     "output_type": "execute_result"
    }
   ],
   "source": [
    "#рассчет среднего количества посадочных мест по виду объекта\n",
    "types2 = data.groupby('object_type').agg({'number':'mean'}).reset_index()\n",
    "types2.columns = ['object_type','number_mean']\n",
    "types2['number_mean'] = round(types2['number_mean'])\n",
    "types2 = types2.sort_values(by='number_mean', ascending= False)\n",
    "types2"
   ]
  },
  {
   "cell_type": "code",
   "execution_count": 13,
   "metadata": {},
   "outputs": [
    {
     "data": {
      "text/plain": [
       "(array([0, 1, 2, 3, 4, 5, 6, 7, 8]), <a list of 9 Text xticklabel objects>)"
      ]
     },
     "execution_count": 13,
     "metadata": {},
     "output_type": "execute_result"
    },
    {
     "data": {
      "image/png": "[encoded data removed]",
      "text/plain": [
       "<Figure size 864x576 with 1 Axes>"
      ]
     },
     "metadata": {},
     "output_type": "display_data"
    }
   ],
   "source": [
    "#график среднего количества посадочных мест по виду объекта\n",
    "g4 = sns.barplot(data=types2, x='object_type', y='number_mean')\n",
    "g4.set_title('Cреднее количество посадочных мест по виду объекта общественного питания')\n",
    "g4.set_ylabel('Cреднее количество посадочных мест')\n",
    "g4.set_xlabel('Вид объекта общественного питания')\n",
    "plt.xticks(rotation = 50)"
   ]
  },
  {
   "cell_type": "markdown",
   "metadata": {},
   "source": [
    "Столовые и рестораны имеют наибольшие посадочные места, 130 и 97, соответственно. А кулинарии и закусочные имеют наименьшие количества посадочных мест. "
   ]
  },
  {
   "cell_type": "code",
   "execution_count": 14,
   "metadata": {},
   "outputs": [],
   "source": [
    "# выделение названий улиц\n",
    "words = ['улица','ул','переулок','шоссе','проспект','площадь','проезд','село','аллея','бульвар','набережная','тупик','линия']\n",
    "str_pat = r\".*,\\s*\\b([^,]*?(?:{})\\b[^,]*)[,$]+\".format(\"|\".join(words))\n",
    "data['streetname'] = data['address'].str.extract(str_pat, flags=re.I)"
   ]
  },
  {
   "cell_type": "code",
   "execution_count": 15,
   "metadata": {},
   "outputs": [
    {
     "data": {
      "text/html": [
       "<div>\n",
       "<style scoped>\n",
       "    .dataframe tbody tr th:only-of-type {\n",
       "        vertical-align: middle;\n",
       "    }\n",
       "\n",
       "    .dataframe tbody tr th {\n",
       "        vertical-align: top;\n",
       "    }\n",
       "\n",
       "    .dataframe thead th {\n",
       "        text-align: right;\n",
       "    }\n",
       "</style>\n",
       "<table border=\"1\" class=\"dataframe\">\n",
       "  <thead>\n",
       "    <tr style=\"text-align: right;\">\n",
       "      <th></th>\n",
       "      <th>street</th>\n",
       "      <th>rest_number</th>\n",
       "    </tr>\n",
       "  </thead>\n",
       "  <tbody>\n",
       "    <tr>\n",
       "      <td>1418</td>\n",
       "      <td>проспект Мира</td>\n",
       "      <td>204</td>\n",
       "    </tr>\n",
       "    <tr>\n",
       "      <td>1009</td>\n",
       "      <td>Профсоюзная улица</td>\n",
       "      <td>181</td>\n",
       "    </tr>\n",
       "    <tr>\n",
       "      <td>683</td>\n",
       "      <td>Ленинградский проспект</td>\n",
       "      <td>170</td>\n",
       "    </tr>\n",
       "    <tr>\n",
       "      <td>993</td>\n",
       "      <td>Пресненская набережная</td>\n",
       "      <td>167</td>\n",
       "    </tr>\n",
       "    <tr>\n",
       "      <td>397</td>\n",
       "      <td>Варшавское шоссе</td>\n",
       "      <td>164</td>\n",
       "    </tr>\n",
       "    <tr>\n",
       "      <td>686</td>\n",
       "      <td>Ленинский проспект</td>\n",
       "      <td>147</td>\n",
       "    </tr>\n",
       "    <tr>\n",
       "      <td>1414</td>\n",
       "      <td>проспект Вернадского</td>\n",
       "      <td>128</td>\n",
       "    </tr>\n",
       "    <tr>\n",
       "      <td>673</td>\n",
       "      <td>Кутузовский проспект</td>\n",
       "      <td>114</td>\n",
       "    </tr>\n",
       "    <tr>\n",
       "      <td>596</td>\n",
       "      <td>Каширское шоссе</td>\n",
       "      <td>111</td>\n",
       "    </tr>\n",
       "    <tr>\n",
       "      <td>603</td>\n",
       "      <td>Кировоградская улица</td>\n",
       "      <td>108</td>\n",
       "    </tr>\n",
       "  </tbody>\n",
       "</table>\n",
       "</div>"
      ],
      "text/plain": [
       "                      street  rest_number\n",
       "1418           проспект Мира          204\n",
       "1009       Профсоюзная улица          181\n",
       "683   Ленинградский проспект          170\n",
       "993   Пресненская набережная          167\n",
       "397         Варшавское шоссе          164\n",
       "686       Ленинский проспект          147\n",
       "1414    проспект Вернадского          128\n",
       "673     Кутузовский проспект          114\n",
       "596          Каширское шоссе          111\n",
       "603     Кировоградская улица          108"
      ]
     },
     "execution_count": 15,
     "metadata": {},
     "output_type": "execute_result"
    }
   ],
   "source": [
    "# Определение топ-улиц по количеству заведений\n",
    "top_streets = data.groupby('streetname').agg({'id':'count'}).reset_index()\n",
    "top_streets.columns = ['street','rest_number']\n",
    "top_streets2 = top_streets.sort_values(by= 'rest_number', ascending= False).head(10)\n",
    "top_streets2"
   ]
  },
  {
   "cell_type": "code",
   "execution_count": 16,
   "metadata": {},
   "outputs": [],
   "source": [
    "# Список названий топ-10 улиц\n",
    "ten_street_names = []\n",
    "for i in top_streets2['street']:\n",
    "    resultwords  = [word for word in re.split(\"\\W+\",i) if word.lower() not in words]\n",
    "    ten_street_names.append(' '.join(resultwords))"
   ]
  },
  {
   "cell_type": "code",
   "execution_count": 17,
   "metadata": {
    "scrolled": false
   },
   "outputs": [
    {
     "data": {
      "text/plain": [
       "(array([0, 1, 2, 3, 4, 5, 6, 7, 8, 9]), <a list of 10 Text xticklabel objects>)"
      ]
     },
     "execution_count": 17,
     "metadata": {},
     "output_type": "execute_result"
    },
    {
     "data": {
      "image/png": "[encoded data removed]",
      "text/plain": [
       "<Figure size 864x576 with 1 Axes>"
      ]
     },
     "metadata": {},
     "output_type": "display_data"
    }
   ],
   "source": [
    "# график топ-10 улиц\n",
    "g5 = sns.barplot(data=top_streets2, x='street', y='rest_number')\n",
    "g5.set_title('Топ-10 улиц по количеству объектов общественного питания')\n",
    "g5.set_ylabel('Улица')\n",
    "g5.set_xlabel('Число объектов')\n",
    "plt.xticks(rotation = 50)"
   ]
  },
  {
   "cell_type": "code",
   "execution_count": 18,
   "metadata": {},
   "outputs": [
    {
     "data": {
      "text/html": [
       "<div>\n",
       "<style scoped>\n",
       "    .dataframe tbody tr th:only-of-type {\n",
       "        vertical-align: middle;\n",
       "    }\n",
       "\n",
       "    .dataframe tbody tr th {\n",
       "        vertical-align: top;\n",
       "    }\n",
       "\n",
       "    .dataframe thead th {\n",
       "        text-align: right;\n",
       "    }\n",
       "</style>\n",
       "<table border=\"1\" class=\"dataframe\">\n",
       "  <thead>\n",
       "    <tr style=\"text-align: right;\">\n",
       "      <th></th>\n",
       "      <th>area_id</th>\n",
       "      <th>full_address</th>\n",
       "      <th>city</th>\n",
       "      <th>address</th>\n",
       "      <th>street_prefix</th>\n",
       "      <th>street_name</th>\n",
       "      <th>building</th>\n",
       "      <th>house_id</th>\n",
       "      <th>area_name</th>\n",
       "      <th>house_year</th>\n",
       "    </tr>\n",
       "  </thead>\n",
       "  <tbody>\n",
       "    <tr>\n",
       "      <td>0</td>\n",
       "      <td>2281084</td>\n",
       "      <td>г Москва п Загорье д.10</td>\n",
       "      <td>Москва</td>\n",
       "      <td>п Загорье д.10</td>\n",
       "      <td>п</td>\n",
       "      <td>Загорье</td>\n",
       "      <td>д.10</td>\n",
       "      <td>7569627</td>\n",
       "      <td>муниципальный округ Бирюлево Восточное</td>\n",
       "      <td>1968</td>\n",
       "    </tr>\n",
       "    <tr>\n",
       "      <td>1</td>\n",
       "      <td>2281084</td>\n",
       "      <td>г Москва п Загорье д.3</td>\n",
       "      <td>Москва</td>\n",
       "      <td>п Загорье д.3</td>\n",
       "      <td>п</td>\n",
       "      <td>Загорье</td>\n",
       "      <td>д.3</td>\n",
       "      <td>7569823</td>\n",
       "      <td>муниципальный округ Бирюлево Восточное</td>\n",
       "      <td>1964</td>\n",
       "    </tr>\n",
       "    <tr>\n",
       "      <td>2</td>\n",
       "      <td>2281084</td>\n",
       "      <td>г Москва п Загорье д.4</td>\n",
       "      <td>Москва</td>\n",
       "      <td>п Загорье д.4</td>\n",
       "      <td>п</td>\n",
       "      <td>Загорье</td>\n",
       "      <td>д.4</td>\n",
       "      <td>7569840</td>\n",
       "      <td>муниципальный округ Бирюлево Восточное</td>\n",
       "      <td>1972</td>\n",
       "    </tr>\n",
       "    <tr>\n",
       "      <td>3</td>\n",
       "      <td>2281084</td>\n",
       "      <td>г Москва п Загорье д.5</td>\n",
       "      <td>Москва</td>\n",
       "      <td>п Загорье д.5</td>\n",
       "      <td>п</td>\n",
       "      <td>Загорье</td>\n",
       "      <td>д.5</td>\n",
       "      <td>7569862</td>\n",
       "      <td>муниципальный округ Бирюлево Восточное</td>\n",
       "      <td>1963</td>\n",
       "    </tr>\n",
       "    <tr>\n",
       "      <td>4</td>\n",
       "      <td>2281084</td>\n",
       "      <td>г Москва п Загорье д.8</td>\n",
       "      <td>Москва</td>\n",
       "      <td>п Загорье д.8</td>\n",
       "      <td>п</td>\n",
       "      <td>Загорье</td>\n",
       "      <td>д.8</td>\n",
       "      <td>7569888</td>\n",
       "      <td>муниципальный округ Бирюлево Восточное</td>\n",
       "      <td>1963</td>\n",
       "    </tr>\n",
       "  </tbody>\n",
       "</table>\n",
       "</div>"
      ],
      "text/plain": [
       "   area_id             full_address    city         address street_prefix  \\\n",
       "0  2281084  г Москва п Загорье д.10  Москва  п Загорье д.10             п   \n",
       "1  2281084   г Москва п Загорье д.3  Москва   п Загорье д.3             п   \n",
       "2  2281084   г Москва п Загорье д.4  Москва   п Загорье д.4             п   \n",
       "3  2281084   г Москва п Загорье д.5  Москва   п Загорье д.5             п   \n",
       "4  2281084   г Москва п Загорье д.8  Москва   п Загорье д.8             п   \n",
       "\n",
       "  street_name building  house_id                               area_name  \\\n",
       "0     Загорье     д.10   7569627  муниципальный округ Бирюлево Восточное   \n",
       "1     Загорье      д.3   7569823  муниципальный округ Бирюлево Восточное   \n",
       "2     Загорье      д.4   7569840  муниципальный округ Бирюлево Восточное   \n",
       "3     Загорье      д.5   7569862  муниципальный округ Бирюлево Восточное   \n",
       "4     Загорье      д.8   7569888  муниципальный округ Бирюлево Восточное   \n",
       "\n",
       "  house_year  \n",
       "0       1968  \n",
       "1       1964  \n",
       "2       1972  \n",
       "3       1963  \n",
       "4       1963  "
      ]
     },
     "execution_count": 18,
     "metadata": {},
     "output_type": "execute_result"
    }
   ],
   "source": [
    "#импорт датасета с названиями районов Москвы\n",
    "spreadsheet_id = \"1pY2pz9mSDGn3OO_b2JuOECU5ABopxJE4-UiaRaF-xrQ\"\n",
    "file_name = 'https://docs.google.com/spreadsheets/d/{}/export?format=csv'.format(spreadsheet_id)\n",
    "r = requests.get(file_name)\n",
    "df = pd.read_csv(BytesIO(r.content))\n",
    "df.head()"
   ]
  },
  {
   "cell_type": "code",
   "execution_count": 19,
   "metadata": {},
   "outputs": [
    {
     "data": {
      "text/html": [
       "<div>\n",
       "<style scoped>\n",
       "    .dataframe tbody tr th:only-of-type {\n",
       "        vertical-align: middle;\n",
       "    }\n",
       "\n",
       "    .dataframe tbody tr th {\n",
       "        vertical-align: top;\n",
       "    }\n",
       "\n",
       "    .dataframe thead th {\n",
       "        text-align: right;\n",
       "    }\n",
       "</style>\n",
       "<table border=\"1\" class=\"dataframe\">\n",
       "  <thead>\n",
       "    <tr style=\"text-align: right;\">\n",
       "      <th></th>\n",
       "      <th>street_name</th>\n",
       "      <th>area_name</th>\n",
       "    </tr>\n",
       "  </thead>\n",
       "  <tbody>\n",
       "    <tr>\n",
       "      <td>0</td>\n",
       "      <td>Загорье</td>\n",
       "      <td>муниципальный округ Бирюлево Восточное</td>\n",
       "    </tr>\n",
       "    <tr>\n",
       "      <td>1</td>\n",
       "      <td>Загорьевский</td>\n",
       "      <td>муниципальный округ Бирюлево Восточное</td>\n",
       "    </tr>\n",
       "    <tr>\n",
       "      <td>2</td>\n",
       "      <td>Михневский</td>\n",
       "      <td>муниципальный округ Бирюлево Восточное</td>\n",
       "    </tr>\n",
       "    <tr>\n",
       "      <td>3</td>\n",
       "      <td>Бирюлевская</td>\n",
       "      <td>муниципальный округ Бирюлево Восточное</td>\n",
       "    </tr>\n",
       "    <tr>\n",
       "      <td>4</td>\n",
       "      <td>Донбасская</td>\n",
       "      <td>муниципальный округ Бирюлево Восточное</td>\n",
       "    </tr>\n",
       "  </tbody>\n",
       "</table>\n",
       "</div>"
      ],
      "text/plain": [
       "    street_name                               area_name\n",
       "0       Загорье  муниципальный округ Бирюлево Восточное\n",
       "1  Загорьевский  муниципальный округ Бирюлево Восточное\n",
       "2    Михневский  муниципальный округ Бирюлево Восточное\n",
       "3   Бирюлевская  муниципальный округ Бирюлево Восточное\n",
       "4    Донбасская  муниципальный округ Бирюлево Восточное"
      ]
     },
     "execution_count": 19,
     "metadata": {},
     "output_type": "execute_result"
    }
   ],
   "source": [
    "#выделений названий улиц  с соответсующими районами \n",
    "moscow_areas = df[['street_name','area_name']].drop_duplicates().reset_index(drop=True)\n",
    "moscow_areas.head()"
   ]
  },
  {
   "cell_type": "code",
   "execution_count": 20,
   "metadata": {},
   "outputs": [
    {
     "data": {
      "text/html": [
       "<div>\n",
       "<style scoped>\n",
       "    .dataframe tbody tr th:only-of-type {\n",
       "        vertical-align: middle;\n",
       "    }\n",
       "\n",
       "    .dataframe tbody tr th {\n",
       "        vertical-align: top;\n",
       "    }\n",
       "\n",
       "    .dataframe thead th {\n",
       "        text-align: right;\n",
       "    }\n",
       "</style>\n",
       "<table border=\"1\" class=\"dataframe\">\n",
       "  <thead>\n",
       "    <tr style=\"text-align: right;\">\n",
       "      <th></th>\n",
       "      <th>street_name</th>\n",
       "      <th>area_name</th>\n",
       "    </tr>\n",
       "  </thead>\n",
       "  <tbody>\n",
       "    <tr>\n",
       "      <td>0</td>\n",
       "      <td>Ленинский</td>\n",
       "      <td>муниципальный округ Донской</td>\n",
       "    </tr>\n",
       "    <tr>\n",
       "      <td>1</td>\n",
       "      <td>Варшавское</td>\n",
       "      <td>муниципальный округ Донской</td>\n",
       "    </tr>\n",
       "    <tr>\n",
       "      <td>2</td>\n",
       "      <td>Каширское</td>\n",
       "      <td>муниципальный округ Москворечье-Сабурово</td>\n",
       "    </tr>\n",
       "    <tr>\n",
       "      <td>3</td>\n",
       "      <td>Варшавское</td>\n",
       "      <td>муниципальный округ Нагатино-Садовники</td>\n",
       "    </tr>\n",
       "    <tr>\n",
       "      <td>4</td>\n",
       "      <td>Каширское</td>\n",
       "      <td>муниципальный округ Нагатино-Садовники</td>\n",
       "    </tr>\n",
       "    <tr>\n",
       "      <td>5</td>\n",
       "      <td>Варшавское</td>\n",
       "      <td>муниципальный округ Нагорный</td>\n",
       "    </tr>\n",
       "    <tr>\n",
       "      <td>6</td>\n",
       "      <td>Каширское</td>\n",
       "      <td>муниципальный округ Орехово-Борисово Северное</td>\n",
       "    </tr>\n",
       "    <tr>\n",
       "      <td>7</td>\n",
       "      <td>Каширское</td>\n",
       "      <td>муниципальный округ Орехово-Борисово Южное</td>\n",
       "    </tr>\n",
       "    <tr>\n",
       "      <td>8</td>\n",
       "      <td>Ленинградский</td>\n",
       "      <td>муниципальный округ Чертаново Северное</td>\n",
       "    </tr>\n",
       "    <tr>\n",
       "      <td>9</td>\n",
       "      <td>Кировоградская</td>\n",
       "      <td>муниципальный округ Чертаново Северное</td>\n",
       "    </tr>\n",
       "    <tr>\n",
       "      <td>10</td>\n",
       "      <td>Варшавское</td>\n",
       "      <td>муниципальный округ Чертаново Северное</td>\n",
       "    </tr>\n",
       "    <tr>\n",
       "      <td>11</td>\n",
       "      <td>Кировоградская</td>\n",
       "      <td>муниципальный округ Чертаново Центральное</td>\n",
       "    </tr>\n",
       "    <tr>\n",
       "      <td>12</td>\n",
       "      <td>Варшавское</td>\n",
       "      <td>муниципальный округ Чертаново Центральное</td>\n",
       "    </tr>\n",
       "    <tr>\n",
       "      <td>13</td>\n",
       "      <td>Кировоградская</td>\n",
       "      <td>муниципальный округ Чертаново Южное</td>\n",
       "    </tr>\n",
       "    <tr>\n",
       "      <td>14</td>\n",
       "      <td>Варшавское</td>\n",
       "      <td>муниципальный округ Чертаново Южное</td>\n",
       "    </tr>\n",
       "    <tr>\n",
       "      <td>15</td>\n",
       "      <td>Профсоюзная</td>\n",
       "      <td>муниципальный округ Академический</td>\n",
       "    </tr>\n",
       "    <tr>\n",
       "      <td>16</td>\n",
       "      <td>Вернадского</td>\n",
       "      <td>муниципальный округ Гагаринский</td>\n",
       "    </tr>\n",
       "    <tr>\n",
       "      <td>17</td>\n",
       "      <td>Ленинский</td>\n",
       "      <td>муниципальный округ Гагаринский</td>\n",
       "    </tr>\n",
       "    <tr>\n",
       "      <td>18</td>\n",
       "      <td>Профсоюзная</td>\n",
       "      <td>муниципальный округ Коньково</td>\n",
       "    </tr>\n",
       "    <tr>\n",
       "      <td>19</td>\n",
       "      <td>Вернадского</td>\n",
       "      <td>муниципальный округ Ломоносовский</td>\n",
       "    </tr>\n",
       "    <tr>\n",
       "      <td>20</td>\n",
       "      <td>Ленинский</td>\n",
       "      <td>муниципальный округ Ломоносовский</td>\n",
       "    </tr>\n",
       "    <tr>\n",
       "      <td>21</td>\n",
       "      <td>Ленинский</td>\n",
       "      <td>муниципальный округ Обручевский</td>\n",
       "    </tr>\n",
       "    <tr>\n",
       "      <td>22</td>\n",
       "      <td>Профсоюзная</td>\n",
       "      <td>муниципальный округ Обручевский</td>\n",
       "    </tr>\n",
       "    <tr>\n",
       "      <td>23</td>\n",
       "      <td>Ленинский</td>\n",
       "      <td>муниципальный округ Теплый Стан</td>\n",
       "    </tr>\n",
       "    <tr>\n",
       "      <td>24</td>\n",
       "      <td>Профсоюзная</td>\n",
       "      <td>муниципальный округ Теплый Стан</td>\n",
       "    </tr>\n",
       "    <tr>\n",
       "      <td>25</td>\n",
       "      <td>Профсоюзная</td>\n",
       "      <td>муниципальный округ Черемушки</td>\n",
       "    </tr>\n",
       "    <tr>\n",
       "      <td>26</td>\n",
       "      <td>Варшавское</td>\n",
       "      <td>муниципальный округ Южное Бутово</td>\n",
       "    </tr>\n",
       "    <tr>\n",
       "      <td>27</td>\n",
       "      <td>Профсоюзная</td>\n",
       "      <td>муниципальный округ Ясенево</td>\n",
       "    </tr>\n",
       "    <tr>\n",
       "      <td>28</td>\n",
       "      <td>Мира</td>\n",
       "      <td>муниципальный округ Мещанский</td>\n",
       "    </tr>\n",
       "    <tr>\n",
       "      <td>29</td>\n",
       "      <td>Ленинский</td>\n",
       "      <td>муниципальный округ Якиманка</td>\n",
       "    </tr>\n",
       "    <tr>\n",
       "      <td>30</td>\n",
       "      <td>Мира</td>\n",
       "      <td>муниципальный округ Алексеевский</td>\n",
       "    </tr>\n",
       "    <tr>\n",
       "      <td>31</td>\n",
       "      <td>Мира</td>\n",
       "      <td>муниципальный округ Останкинский</td>\n",
       "    </tr>\n",
       "    <tr>\n",
       "      <td>32</td>\n",
       "      <td>Мира</td>\n",
       "      <td>муниципальный округ Ростокино</td>\n",
       "    </tr>\n",
       "    <tr>\n",
       "      <td>33</td>\n",
       "      <td>Ленинградский</td>\n",
       "      <td>муниципальный округ Аэропорт</td>\n",
       "    </tr>\n",
       "    <tr>\n",
       "      <td>34</td>\n",
       "      <td>Ленинградский</td>\n",
       "      <td>муниципальный округ Беговой</td>\n",
       "    </tr>\n",
       "    <tr>\n",
       "      <td>35</td>\n",
       "      <td>Ленинградский</td>\n",
       "      <td>муниципальный округ Сокол</td>\n",
       "    </tr>\n",
       "    <tr>\n",
       "      <td>36</td>\n",
       "      <td>Ленинградский</td>\n",
       "      <td>муниципальный округ Хорошевский</td>\n",
       "    </tr>\n",
       "    <tr>\n",
       "      <td>37</td>\n",
       "      <td>Кутузовский</td>\n",
       "      <td>муниципальный округ Дорогомилово</td>\n",
       "    </tr>\n",
       "    <tr>\n",
       "      <td>38</td>\n",
       "      <td>Вернадского</td>\n",
       "      <td>муниципальный округ Проспект Вернадского</td>\n",
       "    </tr>\n",
       "    <tr>\n",
       "      <td>39</td>\n",
       "      <td>Ленинский</td>\n",
       "      <td>муниципальный округ Проспект Вернадского</td>\n",
       "    </tr>\n",
       "    <tr>\n",
       "      <td>40</td>\n",
       "      <td>Вернадского</td>\n",
       "      <td>муниципальный округ Тропарево-Никулино</td>\n",
       "    </tr>\n",
       "    <tr>\n",
       "      <td>41</td>\n",
       "      <td>Ленинский</td>\n",
       "      <td>муниципальный округ Тропарево-Никулино</td>\n",
       "    </tr>\n",
       "    <tr>\n",
       "      <td>42</td>\n",
       "      <td>Кутузовский</td>\n",
       "      <td>муниципальный округ Фили-Давыдково</td>\n",
       "    </tr>\n",
       "  </tbody>\n",
       "</table>\n",
       "</div>"
      ],
      "text/plain": [
       "       street_name                                      area_name\n",
       "0        Ленинский                    муниципальный округ Донской\n",
       "1       Варшавское                    муниципальный округ Донской\n",
       "2        Каширское       муниципальный округ Москворечье-Сабурово\n",
       "3       Варшавское         муниципальный округ Нагатино-Садовники\n",
       "4        Каширское         муниципальный округ Нагатино-Садовники\n",
       "5       Варшавское                   муниципальный округ Нагорный\n",
       "6        Каширское  муниципальный округ Орехово-Борисово Северное\n",
       "7        Каширское     муниципальный округ Орехово-Борисово Южное\n",
       "8    Ленинградский         муниципальный округ Чертаново Северное\n",
       "9   Кировоградская         муниципальный округ Чертаново Северное\n",
       "10      Варшавское         муниципальный округ Чертаново Северное\n",
       "11  Кировоградская      муниципальный округ Чертаново Центральное\n",
       "12      Варшавское      муниципальный округ Чертаново Центральное\n",
       "13  Кировоградская            муниципальный округ Чертаново Южное\n",
       "14      Варшавское            муниципальный округ Чертаново Южное\n",
       "15     Профсоюзная              муниципальный округ Академический\n",
       "16     Вернадского                муниципальный округ Гагаринский\n",
       "17       Ленинский                муниципальный округ Гагаринский\n",
       "18     Профсоюзная                   муниципальный округ Коньково\n",
       "19     Вернадского              муниципальный округ Ломоносовский\n",
       "20       Ленинский              муниципальный округ Ломоносовский\n",
       "21       Ленинский                муниципальный округ Обручевский\n",
       "22     Профсоюзная                муниципальный округ Обручевский\n",
       "23       Ленинский                муниципальный округ Теплый Стан\n",
       "24     Профсоюзная                муниципальный округ Теплый Стан\n",
       "25     Профсоюзная                  муниципальный округ Черемушки\n",
       "26      Варшавское               муниципальный округ Южное Бутово\n",
       "27     Профсоюзная                    муниципальный округ Ясенево\n",
       "28            Мира                  муниципальный округ Мещанский\n",
       "29       Ленинский                   муниципальный округ Якиманка\n",
       "30            Мира               муниципальный округ Алексеевский\n",
       "31            Мира               муниципальный округ Останкинский\n",
       "32            Мира                  муниципальный округ Ростокино\n",
       "33   Ленинградский                   муниципальный округ Аэропорт\n",
       "34   Ленинградский                    муниципальный округ Беговой\n",
       "35   Ленинградский                      муниципальный округ Сокол\n",
       "36   Ленинградский                муниципальный округ Хорошевский\n",
       "37     Кутузовский               муниципальный округ Дорогомилово\n",
       "38     Вернадского       муниципальный округ Проспект Вернадского\n",
       "39       Ленинский       муниципальный округ Проспект Вернадского\n",
       "40     Вернадского         муниципальный округ Тропарево-Никулино\n",
       "41       Ленинский         муниципальный округ Тропарево-Никулино\n",
       "42     Кутузовский             муниципальный округ Фили-Давыдково"
      ]
     },
     "execution_count": 20,
     "metadata": {},
     "output_type": "execute_result"
    }
   ],
   "source": [
    "#Определение районов, где находятся топ-10 улиц \n",
    "areas1 = moscow_areas[moscow_areas.loc[:,'street_name'].isin(ten_street_names)].reset_index(drop = True)\n",
    "areas1"
   ]
  },
  {
   "cell_type": "code",
   "execution_count": 21,
   "metadata": {
    "scrolled": true
   },
   "outputs": [
    {
     "name": "stdout",
     "output_type": "stream",
     "text": [
      "551\n"
     ]
    }
   ],
   "source": [
    "# число улиц с одним объектом общественного питания\n",
    "print(len(top_streets[top_streets['rest_number'] == 1]))"
   ]
  },
  {
   "cell_type": "code",
   "execution_count": 22,
   "metadata": {},
   "outputs": [
    {
     "data": {
      "text/html": [
       "<div>\n",
       "<style scoped>\n",
       "    .dataframe tbody tr th:only-of-type {\n",
       "        vertical-align: middle;\n",
       "    }\n",
       "\n",
       "    .dataframe tbody tr th {\n",
       "        vertical-align: top;\n",
       "    }\n",
       "\n",
       "    .dataframe thead th {\n",
       "        text-align: right;\n",
       "    }\n",
       "</style>\n",
       "<table border=\"1\" class=\"dataframe\">\n",
       "  <thead>\n",
       "    <tr style=\"text-align: right;\">\n",
       "      <th></th>\n",
       "      <th>street</th>\n",
       "      <th>rest_number</th>\n",
       "    </tr>\n",
       "  </thead>\n",
       "  <tbody>\n",
       "    <tr>\n",
       "      <td>2</td>\n",
       "      <td>1-й Балтийский переулок</td>\n",
       "      <td>1</td>\n",
       "    </tr>\n",
       "    <tr>\n",
       "      <td>3</td>\n",
       "      <td>1-й Басманный переулок</td>\n",
       "      <td>1</td>\n",
       "    </tr>\n",
       "    <tr>\n",
       "      <td>4</td>\n",
       "      <td>1-й Ботанический проезд</td>\n",
       "      <td>1</td>\n",
       "    </tr>\n",
       "    <tr>\n",
       "      <td>7</td>\n",
       "      <td>1-й Вешняковский проезд</td>\n",
       "      <td>1</td>\n",
       "    </tr>\n",
       "    <tr>\n",
       "      <td>9</td>\n",
       "      <td>1-й Голутвинский переулок</td>\n",
       "      <td>1</td>\n",
       "    </tr>\n",
       "  </tbody>\n",
       "</table>\n",
       "</div>"
      ],
      "text/plain": [
       "                      street  rest_number\n",
       "2    1-й Балтийский переулок            1\n",
       "3     1-й Басманный переулок            1\n",
       "4    1-й Ботанический проезд            1\n",
       "7    1-й Вешняковский проезд            1\n",
       "9  1-й Голутвинский переулок            1"
      ]
     },
     "execution_count": 22,
     "metadata": {},
     "output_type": "execute_result"
    }
   ],
   "source": [
    "#Датафрейм с названиями улиц с одним заведением \n",
    "one_rest = top_streets[top_streets['rest_number'] == 1]\n",
    "one_rest.head()"
   ]
  },
  {
   "cell_type": "code",
   "execution_count": 23,
   "metadata": {},
   "outputs": [],
   "source": [
    "#Определение районов, в котором находятся улицы с одним заведением \n",
    "onerest_street_names = []\n",
    "for i in one_rest['street']:\n",
    "    resultwords  = [word for word in re.split(\"\\W+\",i) if word.lower() not in words]\n",
    "    onerest_street_names.append(' '.join(resultwords))"
   ]
  },
  {
   "cell_type": "code",
   "execution_count": 24,
   "metadata": {},
   "outputs": [
    {
     "name": "stdout",
     "output_type": "stream",
     "text": [
      "84\n"
     ]
    }
   ],
   "source": [
    "areas2 = moscow_areas[moscow_areas.loc[:,'street_name'].isin(onerest_street_names)].reset_index(drop = True)\n",
    "print(len(areas2['area_name'].unique()))"
   ]
  },
  {
   "cell_type": "markdown",
   "metadata": {},
   "source": [
    "Улицы с одним заведением общественного питания находятся в 51 районах Москвы, которые были определены выше. "
   ]
  },
  {
   "cell_type": "code",
   "execution_count": 25,
   "metadata": {},
   "outputs": [
    {
     "data": {
      "text/plain": [
       "count    1494.000000\n",
       "mean       58.180054\n",
       "std        90.165467\n",
       "min         0.000000\n",
       "25%        12.000000\n",
       "50%        40.000000\n",
       "75%        75.000000\n",
       "max      1700.000000\n",
       "Name: number, dtype: float64"
      ]
     },
     "execution_count": 25,
     "metadata": {},
     "output_type": "execute_result"
    },
    {
     "data": {
      "image/png": "[encoded data removed]",
      "text/plain": [
       "<Figure size 864x576 with 1 Axes>"
      ]
     },
     "metadata": {},
     "output_type": "display_data"
    }
   ],
   "source": [
    "#распределение количества посадочных мест для улиц с большим количеством объектов общественного питания\n",
    "distribution = data[data['streetname'].isin(top_streets2['street'])]\n",
    "g1 = distribution['number'].plot(kind='box')\n",
    "g1.set_ylim(0,250)\n",
    "g1.set_title('Распределение количества посадочных мест для улиц с большим количеством объектов общественного питания')\n",
    "distribution['number'].describe()"
   ]
  },
  {
   "cell_type": "markdown",
   "metadata": {},
   "source": [
    "75% заведений, находящихся на улицах с большим количеством ООП имеют меньше 63 посадочных мест. "
   ]
  },
  {
   "cell_type": "markdown",
   "metadata": {},
   "source": [
    "Выводы: \n",
    "\n",
    "- Кафе является самым популярным видом ООП.\n",
    "-  Большинство ООП является не сетевым. \n",
    "- Сетевые заведения характерны для предприятий быстрого обслуживания и кулинарий магазинов. \n",
    "- Сетевым заведениям характерно мало заведений с средним - большим количеством посадочных мест. \n",
    "- Столовые и рестораны имеют наибольшее количество посадочных мест. \n",
    "- Абсолютное большинство заведений улиц с большим количеством ООП имеет меньше 100 посадочных мест.\n",
    "\n",
    "Презентация: https://disk.yandex.ru/i/gse_OkxV4EaQXg"
   ]
  },
  {
   "cell_type": "markdown",
   "metadata": {},
   "source": [
    "Рекомендации: \n",
    "\n",
    "- Открыть одно заведение (не сетевое кафе).\n",
    "- Рекомендуемое число посадочных мест -  (70-80).  \n",
    "- Открыть кафе на одном из улиц с большим количеством кафе и большим средним чеком в них.\n"
   ]
  }
 ],
 "metadata": {
  "ExecuteTimeLog": [
   {
    "duration": 1257,
    "start_time": "2021-12-27T19:17:14.442Z"
   },
   {
    "duration": 194,
    "start_time": "2021-12-27T19:17:49.266Z"
   },
   {
    "duration": 73,
    "start_time": "2021-12-27T19:18:05.157Z"
   },
   {
    "duration": 59,
    "start_time": "2021-12-27T19:18:23.457Z"
   },
   {
    "duration": 542,
    "start_time": "2021-12-27T19:19:04.368Z"
   },
   {
    "duration": 244,
    "start_time": "2021-12-27T19:19:28.702Z"
   },
   {
    "duration": 20,
    "start_time": "2021-12-27T19:19:36.900Z"
   },
   {
    "duration": 15,
    "start_time": "2021-12-27T19:19:43.889Z"
   },
   {
    "duration": 19,
    "start_time": "2021-12-27T19:20:02.603Z"
   },
   {
    "duration": 22,
    "start_time": "2021-12-27T19:20:13.639Z"
   },
   {
    "duration": 4,
    "start_time": "2021-12-27T19:21:16.252Z"
   },
   {
    "duration": 10346,
    "start_time": "2021-12-27T19:21:27.399Z"
   },
   {
    "duration": 5,
    "start_time": "2021-12-27T19:22:08.522Z"
   },
   {
    "duration": 13,
    "start_time": "2021-12-27T19:24:45.032Z"
   },
   {
    "duration": 24,
    "start_time": "2021-12-27T19:25:48.420Z"
   },
   {
    "duration": 16,
    "start_time": "2021-12-27T19:26:01.802Z"
   },
   {
    "duration": 241,
    "start_time": "2021-12-27T19:27:31.516Z"
   },
   {
    "duration": 257,
    "start_time": "2021-12-27T19:27:45.900Z"
   },
   {
    "duration": 520,
    "start_time": "2021-12-27T19:28:02.202Z"
   },
   {
    "duration": 302,
    "start_time": "2021-12-27T19:28:18.158Z"
   },
   {
    "duration": 55,
    "start_time": "2021-12-27T19:28:26.837Z"
   },
   {
    "duration": 36,
    "start_time": "2021-12-27T19:28:30.679Z"
   },
   {
    "duration": 235,
    "start_time": "2021-12-27T19:28:34.272Z"
   },
   {
    "duration": 1298,
    "start_time": "2021-12-27T19:28:54.111Z"
   },
   {
    "duration": 29,
    "start_time": "2021-12-27T19:28:55.412Z"
   },
   {
    "duration": 510,
    "start_time": "2021-12-27T19:28:55.443Z"
   },
   {
    "duration": 11,
    "start_time": "2021-12-27T19:29:27.239Z"
   },
   {
    "duration": 227,
    "start_time": "2021-12-27T19:29:30.989Z"
   },
   {
    "duration": 225,
    "start_time": "2021-12-27T19:30:14.458Z"
   },
   {
    "duration": 9,
    "start_time": "2021-12-27T19:30:33.665Z"
   },
   {
    "duration": 8,
    "start_time": "2021-12-27T19:31:16.045Z"
   },
   {
    "duration": 10,
    "start_time": "2021-12-27T19:31:31.700Z"
   },
   {
    "duration": 251,
    "start_time": "2021-12-27T19:31:51.918Z"
   },
   {
    "duration": 7,
    "start_time": "2021-12-27T19:32:02.631Z"
   },
   {
    "duration": 7,
    "start_time": "2021-12-27T19:32:09.348Z"
   },
   {
    "duration": 6738,
    "start_time": "2021-12-27T19:32:15.804Z"
   },
   {
    "duration": 944,
    "start_time": "2021-12-27T19:33:21.504Z"
   },
   {
    "duration": 10,
    "start_time": "2021-12-27T19:33:38.010Z"
   },
   {
    "duration": 1188,
    "start_time": "2021-12-27T19:33:41.530Z"
   },
   {
    "duration": 11,
    "start_time": "2021-12-27T19:33:52.690Z"
   },
   {
    "duration": 19,
    "start_time": "2021-12-27T19:33:59.186Z"
   },
   {
    "duration": 227,
    "start_time": "2021-12-27T19:35:00.291Z"
   },
   {
    "duration": 364,
    "start_time": "2021-12-27T19:35:16.991Z"
   },
   {
    "duration": 192,
    "start_time": "2021-12-27T19:35:29.286Z"
   },
   {
    "duration": 12,
    "start_time": "2021-12-27T19:36:15.575Z"
   },
   {
    "duration": 20,
    "start_time": "2021-12-27T19:36:24.962Z"
   },
   {
    "duration": 194,
    "start_time": "2021-12-27T19:36:27.495Z"
   },
   {
    "duration": 15,
    "start_time": "2021-12-27T19:37:35.137Z"
   },
   {
    "duration": 15,
    "start_time": "2021-12-27T19:37:57.682Z"
   },
   {
    "duration": 22,
    "start_time": "2021-12-27T19:38:04.742Z"
   },
   {
    "duration": 13,
    "start_time": "2021-12-27T19:38:12.006Z"
   },
   {
    "duration": 14,
    "start_time": "2021-12-27T19:38:23.874Z"
   },
   {
    "duration": 149,
    "start_time": "2021-12-27T19:38:52.340Z"
   },
   {
    "duration": 12,
    "start_time": "2021-12-27T19:40:12.272Z"
   },
   {
    "duration": 231,
    "start_time": "2021-12-27T19:40:37.238Z"
   },
   {
    "duration": 5,
    "start_time": "2021-12-27T19:40:46.642Z"
   },
   {
    "duration": 21,
    "start_time": "2021-12-27T19:41:12.071Z"
   },
   {
    "duration": 5,
    "start_time": "2021-12-27T19:42:32.653Z"
   },
   {
    "duration": 15,
    "start_time": "2021-12-27T19:42:37.019Z"
   },
   {
    "duration": 1237,
    "start_time": "2021-12-27T19:43:02.168Z"
   },
   {
    "duration": 5,
    "start_time": "2021-12-27T19:43:03.407Z"
   },
   {
    "duration": 34,
    "start_time": "2021-12-27T19:43:03.414Z"
   },
   {
    "duration": 30,
    "start_time": "2021-12-27T19:43:03.462Z"
   },
   {
    "duration": 254,
    "start_time": "2021-12-27T19:43:03.494Z"
   },
   {
    "duration": 25,
    "start_time": "2021-12-27T19:43:03.751Z"
   },
   {
    "duration": 232,
    "start_time": "2021-12-27T19:43:03.779Z"
   },
   {
    "duration": 12,
    "start_time": "2021-12-27T19:43:04.014Z"
   },
   {
    "duration": 11,
    "start_time": "2021-12-27T19:43:22.809Z"
   },
   {
    "duration": 1703,
    "start_time": "2021-12-27T19:44:01.324Z"
   },
   {
    "duration": 37,
    "start_time": "2021-12-27T19:44:03.029Z"
   },
   {
    "duration": 22,
    "start_time": "2021-12-27T19:44:03.069Z"
   },
   {
    "duration": 364,
    "start_time": "2021-12-27T19:44:03.094Z"
   },
   {
    "duration": 17,
    "start_time": "2021-12-27T19:44:03.461Z"
   },
   {
    "duration": 235,
    "start_time": "2021-12-27T19:44:03.481Z"
   },
   {
    "duration": 44,
    "start_time": "2021-12-27T19:44:03.718Z"
   },
   {
    "duration": 15,
    "start_time": "2021-12-27T19:44:48.543Z"
   },
   {
    "duration": 394,
    "start_time": "2021-12-27T19:45:04.125Z"
   },
   {
    "duration": 13,
    "start_time": "2021-12-27T19:45:10.906Z"
   },
   {
    "duration": 7,
    "start_time": "2021-12-27T19:47:48.548Z"
   },
   {
    "duration": 12,
    "start_time": "2021-12-27T19:47:53.315Z"
   },
   {
    "duration": 13,
    "start_time": "2021-12-27T19:48:52.151Z"
   },
   {
    "duration": 254,
    "start_time": "2021-12-27T19:49:35.905Z"
   },
   {
    "duration": 14,
    "start_time": "2021-12-27T19:49:47.567Z"
   },
   {
    "duration": 13,
    "start_time": "2021-12-27T19:50:20.540Z"
   },
   {
    "duration": 197,
    "start_time": "2021-12-27T19:50:46.492Z"
   },
   {
    "duration": 1567,
    "start_time": "2021-12-28T07:58:44.090Z"
   },
   {
    "duration": 31,
    "start_time": "2021-12-28T07:58:48.320Z"
   },
   {
    "duration": 14,
    "start_time": "2021-12-28T07:59:36.769Z"
   },
   {
    "duration": 827,
    "start_time": "2021-12-28T08:00:16.000Z"
   },
   {
    "duration": 15,
    "start_time": "2021-12-28T08:01:38.971Z"
   },
   {
    "duration": 17,
    "start_time": "2021-12-28T08:03:00.334Z"
   },
   {
    "duration": 18,
    "start_time": "2021-12-28T08:03:38.978Z"
   },
   {
    "duration": 57,
    "start_time": "2021-12-28T08:04:55.811Z"
   },
   {
    "duration": 1604,
    "start_time": "2021-12-28T08:05:20.678Z"
   },
   {
    "duration": 61,
    "start_time": "2021-12-28T08:05:22.285Z"
   },
   {
    "duration": 12,
    "start_time": "2021-12-28T08:05:22.349Z"
   },
   {
    "duration": 61,
    "start_time": "2021-12-28T08:05:22.364Z"
   },
   {
    "duration": 264,
    "start_time": "2021-12-28T08:05:22.427Z"
   },
   {
    "duration": 30,
    "start_time": "2021-12-28T08:05:22.693Z"
   },
   {
    "duration": 244,
    "start_time": "2021-12-28T08:05:22.725Z"
   },
   {
    "duration": 12,
    "start_time": "2021-12-28T08:05:22.972Z"
   },
   {
    "duration": 47,
    "start_time": "2021-12-28T08:05:22.987Z"
   },
   {
    "duration": 17,
    "start_time": "2021-12-28T08:05:23.036Z"
   },
   {
    "duration": 247,
    "start_time": "2021-12-28T08:05:23.056Z"
   },
   {
    "duration": 22,
    "start_time": "2021-12-28T08:05:38.321Z"
   },
   {
    "duration": 1624,
    "start_time": "2021-12-28T08:05:45.281Z"
   },
   {
    "duration": 34,
    "start_time": "2021-12-28T08:05:46.908Z"
   },
   {
    "duration": 31,
    "start_time": "2021-12-28T08:05:46.944Z"
   },
   {
    "duration": 56,
    "start_time": "2021-12-28T08:05:46.978Z"
   },
   {
    "duration": 353,
    "start_time": "2021-12-28T08:05:47.037Z"
   },
   {
    "duration": 38,
    "start_time": "2021-12-28T08:05:47.392Z"
   },
   {
    "duration": 251,
    "start_time": "2021-12-28T08:05:47.432Z"
   },
   {
    "duration": 13,
    "start_time": "2021-12-28T08:05:47.686Z"
   },
   {
    "duration": 36,
    "start_time": "2021-12-28T08:05:47.701Z"
   },
   {
    "duration": 18,
    "start_time": "2021-12-28T08:05:47.739Z"
   },
   {
    "duration": 373,
    "start_time": "2021-12-28T08:05:47.760Z"
   },
   {
    "duration": 25,
    "start_time": "2021-12-28T08:06:01.589Z"
   },
   {
    "duration": 24,
    "start_time": "2021-12-28T08:06:08.854Z"
   },
   {
    "duration": 32,
    "start_time": "2021-12-28T08:06:43.501Z"
   },
   {
    "duration": 21,
    "start_time": "2021-12-28T08:06:51.598Z"
   },
   {
    "duration": 21,
    "start_time": "2021-12-28T08:07:14.669Z"
   },
   {
    "duration": 30,
    "start_time": "2021-12-28T08:07:21.527Z"
   },
   {
    "duration": 24,
    "start_time": "2021-12-28T08:07:25.430Z"
   },
   {
    "duration": 1588,
    "start_time": "2021-12-28T08:07:32.160Z"
   },
   {
    "duration": 22,
    "start_time": "2021-12-28T08:07:33.751Z"
   },
   {
    "duration": 56,
    "start_time": "2021-12-28T08:07:33.776Z"
   },
   {
    "duration": 23,
    "start_time": "2021-12-28T08:07:33.835Z"
   },
   {
    "duration": 378,
    "start_time": "2021-12-28T08:07:33.860Z"
   },
   {
    "duration": 18,
    "start_time": "2021-12-28T08:07:34.241Z"
   },
   {
    "duration": 250,
    "start_time": "2021-12-28T08:07:34.261Z"
   },
   {
    "duration": 12,
    "start_time": "2021-12-28T08:07:34.518Z"
   },
   {
    "duration": 14,
    "start_time": "2021-12-28T08:07:34.533Z"
   },
   {
    "duration": 17,
    "start_time": "2021-12-28T08:07:34.550Z"
   },
   {
    "duration": 376,
    "start_time": "2021-12-28T08:07:34.569Z"
   },
   {
    "duration": 79,
    "start_time": "2021-12-28T08:09:30.208Z"
   },
   {
    "duration": 16,
    "start_time": "2021-12-28T08:09:33.560Z"
   },
   {
    "duration": 32,
    "start_time": "2021-12-28T08:09:36.248Z"
   },
   {
    "duration": 20,
    "start_time": "2021-12-28T08:09:39.408Z"
   },
   {
    "duration": 316,
    "start_time": "2021-12-28T08:09:44.249Z"
   },
   {
    "duration": 353,
    "start_time": "2021-12-28T08:10:05.015Z"
   },
   {
    "duration": 749,
    "start_time": "2021-12-28T08:12:23.770Z"
   },
   {
    "duration": 608,
    "start_time": "2021-12-28T08:14:20.492Z"
   },
   {
    "duration": 693,
    "start_time": "2021-12-28T08:14:43.548Z"
   },
   {
    "duration": 354,
    "start_time": "2021-12-28T08:15:24.316Z"
   },
   {
    "duration": 620,
    "start_time": "2021-12-28T08:16:42.878Z"
   },
   {
    "duration": 670,
    "start_time": "2021-12-28T08:17:00.684Z"
   },
   {
    "duration": 348,
    "start_time": "2021-12-28T08:17:20.949Z"
   },
   {
    "duration": 362,
    "start_time": "2021-12-28T08:18:41.134Z"
   },
   {
    "duration": 366,
    "start_time": "2021-12-28T08:18:49.878Z"
   },
   {
    "duration": 638,
    "start_time": "2021-12-28T08:19:10.679Z"
   },
   {
    "duration": 742,
    "start_time": "2021-12-28T08:19:19.742Z"
   },
   {
    "duration": 550,
    "start_time": "2021-12-28T08:20:08.079Z"
   },
   {
    "duration": 523,
    "start_time": "2021-12-28T08:20:28.494Z"
   },
   {
    "duration": 637,
    "start_time": "2021-12-28T08:20:43.799Z"
   },
   {
    "duration": 557,
    "start_time": "2021-12-28T08:20:52.609Z"
   },
   {
    "duration": 543,
    "start_time": "2021-12-28T08:20:59.971Z"
   },
   {
    "duration": 538,
    "start_time": "2021-12-28T08:21:07.135Z"
   },
   {
    "duration": 536,
    "start_time": "2021-12-28T08:21:14.585Z"
   },
   {
    "duration": 564,
    "start_time": "2021-12-28T08:21:25.705Z"
   },
   {
    "duration": 541,
    "start_time": "2021-12-28T08:21:30.952Z"
   },
   {
    "duration": 543,
    "start_time": "2021-12-28T08:21:39.248Z"
   },
   {
    "duration": 395,
    "start_time": "2021-12-28T08:25:37.090Z"
   },
   {
    "duration": 399,
    "start_time": "2021-12-28T08:26:49.669Z"
   },
   {
    "duration": 348,
    "start_time": "2021-12-28T08:27:15.100Z"
   },
   {
    "duration": 18,
    "start_time": "2021-12-28T08:27:25.277Z"
   },
   {
    "duration": 319,
    "start_time": "2021-12-28T08:28:07.052Z"
   },
   {
    "duration": 34,
    "start_time": "2021-12-28T08:29:15.109Z"
   },
   {
    "duration": 29,
    "start_time": "2021-12-28T08:29:42.566Z"
   },
   {
    "duration": 324,
    "start_time": "2021-12-28T08:30:31.607Z"
   },
   {
    "duration": 29,
    "start_time": "2021-12-28T08:30:44.399Z"
   },
   {
    "duration": 21,
    "start_time": "2021-12-28T08:30:56.498Z"
   },
   {
    "duration": 45,
    "start_time": "2021-12-28T08:31:37.656Z"
   },
   {
    "duration": 20,
    "start_time": "2021-12-28T08:33:12.880Z"
   },
   {
    "duration": 28,
    "start_time": "2021-12-28T08:33:19.473Z"
   },
   {
    "duration": 8568,
    "start_time": "2021-12-28T08:34:20.899Z"
   },
   {
    "duration": 8107,
    "start_time": "2021-12-28T08:35:15.074Z"
   },
   {
    "duration": 24,
    "start_time": "2021-12-28T08:35:33.020Z"
   },
   {
    "duration": -390,
    "start_time": "2021-12-28T08:36:31.001Z"
   },
   {
    "duration": 8158,
    "start_time": "2021-12-28T08:36:45.507Z"
   },
   {
    "duration": 31,
    "start_time": "2021-12-28T08:38:49.669Z"
   },
   {
    "duration": 29,
    "start_time": "2021-12-28T08:39:04.013Z"
   },
   {
    "duration": 92,
    "start_time": "2021-12-28T08:39:17.948Z"
   },
   {
    "duration": 30,
    "start_time": "2021-12-28T08:39:28.677Z"
   },
   {
    "duration": 283,
    "start_time": "2021-12-28T08:41:40.158Z"
   },
   {
    "duration": 504,
    "start_time": "2021-12-28T08:42:11.470Z"
   },
   {
    "duration": 321,
    "start_time": "2021-12-28T08:43:14.951Z"
   },
   {
    "duration": 320,
    "start_time": "2021-12-28T08:44:03.193Z"
   },
   {
    "duration": 117,
    "start_time": "2021-12-28T08:45:33.491Z"
   },
   {
    "duration": 6,
    "start_time": "2021-12-28T08:45:42.257Z"
   },
   {
    "duration": 401,
    "start_time": "2021-12-28T08:45:52.873Z"
   },
   {
    "duration": 5,
    "start_time": "2021-12-28T08:45:55.938Z"
   },
   {
    "duration": 338,
    "start_time": "2021-12-28T08:46:08.746Z"
   },
   {
    "duration": 6,
    "start_time": "2021-12-28T08:46:40.954Z"
   },
   {
    "duration": 1629,
    "start_time": "2021-12-28T08:46:50.678Z"
   },
   {
    "duration": 24,
    "start_time": "2021-12-28T08:46:52.311Z"
   },
   {
    "duration": 32,
    "start_time": "2021-12-28T08:46:52.338Z"
   },
   {
    "duration": 48,
    "start_time": "2021-12-28T08:46:52.373Z"
   },
   {
    "duration": 598,
    "start_time": "2021-12-28T08:46:52.425Z"
   },
   {
    "duration": 20,
    "start_time": "2021-12-28T08:46:53.027Z"
   },
   {
    "duration": 444,
    "start_time": "2021-12-28T08:46:53.049Z"
   },
   {
    "duration": 5,
    "start_time": "2021-12-28T08:46:53.497Z"
   },
   {
    "duration": 443,
    "start_time": "2021-12-28T08:46:53.505Z"
   },
   {
    "duration": -392,
    "start_time": "2021-12-28T08:46:54.342Z"
   },
   {
    "duration": -399,
    "start_time": "2021-12-28T08:46:54.351Z"
   },
   {
    "duration": -409,
    "start_time": "2021-12-28T08:46:54.362Z"
   },
   {
    "duration": 39,
    "start_time": "2021-12-28T08:47:32.862Z"
   },
   {
    "duration": 49,
    "start_time": "2021-12-28T08:49:59.848Z"
   },
   {
    "duration": 52,
    "start_time": "2021-12-28T08:50:11.105Z"
   },
   {
    "duration": 50,
    "start_time": "2021-12-28T08:50:19.881Z"
   },
   {
    "duration": 36,
    "start_time": "2021-12-28T08:50:29.351Z"
   },
   {
    "duration": 57,
    "start_time": "2021-12-28T08:50:39.713Z"
   },
   {
    "duration": 781,
    "start_time": "2021-12-28T08:50:47.968Z"
   },
   {
    "duration": 352,
    "start_time": "2021-12-28T08:51:21.328Z"
   },
   {
    "duration": 27,
    "start_time": "2021-12-28T08:51:33.464Z"
   },
   {
    "duration": 505,
    "start_time": "2021-12-28T08:51:36.039Z"
   },
   {
    "duration": 567,
    "start_time": "2021-12-28T08:52:40.913Z"
   },
   {
    "duration": 15,
    "start_time": "2021-12-28T08:53:09.568Z"
   },
   {
    "duration": 1199,
    "start_time": "2021-12-28T08:54:53.842Z"
   },
   {
    "duration": 15,
    "start_time": "2021-12-28T08:55:09.739Z"
   },
   {
    "duration": 18,
    "start_time": "2021-12-28T08:55:32.058Z"
   },
   {
    "duration": 21,
    "start_time": "2021-12-28T08:55:40.955Z"
   },
   {
    "duration": 27,
    "start_time": "2021-12-28T08:56:24.429Z"
   },
   {
    "duration": 22,
    "start_time": "2021-12-28T08:59:13.110Z"
   },
   {
    "duration": 485,
    "start_time": "2021-12-28T08:59:19.152Z"
   },
   {
    "duration": 551,
    "start_time": "2021-12-28T09:01:55.248Z"
   },
   {
    "duration": 168,
    "start_time": "2021-12-28T09:09:02.782Z"
   },
   {
    "duration": 57,
    "start_time": "2021-12-28T09:16:15.681Z"
   },
   {
    "duration": 41,
    "start_time": "2021-12-28T09:16:35.939Z"
   },
   {
    "duration": 49,
    "start_time": "2021-12-28T09:17:53.324Z"
   },
   {
    "duration": 49,
    "start_time": "2021-12-28T09:18:01.604Z"
   },
   {
    "duration": 20,
    "start_time": "2021-12-28T09:19:06.389Z"
   },
   {
    "duration": 312,
    "start_time": "2021-12-28T09:19:43.030Z"
   },
   {
    "duration": 18,
    "start_time": "2021-12-28T09:20:36.694Z"
   },
   {
    "duration": 23,
    "start_time": "2021-12-28T09:20:41.325Z"
   },
   {
    "duration": 685,
    "start_time": "2021-12-28T09:22:01.246Z"
   },
   {
    "duration": 22,
    "start_time": "2021-12-28T09:23:38.247Z"
   },
   {
    "duration": 567,
    "start_time": "2021-12-28T09:23:41.017Z"
   },
   {
    "duration": 16,
    "start_time": "2021-12-28T09:24:29.343Z"
   },
   {
    "duration": 6,
    "start_time": "2021-12-28T09:25:00.709Z"
   },
   {
    "duration": 319,
    "start_time": "2021-12-28T09:26:42.241Z"
   },
   {
    "duration": 403,
    "start_time": "2021-12-28T09:26:49.744Z"
   },
   {
    "duration": 297,
    "start_time": "2021-12-28T09:27:32.050Z"
   },
   {
    "duration": 290,
    "start_time": "2021-12-28T09:27:35.841Z"
   },
   {
    "duration": 314,
    "start_time": "2021-12-28T09:28:55.299Z"
   },
   {
    "duration": 287,
    "start_time": "2021-12-28T09:29:16.051Z"
   },
   {
    "duration": 299,
    "start_time": "2021-12-28T09:29:33.788Z"
   },
   {
    "duration": 382,
    "start_time": "2021-12-28T09:29:48.547Z"
   },
   {
    "duration": 1530,
    "start_time": "2021-12-28T09:30:07.955Z"
   },
   {
    "duration": 31,
    "start_time": "2021-12-28T09:30:09.488Z"
   },
   {
    "duration": 33,
    "start_time": "2021-12-28T09:30:09.523Z"
   },
   {
    "duration": 22,
    "start_time": "2021-12-28T09:30:09.559Z"
   },
   {
    "duration": 582,
    "start_time": "2021-12-28T09:30:09.584Z"
   },
   {
    "duration": 20,
    "start_time": "2021-12-28T09:30:10.169Z"
   },
   {
    "duration": 420,
    "start_time": "2021-12-28T09:30:10.191Z"
   },
   {
    "duration": 28,
    "start_time": "2021-12-28T09:30:10.618Z"
   },
   {
    "duration": 571,
    "start_time": "2021-12-28T09:30:10.649Z"
   },
   {
    "duration": 20,
    "start_time": "2021-12-28T09:30:11.222Z"
   },
   {
    "duration": 19,
    "start_time": "2021-12-28T09:30:11.245Z"
   },
   {
    "duration": 610,
    "start_time": "2021-12-28T09:30:11.267Z"
   },
   {
    "duration": 58,
    "start_time": "2021-12-28T09:30:11.881Z"
   },
   {
    "duration": 28,
    "start_time": "2021-12-28T09:30:11.942Z"
   },
   {
    "duration": 886,
    "start_time": "2021-12-28T09:30:11.973Z"
   },
   {
    "duration": 8,
    "start_time": "2021-12-28T09:30:12.861Z"
   },
   {
    "duration": 436,
    "start_time": "2021-12-28T09:30:12.871Z"
   },
   {
    "duration": 290,
    "start_time": "2021-12-28T09:38:07.156Z"
   },
   {
    "duration": 25,
    "start_time": "2021-12-28T09:46:36.096Z"
   },
   {
    "duration": 33,
    "start_time": "2021-12-28T09:47:00.153Z"
   },
   {
    "duration": 19,
    "start_time": "2021-12-28T09:48:51.584Z"
   },
   {
    "duration": 89,
    "start_time": "2021-12-28T09:51:26.860Z"
   },
   {
    "duration": 540,
    "start_time": "2021-12-28T09:51:31.341Z"
   },
   {
    "duration": 39,
    "start_time": "2021-12-28T09:53:10.277Z"
   },
   {
    "duration": 27,
    "start_time": "2021-12-28T09:53:35.941Z"
   },
   {
    "duration": 6,
    "start_time": "2021-12-28T09:54:07.997Z"
   },
   {
    "duration": 7,
    "start_time": "2021-12-28T09:54:11.077Z"
   },
   {
    "duration": 1707,
    "start_time": "2021-12-28T09:54:28.079Z"
   },
   {
    "duration": 17,
    "start_time": "2021-12-28T09:54:29.789Z"
   },
   {
    "duration": 33,
    "start_time": "2021-12-28T09:54:29.818Z"
   },
   {
    "duration": 22,
    "start_time": "2021-12-28T09:54:29.854Z"
   },
   {
    "duration": 604,
    "start_time": "2021-12-28T09:54:29.879Z"
   },
   {
    "duration": 35,
    "start_time": "2021-12-28T09:54:30.486Z"
   },
   {
    "duration": 404,
    "start_time": "2021-12-28T09:54:30.524Z"
   },
   {
    "duration": 34,
    "start_time": "2021-12-28T09:54:30.931Z"
   },
   {
    "duration": 605,
    "start_time": "2021-12-28T09:54:30.968Z"
   },
   {
    "duration": 19,
    "start_time": "2021-12-28T09:54:31.576Z"
   },
   {
    "duration": 36,
    "start_time": "2021-12-28T09:54:31.597Z"
   },
   {
    "duration": 586,
    "start_time": "2021-12-28T09:54:31.635Z"
   },
   {
    "duration": 38,
    "start_time": "2021-12-28T09:54:32.223Z"
   },
   {
    "duration": 27,
    "start_time": "2021-12-28T09:54:32.264Z"
   },
   {
    "duration": 564,
    "start_time": "2021-12-28T09:54:32.318Z"
   },
   {
    "duration": 5,
    "start_time": "2021-12-28T09:54:32.885Z"
   },
   {
    "duration": 105,
    "start_time": "2021-12-28T09:55:58.094Z"
   },
   {
    "duration": 426,
    "start_time": "2021-12-28T09:56:01.227Z"
   },
   {
    "duration": 290,
    "start_time": "2021-12-28T09:56:06.164Z"
   },
   {
    "duration": 393,
    "start_time": "2021-12-28T09:56:36.598Z"
   },
   {
    "duration": 362,
    "start_time": "2021-12-28T09:56:41.525Z"
   },
   {
    "duration": 482,
    "start_time": "2021-12-28T09:56:54.724Z"
   },
   {
    "duration": 1547,
    "start_time": "2022-01-01T16:49:18.975Z"
   },
   {
    "duration": 17,
    "start_time": "2022-01-01T16:49:20.525Z"
   },
   {
    "duration": 43,
    "start_time": "2022-01-01T16:49:20.544Z"
   },
   {
    "duration": 21,
    "start_time": "2022-01-01T16:49:20.590Z"
   },
   {
    "duration": 584,
    "start_time": "2022-01-01T16:49:20.614Z"
   },
   {
    "duration": 21,
    "start_time": "2022-01-01T16:49:21.200Z"
   },
   {
    "duration": 410,
    "start_time": "2022-01-01T16:49:21.224Z"
   },
   {
    "duration": 44,
    "start_time": "2022-01-01T16:49:21.637Z"
   },
   {
    "duration": 604,
    "start_time": "2022-01-01T16:49:21.684Z"
   },
   {
    "duration": 24,
    "start_time": "2022-01-01T16:49:22.292Z"
   },
   {
    "duration": 56,
    "start_time": "2022-01-01T16:49:22.320Z"
   },
   {
    "duration": 537,
    "start_time": "2022-01-01T16:49:22.378Z"
   },
   {
    "duration": 50,
    "start_time": "2022-01-01T16:49:22.918Z"
   },
   {
    "duration": 24,
    "start_time": "2022-01-01T16:49:22.970Z"
   },
   {
    "duration": 585,
    "start_time": "2022-01-01T16:49:22.997Z"
   },
   {
    "duration": 6,
    "start_time": "2022-01-01T16:49:23.584Z"
   },
   {
    "duration": 492,
    "start_time": "2022-01-01T17:29:01.585Z"
   },
   {
    "duration": 346,
    "start_time": "2022-01-01T17:30:52.893Z"
   },
   {
    "duration": 331,
    "start_time": "2022-01-01T17:31:06.294Z"
   },
   {
    "duration": 371,
    "start_time": "2022-01-01T17:31:16.972Z"
   },
   {
    "duration": 8,
    "start_time": "2022-01-01T17:32:15.568Z"
   },
   {
    "duration": 83,
    "start_time": "2022-01-01T17:35:52.770Z"
   },
   {
    "duration": 91,
    "start_time": "2022-01-01T17:36:45.418Z"
   },
   {
    "duration": 85,
    "start_time": "2022-01-01T17:37:00.750Z"
   },
   {
    "duration": 146,
    "start_time": "2022-01-01T17:37:12.358Z"
   },
   {
    "duration": 80,
    "start_time": "2022-01-01T17:37:36.500Z"
   },
   {
    "duration": 8588,
    "start_time": "2022-01-01T17:38:31.738Z"
   },
   {
    "duration": 75,
    "start_time": "2022-01-01T17:38:53.910Z"
   },
   {
    "duration": 89,
    "start_time": "2022-01-01T17:39:06.439Z"
   },
   {
    "duration": 75,
    "start_time": "2022-01-01T17:39:24.039Z"
   },
   {
    "duration": 202,
    "start_time": "2022-01-01T17:39:54.970Z"
   },
   {
    "duration": 114,
    "start_time": "2022-01-01T17:40:05.564Z"
   },
   {
    "duration": 6,
    "start_time": "2022-01-01T17:41:27.159Z"
   },
   {
    "duration": 4,
    "start_time": "2022-01-01T17:41:36.869Z"
   },
   {
    "duration": 441,
    "start_time": "2022-01-01T17:59:15.831Z"
   },
   {
    "duration": 362,
    "start_time": "2022-01-01T17:59:29.797Z"
   },
   {
    "duration": 325,
    "start_time": "2022-01-01T18:00:13.609Z"
   },
   {
    "duration": 76,
    "start_time": "2022-01-01T18:00:21.993Z"
   },
   {
    "duration": 385,
    "start_time": "2022-01-01T18:00:33.001Z"
   },
   {
    "duration": 326,
    "start_time": "2022-01-01T18:00:38.716Z"
   },
   {
    "duration": 1747,
    "start_time": "2022-01-01T18:00:59.810Z"
   },
   {
    "duration": 19,
    "start_time": "2022-01-01T18:01:01.561Z"
   },
   {
    "duration": 37,
    "start_time": "2022-01-01T18:01:01.584Z"
   },
   {
    "duration": 47,
    "start_time": "2022-01-01T18:01:01.625Z"
   },
   {
    "duration": 590,
    "start_time": "2022-01-01T18:01:01.676Z"
   },
   {
    "duration": 22,
    "start_time": "2022-01-01T18:01:02.270Z"
   },
   {
    "duration": 409,
    "start_time": "2022-01-01T18:01:02.294Z"
   },
   {
    "duration": 33,
    "start_time": "2022-01-01T18:01:02.707Z"
   },
   {
    "duration": 533,
    "start_time": "2022-01-01T18:01:02.759Z"
   },
   {
    "duration": 19,
    "start_time": "2022-01-01T18:01:03.294Z"
   },
   {
    "duration": 44,
    "start_time": "2022-01-01T18:01:03.316Z"
   },
   {
    "duration": 563,
    "start_time": "2022-01-01T18:01:03.362Z"
   },
   {
    "duration": 3,
    "start_time": "2022-01-01T18:01:03.928Z"
   },
   {
    "duration": 584,
    "start_time": "2022-01-01T18:01:03.933Z"
   },
   {
    "duration": -73,
    "start_time": "2022-01-01T18:01:04.593Z"
   },
   {
    "duration": -75,
    "start_time": "2022-01-01T18:01:04.598Z"
   },
   {
    "duration": -75,
    "start_time": "2022-01-01T18:01:04.600Z"
   },
   {
    "duration": -77,
    "start_time": "2022-01-01T18:01:04.603Z"
   },
   {
    "duration": 333,
    "start_time": "2022-01-01T18:01:26.718Z"
   },
   {
    "duration": 104,
    "start_time": "2022-01-01T18:01:47.669Z"
   },
   {
    "duration": 33,
    "start_time": "2022-01-01T18:01:50.632Z"
   },
   {
    "duration": 42,
    "start_time": "2022-01-01T18:02:06.496Z"
   },
   {
    "duration": 37,
    "start_time": "2022-01-01T18:02:13.324Z"
   },
   {
    "duration": 43,
    "start_time": "2022-01-01T18:02:18.246Z"
   },
   {
    "duration": 43,
    "start_time": "2022-01-01T18:02:25.200Z"
   },
   {
    "duration": 130,
    "start_time": "2022-01-01T18:02:31.231Z"
   },
   {
    "duration": 9193,
    "start_time": "2022-01-01T18:03:09.256Z"
   },
   {
    "duration": 35,
    "start_time": "2022-01-01T18:03:46.539Z"
   },
   {
    "duration": 44,
    "start_time": "2022-01-01T18:10:09.387Z"
   },
   {
    "duration": 43,
    "start_time": "2022-01-01T18:10:20.158Z"
   },
   {
    "duration": 357,
    "start_time": "2022-01-01T18:11:14.403Z"
   },
   {
    "duration": 42,
    "start_time": "2022-01-01T18:11:24.137Z"
   },
   {
    "duration": 331,
    "start_time": "2022-01-01T18:13:27.660Z"
   },
   {
    "duration": 319,
    "start_time": "2022-01-01T18:13:40.540Z"
   },
   {
    "duration": 331,
    "start_time": "2022-01-01T18:14:12.173Z"
   },
   {
    "duration": 328,
    "start_time": "2022-01-01T18:14:21.215Z"
   },
   {
    "duration": 482,
    "start_time": "2022-01-01T18:14:34.038Z"
   },
   {
    "duration": 394,
    "start_time": "2022-01-01T18:14:42.254Z"
   },
   {
    "duration": 411,
    "start_time": "2022-01-01T18:14:50.918Z"
   },
   {
    "duration": 370,
    "start_time": "2022-01-01T18:16:33.442Z"
   },
   {
    "duration": 60,
    "start_time": "2022-01-01T18:17:45.081Z"
   },
   {
    "duration": 62,
    "start_time": "2022-01-01T18:17:55.876Z"
   },
   {
    "duration": 64,
    "start_time": "2022-01-01T18:18:57.359Z"
   },
   {
    "duration": 134,
    "start_time": "2022-01-01T18:19:12.856Z"
   },
   {
    "duration": 62,
    "start_time": "2022-01-01T18:19:17.749Z"
   },
   {
    "duration": 59,
    "start_time": "2022-01-01T18:19:41.349Z"
   },
   {
    "duration": 3,
    "start_time": "2022-01-01T18:19:45.641Z"
   },
   {
    "duration": 25,
    "start_time": "2022-01-01T18:19:49.651Z"
   },
   {
    "duration": 1701,
    "start_time": "2022-01-01T18:20:11.117Z"
   },
   {
    "duration": 36,
    "start_time": "2022-01-01T18:20:12.826Z"
   },
   {
    "duration": 31,
    "start_time": "2022-01-01T18:20:12.865Z"
   },
   {
    "duration": 23,
    "start_time": "2022-01-01T18:20:12.900Z"
   },
   {
    "duration": 556,
    "start_time": "2022-01-01T18:20:12.959Z"
   },
   {
    "duration": 20,
    "start_time": "2022-01-01T18:20:13.518Z"
   },
   {
    "duration": 396,
    "start_time": "2022-01-01T18:20:13.563Z"
   },
   {
    "duration": 35,
    "start_time": "2022-01-01T18:20:13.962Z"
   },
   {
    "duration": 554,
    "start_time": "2022-01-01T18:20:14.000Z"
   },
   {
    "duration": 18,
    "start_time": "2022-01-01T18:20:14.560Z"
   },
   {
    "duration": 17,
    "start_time": "2022-01-01T18:20:14.580Z"
   },
   {
    "duration": 550,
    "start_time": "2022-01-01T18:20:14.599Z"
   },
   {
    "duration": 9,
    "start_time": "2022-01-01T18:20:15.151Z"
   },
   {
    "duration": 138,
    "start_time": "2022-01-01T18:20:15.162Z"
   },
   {
    "duration": 24,
    "start_time": "2022-01-01T18:20:15.302Z"
   },
   {
    "duration": 6,
    "start_time": "2022-01-01T18:20:15.329Z"
   },
   {
    "duration": 623,
    "start_time": "2022-01-01T18:20:15.337Z"
   },
   {
    "duration": 7,
    "start_time": "2022-01-01T18:20:15.962Z"
   },
   {
    "duration": 10,
    "start_time": "2022-01-01T18:21:10.636Z"
   },
   {
    "duration": 10,
    "start_time": "2022-01-01T18:21:20.671Z"
   },
   {
    "duration": 10,
    "start_time": "2022-01-01T18:21:51.660Z"
   },
   {
    "duration": 10,
    "start_time": "2022-01-01T18:22:07.854Z"
   },
   {
    "duration": 9,
    "start_time": "2022-01-01T18:22:20.866Z"
   },
   {
    "duration": 59,
    "start_time": "2022-01-01T18:22:29.711Z"
   },
   {
    "duration": 63,
    "start_time": "2022-01-01T18:22:38.288Z"
   },
   {
    "duration": 10,
    "start_time": "2022-01-01T18:22:58.836Z"
   },
   {
    "duration": 9,
    "start_time": "2022-01-01T18:23:12.325Z"
   },
   {
    "duration": 7,
    "start_time": "2022-01-01T18:23:42.951Z"
   },
   {
    "duration": 8,
    "start_time": "2022-01-01T18:24:11.468Z"
   },
   {
    "duration": 7,
    "start_time": "2022-01-01T18:24:21.595Z"
   },
   {
    "duration": 7,
    "start_time": "2022-01-01T18:24:27.050Z"
   },
   {
    "duration": 7,
    "start_time": "2022-01-01T18:24:32.874Z"
   },
   {
    "duration": 10,
    "start_time": "2022-01-01T18:25:12.398Z"
   },
   {
    "duration": 10,
    "start_time": "2022-01-01T18:25:17.020Z"
   },
   {
    "duration": 9,
    "start_time": "2022-01-01T18:25:34.297Z"
   },
   {
    "duration": 10,
    "start_time": "2022-01-01T18:25:36.170Z"
   },
   {
    "duration": 63,
    "start_time": "2022-01-01T18:26:01.343Z"
   },
   {
    "duration": 23,
    "start_time": "2022-01-01T18:26:03.685Z"
   },
   {
    "duration": 36,
    "start_time": "2022-01-01T18:26:44.356Z"
   },
   {
    "duration": 25,
    "start_time": "2022-01-01T18:26:49.074Z"
   },
   {
    "duration": 514,
    "start_time": "2022-01-01T18:41:49.673Z"
   },
   {
    "duration": 104,
    "start_time": "2022-01-01T18:42:03.392Z"
   },
   {
    "duration": 338,
    "start_time": "2022-01-01T18:42:11.356Z"
   },
   {
    "duration": 337,
    "start_time": "2022-01-01T18:42:55.680Z"
   },
   {
    "duration": 8,
    "start_time": "2022-01-01T18:43:29.588Z"
   },
   {
    "duration": 337,
    "start_time": "2022-01-01T18:43:38.060Z"
   },
   {
    "duration": 358,
    "start_time": "2022-01-01T18:43:40.940Z"
   },
   {
    "duration": 11,
    "start_time": "2022-01-01T18:43:50.244Z"
   },
   {
    "duration": 399,
    "start_time": "2022-01-01T18:44:09.459Z"
   },
   {
    "duration": 15,
    "start_time": "2022-01-01T18:49:01.582Z"
   },
   {
    "duration": 398,
    "start_time": "2022-01-01T18:49:39.396Z"
   },
   {
    "duration": 339,
    "start_time": "2022-01-01T18:49:58.583Z"
   },
   {
    "duration": 319,
    "start_time": "2022-01-01T18:50:04.828Z"
   },
   {
    "duration": 342,
    "start_time": "2022-01-01T18:50:55.469Z"
   },
   {
    "duration": 330,
    "start_time": "2022-01-01T18:51:16.887Z"
   },
   {
    "duration": 340,
    "start_time": "2022-01-01T18:52:02.990Z"
   },
   {
    "duration": 6,
    "start_time": "2022-01-01T18:52:25.644Z"
   },
   {
    "duration": 451,
    "start_time": "2022-01-01T18:53:20.487Z"
   },
   {
    "duration": 594,
    "start_time": "2022-01-01T18:53:33.821Z"
   },
   {
    "duration": 4,
    "start_time": "2022-01-01T18:56:19.030Z"
   },
   {
    "duration": 340,
    "start_time": "2022-01-01T19:01:07.286Z"
   },
   {
    "duration": 354,
    "start_time": "2022-01-01T19:02:30.576Z"
   },
   {
    "duration": 113,
    "start_time": "2022-01-01T19:03:16.404Z"
   },
   {
    "duration": 10,
    "start_time": "2022-01-01T19:04:00.421Z"
   },
   {
    "duration": 20,
    "start_time": "2022-01-01T19:04:09.561Z"
   },
   {
    "duration": 9,
    "start_time": "2022-01-01T19:04:17.515Z"
   },
   {
    "duration": 11,
    "start_time": "2022-01-01T19:04:26.219Z"
   },
   {
    "duration": 9,
    "start_time": "2022-01-01T19:04:31.195Z"
   },
   {
    "duration": 10,
    "start_time": "2022-01-01T19:04:48.190Z"
   },
   {
    "duration": 8,
    "start_time": "2022-01-01T19:04:57.016Z"
   },
   {
    "duration": 9,
    "start_time": "2022-01-01T19:05:10.129Z"
   },
   {
    "duration": 10,
    "start_time": "2022-01-01T19:05:56.958Z"
   },
   {
    "duration": 8,
    "start_time": "2022-01-01T19:05:59.821Z"
   },
   {
    "duration": 1727,
    "start_time": "2022-01-02T08:12:36.817Z"
   },
   {
    "duration": 24,
    "start_time": "2022-01-02T08:12:38.548Z"
   },
   {
    "duration": 45,
    "start_time": "2022-01-02T08:12:38.576Z"
   },
   {
    "duration": 59,
    "start_time": "2022-01-02T08:12:38.624Z"
   },
   {
    "duration": 573,
    "start_time": "2022-01-02T08:12:38.685Z"
   },
   {
    "duration": 26,
    "start_time": "2022-01-02T08:12:39.266Z"
   },
   {
    "duration": 420,
    "start_time": "2022-01-02T08:12:39.294Z"
   },
   {
    "duration": 50,
    "start_time": "2022-01-02T08:12:39.717Z"
   },
   {
    "duration": 549,
    "start_time": "2022-01-02T08:12:39.769Z"
   },
   {
    "duration": 18,
    "start_time": "2022-01-02T08:12:40.322Z"
   },
   {
    "duration": 19,
    "start_time": "2022-01-02T08:12:40.363Z"
   },
   {
    "duration": 638,
    "start_time": "2022-01-02T08:12:40.385Z"
   },
   {
    "duration": 138,
    "start_time": "2022-01-02T08:12:41.025Z"
   },
   {
    "duration": 25,
    "start_time": "2022-01-02T08:12:41.165Z"
   },
   {
    "duration": 564,
    "start_time": "2022-01-02T08:12:41.193Z"
   },
   {
    "duration": 8,
    "start_time": "2022-01-02T08:12:41.764Z"
   },
   {
    "duration": 9,
    "start_time": "2022-01-02T08:12:41.774Z"
   },
   {
    "duration": 8,
    "start_time": "2022-01-02T08:13:16.147Z"
   },
   {
    "duration": 158,
    "start_time": "2022-01-02T08:14:37.055Z"
   },
   {
    "duration": 304,
    "start_time": "2022-01-02T08:14:45.010Z"
   },
   {
    "duration": 8,
    "start_time": "2022-01-02T08:35:55.475Z"
   },
   {
    "duration": 81,
    "start_time": "2022-01-02T09:16:35.867Z"
   },
   {
    "duration": 152,
    "start_time": "2022-01-02T09:17:20.943Z"
   },
   {
    "duration": 1857,
    "start_time": "2022-01-02T09:17:43.497Z"
   },
   {
    "duration": 23,
    "start_time": "2022-01-02T09:17:45.356Z"
   },
   {
    "duration": 31,
    "start_time": "2022-01-02T09:17:45.382Z"
   },
   {
    "duration": 49,
    "start_time": "2022-01-02T09:17:45.416Z"
   },
   {
    "duration": 623,
    "start_time": "2022-01-02T09:17:45.468Z"
   },
   {
    "duration": 19,
    "start_time": "2022-01-02T09:17:46.093Z"
   },
   {
    "duration": 421,
    "start_time": "2022-01-02T09:17:46.114Z"
   },
   {
    "duration": 59,
    "start_time": "2022-01-02T09:17:46.539Z"
   },
   {
    "duration": 578,
    "start_time": "2022-01-02T09:17:46.601Z"
   },
   {
    "duration": 18,
    "start_time": "2022-01-02T09:17:47.181Z"
   },
   {
    "duration": 17,
    "start_time": "2022-01-02T09:17:47.201Z"
   },
   {
    "duration": 621,
    "start_time": "2022-01-02T09:17:47.220Z"
   },
   {
    "duration": 138,
    "start_time": "2022-01-02T09:17:47.843Z"
   },
   {
    "duration": 25,
    "start_time": "2022-01-02T09:17:47.984Z"
   },
   {
    "duration": 628,
    "start_time": "2022-01-02T09:17:48.012Z"
   },
   {
    "duration": 20,
    "start_time": "2022-01-02T09:17:48.643Z"
   },
   {
    "duration": 89,
    "start_time": "2022-01-02T09:17:48.666Z"
   },
   {
    "duration": -844,
    "start_time": "2022-01-02T09:17:49.602Z"
   },
   {
    "duration": 87,
    "start_time": "2022-01-02T09:19:00.235Z"
   },
   {
    "duration": 1707,
    "start_time": "2022-01-02T09:19:13.260Z"
   },
   {
    "duration": 6,
    "start_time": "2022-01-02T10:05:02.008Z"
   },
   {
    "duration": 13,
    "start_time": "2022-01-02T10:09:44.538Z"
   },
   {
    "duration": 6,
    "start_time": "2022-01-02T10:10:05.645Z"
   },
   {
    "duration": 13,
    "start_time": "2022-01-02T10:10:10.582Z"
   },
   {
    "duration": 16,
    "start_time": "2022-01-02T10:10:38.655Z"
   },
   {
    "duration": 21,
    "start_time": "2022-01-02T10:10:56.053Z"
   },
   {
    "duration": 17,
    "start_time": "2022-01-02T10:11:43.397Z"
   },
   {
    "duration": 16,
    "start_time": "2022-01-02T10:11:55.101Z"
   },
   {
    "duration": 11,
    "start_time": "2022-01-02T10:12:11.358Z"
   },
   {
    "duration": 426,
    "start_time": "2022-01-02T10:12:30.767Z"
   },
   {
    "duration": 16,
    "start_time": "2022-01-02T10:12:58.309Z"
   },
   {
    "duration": 17,
    "start_time": "2022-01-02T10:13:02.958Z"
   },
   {
    "duration": 18,
    "start_time": "2022-01-02T10:13:09.287Z"
   },
   {
    "duration": 16,
    "start_time": "2022-01-02T10:13:24.461Z"
   },
   {
    "duration": 16,
    "start_time": "2022-01-02T10:13:27.665Z"
   },
   {
    "duration": 14,
    "start_time": "2022-01-02T10:13:36.940Z"
   },
   {
    "duration": 9,
    "start_time": "2022-01-02T10:13:55.335Z"
   },
   {
    "duration": 14,
    "start_time": "2022-01-02T10:13:59.552Z"
   },
   {
    "duration": 8,
    "start_time": "2022-01-02T10:14:12.938Z"
   },
   {
    "duration": 281,
    "start_time": "2022-01-02T10:18:53.503Z"
   },
   {
    "duration": 244,
    "start_time": "2022-01-02T10:22:26.096Z"
   },
   {
    "duration": 8,
    "start_time": "2022-01-02T10:23:06.143Z"
   },
   {
    "duration": 301,
    "start_time": "2022-01-02T10:24:37.886Z"
   },
   {
    "duration": 254,
    "start_time": "2022-01-02T10:27:16.164Z"
   },
   {
    "duration": 383,
    "start_time": "2022-01-02T10:27:39.845Z"
   },
   {
    "duration": 264,
    "start_time": "2022-01-02T10:28:05.802Z"
   },
   {
    "duration": 103,
    "start_time": "2022-01-02T10:44:07.861Z"
   },
   {
    "duration": 253,
    "start_time": "2022-01-02T10:44:15.761Z"
   },
   {
    "duration": 233,
    "start_time": "2022-01-02T10:46:50.941Z"
   },
   {
    "duration": 230,
    "start_time": "2022-01-02T10:47:16.671Z"
   },
   {
    "duration": 248,
    "start_time": "2022-01-02T10:47:34.710Z"
   },
   {
    "duration": 231,
    "start_time": "2022-01-02T10:47:47.999Z"
   },
   {
    "duration": 261,
    "start_time": "2022-01-02T10:48:53.229Z"
   },
   {
    "duration": 254,
    "start_time": "2022-01-02T10:49:04.648Z"
   },
   {
    "duration": 17,
    "start_time": "2022-01-02T10:49:30.587Z"
   },
   {
    "duration": 243,
    "start_time": "2022-01-02T10:49:44.430Z"
   },
   {
    "duration": 291,
    "start_time": "2022-01-02T10:49:57.816Z"
   },
   {
    "duration": 343,
    "start_time": "2022-01-02T10:52:41.415Z"
   },
   {
    "duration": 6787,
    "start_time": "2022-01-02T10:52:50.368Z"
   },
   {
    "duration": 237,
    "start_time": "2022-01-02T10:53:15.404Z"
   },
   {
    "duration": 590,
    "start_time": "2022-01-02T10:53:44.346Z"
   },
   {
    "duration": 274,
    "start_time": "2022-01-02T10:53:54.085Z"
   },
   {
    "duration": 297,
    "start_time": "2022-01-02T10:54:05.230Z"
   },
   {
    "duration": 250,
    "start_time": "2022-01-02T10:55:28.342Z"
   },
   {
    "duration": 299,
    "start_time": "2022-01-02T10:55:39.663Z"
   },
   {
    "duration": 275,
    "start_time": "2022-01-02T10:56:08.355Z"
   },
   {
    "duration": 277,
    "start_time": "2022-01-02T10:56:45.545Z"
   },
   {
    "duration": 1779,
    "start_time": "2022-01-02T10:56:51.848Z"
   },
   {
    "duration": 16,
    "start_time": "2022-01-02T10:56:53.630Z"
   },
   {
    "duration": 42,
    "start_time": "2022-01-02T10:56:53.649Z"
   },
   {
    "duration": 21,
    "start_time": "2022-01-02T10:56:53.694Z"
   },
   {
    "duration": 594,
    "start_time": "2022-01-02T10:56:53.718Z"
   },
   {
    "duration": 23,
    "start_time": "2022-01-02T10:56:54.315Z"
   },
   {
    "duration": 403,
    "start_time": "2022-01-02T10:56:54.363Z"
   },
   {
    "duration": 35,
    "start_time": "2022-01-02T10:56:54.769Z"
   },
   {
    "duration": 557,
    "start_time": "2022-01-02T10:56:54.806Z"
   },
   {
    "duration": 19,
    "start_time": "2022-01-02T10:56:55.365Z"
   },
   {
    "duration": 17,
    "start_time": "2022-01-02T10:56:55.386Z"
   },
   {
    "duration": 560,
    "start_time": "2022-01-02T10:56:55.406Z"
   },
   {
    "duration": 113,
    "start_time": "2022-01-02T10:56:55.968Z"
   },
   {
    "duration": 25,
    "start_time": "2022-01-02T10:56:56.083Z"
   },
   {
    "duration": 573,
    "start_time": "2022-01-02T10:56:56.111Z"
   },
   {
    "duration": 16,
    "start_time": "2022-01-02T10:56:56.686Z"
   },
   {
    "duration": 10,
    "start_time": "2022-01-02T10:56:56.704Z"
   },
   {
    "duration": 1614,
    "start_time": "2022-01-02T10:56:56.716Z"
   },
   {
    "duration": 394,
    "start_time": "2022-01-02T10:56:58.332Z"
   },
   {
    "duration": -700,
    "start_time": "2022-01-02T10:56:59.430Z"
   },
   {
    "duration": 237,
    "start_time": "2022-01-02T10:57:26.466Z"
   },
   {
    "duration": 336,
    "start_time": "2022-01-02T10:57:39.641Z"
   },
   {
    "duration": 242,
    "start_time": "2022-01-02T10:59:04.578Z"
   },
   {
    "duration": 235,
    "start_time": "2022-01-02T10:59:27.830Z"
   },
   {
    "duration": 15,
    "start_time": "2022-01-02T11:01:13.567Z"
   },
   {
    "duration": 244,
    "start_time": "2022-01-02T11:02:37.512Z"
   },
   {
    "duration": 5980,
    "start_time": "2022-01-02T11:06:58.560Z"
   },
   {
    "duration": 5857,
    "start_time": "2022-01-02T11:07:44.074Z"
   },
   {
    "duration": 15,
    "start_time": "2022-01-02T11:07:58.307Z"
   },
   {
    "duration": 31,
    "start_time": "2022-01-02T11:08:07.524Z"
   },
   {
    "duration": 26,
    "start_time": "2022-01-02T11:08:21.595Z"
   },
   {
    "duration": 255,
    "start_time": "2022-01-02T11:08:44.725Z"
   },
   {
    "duration": 259,
    "start_time": "2022-01-02T11:09:04.023Z"
   },
   {
    "duration": 286,
    "start_time": "2022-01-02T11:09:22.649Z"
   },
   {
    "duration": 16,
    "start_time": "2022-01-02T11:09:34.489Z"
   },
   {
    "duration": 14,
    "start_time": "2022-01-02T11:10:10.350Z"
   },
   {
    "duration": 25,
    "start_time": "2022-01-02T11:10:15.382Z"
   },
   {
    "duration": 255,
    "start_time": "2022-01-02T11:12:37.472Z"
   },
   {
    "duration": 268,
    "start_time": "2022-01-02T11:13:08.105Z"
   },
   {
    "duration": 372,
    "start_time": "2022-01-02T11:13:45.046Z"
   },
   {
    "duration": 254,
    "start_time": "2022-01-02T11:14:22.394Z"
   },
   {
    "duration": 15,
    "start_time": "2022-01-02T11:16:00.178Z"
   },
   {
    "duration": 264,
    "start_time": "2022-01-02T11:16:17.510Z"
   },
   {
    "duration": 9,
    "start_time": "2022-01-02T11:16:23.400Z"
   },
   {
    "duration": 247,
    "start_time": "2022-01-02T11:18:23.488Z"
   },
   {
    "duration": 263,
    "start_time": "2022-01-02T11:18:40.921Z"
   },
   {
    "duration": 39,
    "start_time": "2022-01-02T11:21:26.938Z"
   },
   {
    "duration": 44,
    "start_time": "2022-01-02T11:21:41.246Z"
   },
   {
    "duration": 42,
    "start_time": "2022-01-02T11:21:52.931Z"
   },
   {
    "duration": 11,
    "start_time": "2022-01-02T11:21:58.193Z"
   },
   {
    "duration": 258,
    "start_time": "2022-01-02T11:23:25.643Z"
   },
   {
    "duration": 1077,
    "start_time": "2022-01-02T11:24:41.041Z"
   },
   {
    "duration": 23,
    "start_time": "2022-01-02T11:24:48.580Z"
   },
   {
    "duration": 15,
    "start_time": "2022-01-02T11:25:44.543Z"
   },
   {
    "duration": 259,
    "start_time": "2022-01-02T11:30:44.693Z"
   },
   {
    "duration": 25,
    "start_time": "2022-01-02T11:31:45.055Z"
   },
   {
    "duration": 11,
    "start_time": "2022-01-02T11:31:49.756Z"
   },
   {
    "duration": 7598,
    "start_time": "2022-01-02T11:32:15.824Z"
   },
   {
    "duration": 33,
    "start_time": "2022-01-02T11:32:29.575Z"
   },
   {
    "duration": 7,
    "start_time": "2022-01-02T11:32:32.145Z"
   },
   {
    "duration": 11,
    "start_time": "2022-01-02T11:32:43.935Z"
   },
   {
    "duration": 302,
    "start_time": "2022-01-02T11:33:56.631Z"
   },
   {
    "duration": 9,
    "start_time": "2022-01-02T11:36:34.574Z"
   },
   {
    "duration": 11,
    "start_time": "2022-01-02T11:36:37.548Z"
   },
   {
    "duration": 12,
    "start_time": "2022-01-02T11:38:08.958Z"
   },
   {
    "duration": 11,
    "start_time": "2022-01-02T11:38:10.704Z"
   },
   {
    "duration": 23,
    "start_time": "2022-01-02T11:38:51.181Z"
   },
   {
    "duration": 14,
    "start_time": "2022-01-02T11:39:32.599Z"
   },
   {
    "duration": 12,
    "start_time": "2022-01-02T11:39:34.602Z"
   },
   {
    "duration": 12,
    "start_time": "2022-01-02T11:39:38.536Z"
   },
   {
    "duration": 6,
    "start_time": "2022-01-02T11:39:51.535Z"
   },
   {
    "duration": 11,
    "start_time": "2022-01-02T11:39:54.449Z"
   },
   {
    "duration": 24,
    "start_time": "2022-01-02T11:40:28.467Z"
   },
   {
    "duration": 7739,
    "start_time": "2022-01-02T11:42:09.901Z"
   },
   {
    "duration": 247,
    "start_time": "2022-01-02T11:42:35.203Z"
   },
   {
    "duration": 18,
    "start_time": "2022-01-02T11:42:41.287Z"
   },
   {
    "duration": 8,
    "start_time": "2022-01-02T11:42:52.718Z"
   },
   {
    "duration": 6490,
    "start_time": "2022-01-02T11:42:55.621Z"
   },
   {
    "duration": 26,
    "start_time": "2022-01-02T11:43:09.285Z"
   },
   {
    "duration": 1643,
    "start_time": "2022-01-02T11:43:55.199Z"
   },
   {
    "duration": 21,
    "start_time": "2022-01-02T11:43:56.845Z"
   },
   {
    "duration": 31,
    "start_time": "2022-01-02T11:43:56.869Z"
   },
   {
    "duration": 21,
    "start_time": "2022-01-02T11:43:56.903Z"
   },
   {
    "duration": 594,
    "start_time": "2022-01-02T11:43:56.926Z"
   },
   {
    "duration": 20,
    "start_time": "2022-01-02T11:43:57.523Z"
   },
   {
    "duration": 407,
    "start_time": "2022-01-02T11:43:57.562Z"
   },
   {
    "duration": 35,
    "start_time": "2022-01-02T11:43:57.973Z"
   },
   {
    "duration": 576,
    "start_time": "2022-01-02T11:43:58.011Z"
   },
   {
    "duration": 18,
    "start_time": "2022-01-02T11:43:58.590Z"
   },
   {
    "duration": 17,
    "start_time": "2022-01-02T11:43:58.611Z"
   },
   {
    "duration": 580,
    "start_time": "2022-01-02T11:43:58.631Z"
   },
   {
    "duration": 127,
    "start_time": "2022-01-02T11:43:59.213Z"
   },
   {
    "duration": 40,
    "start_time": "2022-01-02T11:43:59.343Z"
   },
   {
    "duration": 693,
    "start_time": "2022-01-02T11:43:59.386Z"
   },
   {
    "duration": 15,
    "start_time": "2022-01-02T11:44:00.082Z"
   },
   {
    "duration": 1505,
    "start_time": "2022-01-02T11:44:00.100Z"
   },
   {
    "duration": 35,
    "start_time": "2022-01-02T11:44:01.608Z"
   },
   {
    "duration": 20,
    "start_time": "2022-01-02T11:44:01.663Z"
   },
   {
    "duration": 28,
    "start_time": "2022-01-02T11:44:01.685Z"
   },
   {
    "duration": 15,
    "start_time": "2022-01-02T11:44:01.716Z"
   },
   {
    "duration": 20,
    "start_time": "2022-01-02T11:44:01.733Z"
   },
   {
    "duration": 91,
    "start_time": "2022-01-02T11:47:09.272Z"
   },
   {
    "duration": 7,
    "start_time": "2022-01-02T11:47:18.246Z"
   },
   {
    "duration": 13,
    "start_time": "2022-01-02T11:47:25.130Z"
   },
   {
    "duration": 8,
    "start_time": "2022-01-02T11:48:09.973Z"
   },
   {
    "duration": 21,
    "start_time": "2022-01-02T11:49:10.183Z"
   },
   {
    "duration": 7029,
    "start_time": "2022-01-02T11:49:23.642Z"
   },
   {
    "duration": 23,
    "start_time": "2022-01-02T11:49:44.061Z"
   },
   {
    "duration": 35,
    "start_time": "2022-01-02T11:50:02.791Z"
   },
   {
    "duration": 6207,
    "start_time": "2022-01-02T11:51:04.572Z"
   },
   {
    "duration": 6395,
    "start_time": "2022-01-02T11:51:26.029Z"
   },
   {
    "duration": 18,
    "start_time": "2022-01-02T11:52:12.558Z"
   },
   {
    "duration": 34,
    "start_time": "2022-01-02T11:52:23.185Z"
   },
   {
    "duration": 6032,
    "start_time": "2022-01-02T11:52:31.576Z"
   },
   {
    "duration": 6612,
    "start_time": "2022-01-02T11:52:54.950Z"
   },
   {
    "duration": 7286,
    "start_time": "2022-01-02T11:53:38.428Z"
   },
   {
    "duration": 6439,
    "start_time": "2022-01-02T11:55:08.478Z"
   },
   {
    "duration": 5908,
    "start_time": "2022-01-02T11:57:52.655Z"
   },
   {
    "duration": 306,
    "start_time": "2022-01-02T11:58:19.174Z"
   },
   {
    "duration": 6312,
    "start_time": "2022-01-02T11:58:36.055Z"
   },
   {
    "duration": 11,
    "start_time": "2022-01-02T11:58:54.450Z"
   },
   {
    "duration": 9,
    "start_time": "2022-01-02T11:59:04.978Z"
   },
   {
    "duration": 16,
    "start_time": "2022-01-02T11:59:14.346Z"
   },
   {
    "duration": 7,
    "start_time": "2022-01-02T11:59:35.095Z"
   },
   {
    "duration": 4481,
    "start_time": "2022-01-02T11:59:43.413Z"
   },
   {
    "duration": 4545,
    "start_time": "2022-01-02T11:59:56.369Z"
   },
   {
    "duration": 9,
    "start_time": "2022-01-02T12:00:03.620Z"
   },
   {
    "duration": 18,
    "start_time": "2022-01-02T12:00:05.991Z"
   },
   {
    "duration": 18,
    "start_time": "2022-01-02T12:00:30.444Z"
   },
   {
    "duration": 19,
    "start_time": "2022-01-02T12:01:03.033Z"
   },
   {
    "duration": 288,
    "start_time": "2022-01-02T12:01:50.709Z"
   },
   {
    "duration": 273,
    "start_time": "2022-01-02T12:01:58.111Z"
   },
   {
    "duration": 2276,
    "start_time": "2022-01-02T12:02:07.414Z"
   },
   {
    "duration": 18,
    "start_time": "2022-01-02T12:02:09.693Z"
   },
   {
    "duration": 56,
    "start_time": "2022-01-02T12:02:09.714Z"
   },
   {
    "duration": 22,
    "start_time": "2022-01-02T12:02:09.773Z"
   },
   {
    "duration": 617,
    "start_time": "2022-01-02T12:02:09.797Z"
   },
   {
    "duration": 20,
    "start_time": "2022-01-02T12:02:10.416Z"
   },
   {
    "duration": 452,
    "start_time": "2022-01-02T12:02:10.439Z"
   },
   {
    "duration": 34,
    "start_time": "2022-01-02T12:02:10.894Z"
   },
   {
    "duration": 591,
    "start_time": "2022-01-02T12:02:10.931Z"
   },
   {
    "duration": 19,
    "start_time": "2022-01-02T12:02:11.526Z"
   },
   {
    "duration": 26,
    "start_time": "2022-01-02T12:02:11.567Z"
   },
   {
    "duration": 595,
    "start_time": "2022-01-02T12:02:11.596Z"
   },
   {
    "duration": 124,
    "start_time": "2022-01-02T12:02:12.194Z"
   },
   {
    "duration": 43,
    "start_time": "2022-01-02T12:02:12.320Z"
   },
   {
    "duration": 619,
    "start_time": "2022-01-02T12:02:12.365Z"
   },
   {
    "duration": 16,
    "start_time": "2022-01-02T12:02:12.986Z"
   },
   {
    "duration": 1607,
    "start_time": "2022-01-02T12:02:13.004Z"
   },
   {
    "duration": 23,
    "start_time": "2022-01-02T12:02:14.614Z"
   },
   {
    "duration": 43,
    "start_time": "2022-01-02T12:02:14.640Z"
   },
   {
    "duration": 11,
    "start_time": "2022-01-02T12:02:14.686Z"
   },
   {
    "duration": 12,
    "start_time": "2022-01-02T12:02:14.700Z"
   },
   {
    "duration": 6,
    "start_time": "2022-01-02T12:02:14.714Z"
   },
   {
    "duration": 51,
    "start_time": "2022-01-02T12:02:14.725Z"
   },
   {
    "duration": 9,
    "start_time": "2022-01-02T12:02:14.780Z"
   },
   {
    "duration": 21,
    "start_time": "2022-01-02T12:02:14.792Z"
   },
   {
    "duration": 8535,
    "start_time": "2022-01-02T12:02:14.816Z"
   },
   {
    "duration": 392,
    "start_time": "2022-01-02T12:02:35.506Z"
   },
   {
    "duration": 1696,
    "start_time": "2022-01-02T12:02:43.274Z"
   },
   {
    "duration": 20,
    "start_time": "2022-01-02T12:02:44.973Z"
   },
   {
    "duration": 69,
    "start_time": "2022-01-02T12:02:44.998Z"
   },
   {
    "duration": 28,
    "start_time": "2022-01-02T12:02:45.070Z"
   },
   {
    "duration": 597,
    "start_time": "2022-01-02T12:02:45.100Z"
   },
   {
    "duration": 20,
    "start_time": "2022-01-02T12:02:45.699Z"
   },
   {
    "duration": 441,
    "start_time": "2022-01-02T12:02:45.721Z"
   },
   {
    "duration": 34,
    "start_time": "2022-01-02T12:02:46.166Z"
   },
   {
    "duration": 566,
    "start_time": "2022-01-02T12:02:46.203Z"
   },
   {
    "duration": 19,
    "start_time": "2022-01-02T12:02:46.771Z"
   },
   {
    "duration": 18,
    "start_time": "2022-01-02T12:02:46.792Z"
   },
   {
    "duration": 595,
    "start_time": "2022-01-02T12:02:46.813Z"
   },
   {
    "duration": 120,
    "start_time": "2022-01-02T12:02:47.410Z"
   },
   {
    "duration": 48,
    "start_time": "2022-01-02T12:02:47.533Z"
   },
   {
    "duration": 604,
    "start_time": "2022-01-02T12:02:47.583Z"
   },
   {
    "duration": 16,
    "start_time": "2022-01-02T12:02:48.189Z"
   },
   {
    "duration": 1676,
    "start_time": "2022-01-02T12:02:48.207Z"
   },
   {
    "duration": 25,
    "start_time": "2022-01-02T12:02:49.885Z"
   },
   {
    "duration": 13,
    "start_time": "2022-01-02T12:02:49.913Z"
   },
   {
    "duration": 36,
    "start_time": "2022-01-02T12:02:49.929Z"
   },
   {
    "duration": 14,
    "start_time": "2022-01-02T12:02:49.968Z"
   },
   {
    "duration": 10,
    "start_time": "2022-01-02T12:02:49.984Z"
   },
   {
    "duration": 9,
    "start_time": "2022-01-02T12:02:49.998Z"
   },
   {
    "duration": 53,
    "start_time": "2022-01-02T12:02:50.010Z"
   },
   {
    "duration": 22,
    "start_time": "2022-01-02T12:02:50.066Z"
   },
   {
    "duration": 7069,
    "start_time": "2022-01-02T12:02:50.091Z"
   },
   {
    "duration": 3,
    "start_time": "2022-01-02T12:03:22.276Z"
   },
   {
    "duration": 12,
    "start_time": "2022-01-02T12:05:52.149Z"
   },
   {
    "duration": 15,
    "start_time": "2022-01-02T12:06:02.333Z"
   },
   {
    "duration": 696,
    "start_time": "2022-01-02T12:06:45.579Z"
   },
   {
    "duration": 852,
    "start_time": "2022-01-02T12:06:59.485Z"
   },
   {
    "duration": 1065,
    "start_time": "2022-01-02T12:08:24.332Z"
   },
   {
    "duration": 674,
    "start_time": "2022-01-02T12:09:16.257Z"
   },
   {
    "duration": 702,
    "start_time": "2022-01-02T12:09:39.742Z"
   },
   {
    "duration": 1349,
    "start_time": "2022-01-02T12:09:56.253Z"
   },
   {
    "duration": 379,
    "start_time": "2022-01-02T12:10:20.606Z"
   },
   {
    "duration": 387,
    "start_time": "2022-01-02T12:11:05.654Z"
   },
   {
    "duration": 386,
    "start_time": "2022-01-02T12:11:47.321Z"
   },
   {
    "duration": 383,
    "start_time": "2022-01-02T12:14:35.998Z"
   },
   {
    "duration": 392,
    "start_time": "2022-01-02T12:16:08.028Z"
   },
   {
    "duration": 367,
    "start_time": "2022-01-02T12:16:22.994Z"
   },
   {
    "duration": 374,
    "start_time": "2022-01-02T12:16:38.126Z"
   },
   {
    "duration": 488,
    "start_time": "2022-01-02T12:17:15.062Z"
   },
   {
    "duration": 365,
    "start_time": "2022-01-02T12:18:03.789Z"
   },
   {
    "duration": 511,
    "start_time": "2022-01-02T12:18:20.260Z"
   },
   {
    "duration": 412,
    "start_time": "2022-01-02T17:36:47.740Z"
   },
   {
    "duration": 1299,
    "start_time": "2022-01-02T17:37:01.941Z"
   },
   {
    "duration": 10,
    "start_time": "2022-01-02T17:37:03.242Z"
   },
   {
    "duration": 18,
    "start_time": "2022-01-02T17:37:03.254Z"
   },
   {
    "duration": 12,
    "start_time": "2022-01-02T17:37:03.274Z"
   },
   {
    "duration": 328,
    "start_time": "2022-01-02T17:37:03.288Z"
   },
   {
    "duration": 16,
    "start_time": "2022-01-02T17:37:03.617Z"
   },
   {
    "duration": 227,
    "start_time": "2022-01-02T17:37:03.634Z"
   },
   {
    "duration": 20,
    "start_time": "2022-01-02T17:37:03.864Z"
   },
   {
    "duration": 310,
    "start_time": "2022-01-02T17:37:03.885Z"
   },
   {
    "duration": 11,
    "start_time": "2022-01-02T17:37:04.197Z"
   },
   {
    "duration": 24,
    "start_time": "2022-01-02T17:37:04.210Z"
   },
   {
    "duration": 299,
    "start_time": "2022-01-02T17:37:04.236Z"
   },
   {
    "duration": 77,
    "start_time": "2022-01-02T17:37:04.537Z"
   },
   {
    "duration": 17,
    "start_time": "2022-01-02T17:37:04.627Z"
   },
   {
    "duration": 330,
    "start_time": "2022-01-02T17:37:04.646Z"
   },
   {
    "duration": 9,
    "start_time": "2022-01-02T17:37:04.978Z"
   },
   {
    "duration": 2801,
    "start_time": "2022-01-02T17:37:04.988Z"
   },
   {
    "duration": 14,
    "start_time": "2022-01-02T17:37:07.791Z"
   },
   {
    "duration": 8,
    "start_time": "2022-01-02T17:37:07.807Z"
   },
   {
    "duration": 16,
    "start_time": "2022-01-02T17:37:07.816Z"
   },
   {
    "duration": 9,
    "start_time": "2022-01-02T17:37:07.833Z"
   },
   {
    "duration": 4,
    "start_time": "2022-01-02T17:37:07.844Z"
   },
   {
    "duration": 5,
    "start_time": "2022-01-02T17:37:07.850Z"
   },
   {
    "duration": 5,
    "start_time": "2022-01-02T17:37:07.857Z"
   },
   {
    "duration": 4,
    "start_time": "2022-01-02T17:37:07.863Z"
   },
   {
    "duration": 234,
    "start_time": "2022-01-02T17:37:07.869Z"
   },
   {
    "duration": 73,
    "start_time": "2022-01-02T17:55:40.786Z"
   },
   {
    "duration": 8,
    "start_time": "2022-01-02T17:56:58.396Z"
   },
   {
    "duration": 9,
    "start_time": "2022-01-02T17:57:28.429Z"
   },
   {
    "duration": 1200,
    "start_time": "2022-01-02T17:58:09.200Z"
   },
   {
    "duration": 10,
    "start_time": "2022-01-02T17:58:10.401Z"
   },
   {
    "duration": 18,
    "start_time": "2022-01-02T17:58:10.413Z"
   },
   {
    "duration": 15,
    "start_time": "2022-01-02T17:58:10.433Z"
   },
   {
    "duration": 322,
    "start_time": "2022-01-02T17:58:10.449Z"
   },
   {
    "duration": 12,
    "start_time": "2022-01-02T17:58:10.773Z"
   },
   {
    "duration": 227,
    "start_time": "2022-01-02T17:58:10.786Z"
   },
   {
    "duration": 29,
    "start_time": "2022-01-02T17:58:11.015Z"
   },
   {
    "duration": 324,
    "start_time": "2022-01-02T17:58:11.046Z"
   },
   {
    "duration": 10,
    "start_time": "2022-01-02T17:58:11.371Z"
   },
   {
    "duration": 9,
    "start_time": "2022-01-02T17:58:11.383Z"
   },
   {
    "duration": 316,
    "start_time": "2022-01-02T17:58:11.394Z"
   },
   {
    "duration": 83,
    "start_time": "2022-01-02T17:58:11.712Z"
   },
   {
    "duration": 18,
    "start_time": "2022-01-02T17:58:11.796Z"
   },
   {
    "duration": 328,
    "start_time": "2022-01-02T17:58:11.815Z"
   },
   {
    "duration": 10,
    "start_time": "2022-01-02T17:58:12.144Z"
   },
   {
    "duration": 3039,
    "start_time": "2022-01-02T17:58:12.155Z"
   },
   {
    "duration": 14,
    "start_time": "2022-01-02T17:58:15.196Z"
   },
   {
    "duration": 17,
    "start_time": "2022-01-02T17:58:15.212Z"
   },
   {
    "duration": 18,
    "start_time": "2022-01-02T17:58:15.231Z"
   },
   {
    "duration": 8,
    "start_time": "2022-01-02T17:58:15.251Z"
   },
   {
    "duration": 4,
    "start_time": "2022-01-02T17:58:15.261Z"
   },
   {
    "duration": 227,
    "start_time": "2022-01-02T17:58:15.266Z"
   },
   {
    "duration": 1140,
    "start_time": "2022-01-02T18:15:10.831Z"
   },
   {
    "duration": 11,
    "start_time": "2022-01-02T18:15:11.972Z"
   },
   {
    "duration": 19,
    "start_time": "2022-01-02T18:15:11.987Z"
   },
   {
    "duration": 21,
    "start_time": "2022-01-02T18:15:12.007Z"
   },
   {
    "duration": 296,
    "start_time": "2022-01-02T18:15:12.029Z"
   },
   {
    "duration": 12,
    "start_time": "2022-01-02T18:15:12.327Z"
   },
   {
    "duration": 214,
    "start_time": "2022-01-02T18:15:12.342Z"
   },
   {
    "duration": 20,
    "start_time": "2022-01-02T18:15:12.559Z"
   },
   {
    "duration": 401,
    "start_time": "2022-01-02T18:15:12.581Z"
   },
   {
    "duration": 11,
    "start_time": "2022-01-02T18:15:12.984Z"
   },
   {
    "duration": 13,
    "start_time": "2022-01-02T18:15:12.996Z"
   },
   {
    "duration": 297,
    "start_time": "2022-01-02T18:15:13.010Z"
   },
   {
    "duration": 80,
    "start_time": "2022-01-02T18:15:13.309Z"
   },
   {
    "duration": 18,
    "start_time": "2022-01-02T18:15:13.391Z"
   },
   {
    "duration": 304,
    "start_time": "2022-01-02T18:15:13.410Z"
   },
   {
    "duration": 14,
    "start_time": "2022-01-02T18:15:13.716Z"
   },
   {
    "duration": 2387,
    "start_time": "2022-01-02T18:15:13.732Z"
   },
   {
    "duration": 14,
    "start_time": "2022-01-02T18:15:16.121Z"
   },
   {
    "duration": 7,
    "start_time": "2022-01-02T18:15:16.137Z"
   },
   {
    "duration": 7,
    "start_time": "2022-01-02T18:15:16.146Z"
   },
   {
    "duration": 8,
    "start_time": "2022-01-02T18:15:16.154Z"
   },
   {
    "duration": 4,
    "start_time": "2022-01-02T18:15:16.164Z"
   },
   {
    "duration": 225,
    "start_time": "2022-01-02T18:15:16.169Z"
   },
   {
    "duration": 1143,
    "start_time": "2022-01-03T18:42:43.570Z"
   },
   {
    "duration": 10,
    "start_time": "2022-01-03T18:42:44.715Z"
   },
   {
    "duration": 20,
    "start_time": "2022-01-03T18:42:44.727Z"
   },
   {
    "duration": 13,
    "start_time": "2022-01-03T18:42:44.749Z"
   },
   {
    "duration": 324,
    "start_time": "2022-01-03T18:42:44.763Z"
   },
   {
    "duration": 13,
    "start_time": "2022-01-03T18:42:45.088Z"
   },
   {
    "duration": 241,
    "start_time": "2022-01-03T18:42:45.102Z"
   },
   {
    "duration": 21,
    "start_time": "2022-01-03T18:42:45.345Z"
   },
   {
    "duration": 330,
    "start_time": "2022-01-03T18:42:45.368Z"
   },
   {
    "duration": 13,
    "start_time": "2022-01-03T18:42:45.699Z"
   },
   {
    "duration": 29,
    "start_time": "2022-01-03T18:42:45.713Z"
   },
   {
    "duration": 319,
    "start_time": "2022-01-03T18:42:45.743Z"
   },
   {
    "duration": 99,
    "start_time": "2022-01-03T18:42:46.064Z"
   },
   {
    "duration": 18,
    "start_time": "2022-01-03T18:42:46.165Z"
   },
   {
    "duration": 347,
    "start_time": "2022-01-03T18:42:46.185Z"
   },
   {
    "duration": 16,
    "start_time": "2022-01-03T18:42:46.533Z"
   },
   {
    "duration": 2194,
    "start_time": "2022-01-03T18:42:46.551Z"
   },
   {
    "duration": 16,
    "start_time": "2022-01-03T18:42:48.747Z"
   },
   {
    "duration": 9,
    "start_time": "2022-01-03T18:42:48.764Z"
   },
   {
    "duration": 12,
    "start_time": "2022-01-03T18:42:48.775Z"
   },
   {
    "duration": 14,
    "start_time": "2022-01-03T18:42:48.789Z"
   },
   {
    "duration": 9,
    "start_time": "2022-01-03T18:42:48.805Z"
   },
   {
    "duration": 249,
    "start_time": "2022-01-03T18:42:48.817Z"
   },
   {
    "duration": 1708,
    "start_time": "2022-01-04T14:27:24.269Z"
   },
   {
    "duration": 18,
    "start_time": "2022-01-04T14:27:25.980Z"
   },
   {
    "duration": 33,
    "start_time": "2022-01-04T14:27:26.002Z"
   },
   {
    "duration": 25,
    "start_time": "2022-01-04T14:27:26.069Z"
   },
   {
    "duration": 616,
    "start_time": "2022-01-04T14:27:26.096Z"
   },
   {
    "duration": 19,
    "start_time": "2022-01-04T14:27:26.715Z"
   },
   {
    "duration": 429,
    "start_time": "2022-01-04T14:27:26.736Z"
   },
   {
    "duration": 34,
    "start_time": "2022-01-04T14:27:27.169Z"
   },
   {
    "duration": 698,
    "start_time": "2022-01-04T14:27:27.206Z"
   },
   {
    "duration": 17,
    "start_time": "2022-01-04T14:27:27.907Z"
   },
   {
    "duration": 42,
    "start_time": "2022-01-04T14:27:27.927Z"
   },
   {
    "duration": 564,
    "start_time": "2022-01-04T14:27:27.971Z"
   },
   {
    "duration": 130,
    "start_time": "2022-01-04T14:27:28.537Z"
   },
   {
    "duration": 29,
    "start_time": "2022-01-04T14:27:28.670Z"
   },
   {
    "duration": 608,
    "start_time": "2022-01-04T14:27:28.702Z"
   },
   {
    "duration": 18,
    "start_time": "2022-01-04T14:27:29.312Z"
   },
   {
    "duration": 2566,
    "start_time": "2022-01-04T14:27:29.332Z"
   },
   {
    "duration": 24,
    "start_time": "2022-01-04T14:27:31.900Z"
   },
   {
    "duration": 13,
    "start_time": "2022-01-04T14:27:31.927Z"
   },
   {
    "duration": 36,
    "start_time": "2022-01-04T14:27:31.943Z"
   },
   {
    "duration": 19,
    "start_time": "2022-01-04T14:27:31.982Z"
   },
   {
    "duration": 8,
    "start_time": "2022-01-04T14:27:32.003Z"
   },
   {
    "duration": 430,
    "start_time": "2022-01-04T14:27:32.014Z"
   },
   {
    "duration": 40,
    "start_time": "2022-01-04T14:29:57.573Z"
   },
   {
    "duration": 21,
    "start_time": "2022-01-04T14:30:14.125Z"
   },
   {
    "duration": 45,
    "start_time": "2022-01-04T14:30:22.104Z"
   },
   {
    "duration": 101,
    "start_time": "2022-01-04T14:32:55.755Z"
   },
   {
    "duration": 25,
    "start_time": "2022-01-04T14:33:10.595Z"
   },
   {
    "duration": 113,
    "start_time": "2022-01-04T14:33:15.024Z"
   },
   {
    "duration": 12,
    "start_time": "2022-01-04T14:33:19.464Z"
   },
   {
    "duration": 23,
    "start_time": "2022-01-04T14:33:24.344Z"
   },
   {
    "duration": 31,
    "start_time": "2022-01-04T14:33:44.534Z"
   },
   {
    "duration": 35,
    "start_time": "2022-01-04T14:34:53.205Z"
   },
   {
    "duration": 35,
    "start_time": "2022-01-04T14:35:30.362Z"
   },
   {
    "duration": 1815,
    "start_time": "2022-01-04T18:17:35.331Z"
   },
   {
    "duration": 17,
    "start_time": "2022-01-04T18:17:37.148Z"
   },
   {
    "duration": 32,
    "start_time": "2022-01-04T18:17:37.169Z"
   },
   {
    "duration": 27,
    "start_time": "2022-01-04T18:17:37.205Z"
   },
   {
    "duration": 28,
    "start_time": "2022-01-04T18:17:37.263Z"
   },
   {
    "duration": 577,
    "start_time": "2022-01-04T18:17:37.294Z"
   },
   {
    "duration": 20,
    "start_time": "2022-01-04T18:17:37.874Z"
   },
   {
    "duration": 426,
    "start_time": "2022-01-04T18:17:37.896Z"
   },
   {
    "duration": 42,
    "start_time": "2022-01-04T18:17:38.326Z"
   },
   {
    "duration": 555,
    "start_time": "2022-01-04T18:17:38.371Z"
   },
   {
    "duration": 18,
    "start_time": "2022-01-04T18:17:38.929Z"
   },
   {
    "duration": 29,
    "start_time": "2022-01-04T18:17:38.963Z"
   },
   {
    "duration": 24,
    "start_time": "2022-01-04T18:17:38.995Z"
   },
   {
    "duration": 596,
    "start_time": "2022-01-04T18:17:39.022Z"
   },
   {
    "duration": 116,
    "start_time": "2022-01-04T18:17:39.620Z"
   },
   {
    "duration": 46,
    "start_time": "2022-01-04T18:17:39.738Z"
   },
   {
    "duration": 24,
    "start_time": "2022-01-04T18:17:39.787Z"
   },
   {
    "duration": 145516,
    "start_time": "2022-01-04T18:17:39.813Z"
   },
   {
    "duration": 43,
    "start_time": "2022-01-04T18:20:05.332Z"
   },
   {
    "duration": 2958,
    "start_time": "2022-01-04T18:20:05.378Z"
   },
   {
    "duration": 33,
    "start_time": "2022-01-04T18:20:08.339Z"
   },
   {
    "duration": 17,
    "start_time": "2022-01-04T18:20:08.375Z"
   },
   {
    "duration": 13,
    "start_time": "2022-01-04T18:20:08.395Z"
   },
   {
    "duration": 13,
    "start_time": "2022-01-04T18:20:08.411Z"
   },
   {
    "duration": 40,
    "start_time": "2022-01-04T18:20:08.427Z"
   },
   {
    "duration": 396,
    "start_time": "2022-01-04T18:20:08.470Z"
   },
   {
    "duration": 396,
    "start_time": "2022-01-04T18:20:08.871Z"
   },
   {
    "duration": 885,
    "start_time": "2022-01-04T18:20:08.386Z"
   },
   {
    "duration": 324,
    "start_time": "2022-01-04T18:20:27.140Z"
   },
   {
    "duration": 287,
    "start_time": "2022-01-04T18:20:58.671Z"
   },
   {
    "duration": 105,
    "start_time": "2022-01-04T18:23:14.065Z"
   },
   {
    "duration": 99,
    "start_time": "2022-01-04T18:23:18.464Z"
   },
   {
    "duration": 9,
    "start_time": "2022-01-04T18:23:21.706Z"
   },
   {
    "duration": 237,
    "start_time": "2022-01-04T18:23:37.596Z"
   },
   {
    "duration": 18,
    "start_time": "2022-01-04T18:23:44.065Z"
   },
   {
    "duration": 63,
    "start_time": "2022-01-04T18:24:27.734Z"
   },
   {
    "duration": 17,
    "start_time": "2022-01-04T18:24:29.766Z"
   },
   {
    "duration": 8,
    "start_time": "2022-01-04T18:24:36.654Z"
   },
   {
    "duration": 63,
    "start_time": "2022-01-04T18:25:45.287Z"
   },
   {
    "duration": 8,
    "start_time": "2022-01-04T18:25:47.254Z"
   },
   {
    "duration": 62,
    "start_time": "2022-01-04T18:25:51.215Z"
   },
   {
    "duration": 8,
    "start_time": "2022-01-04T18:25:52.734Z"
   },
   {
    "duration": 15,
    "start_time": "2022-01-04T18:26:00.896Z"
   },
   {
    "duration": 24,
    "start_time": "2022-01-04T18:26:36.774Z"
   },
   {
    "duration": 252,
    "start_time": "2022-01-04T18:26:53.657Z"
   },
   {
    "duration": 20,
    "start_time": "2022-01-04T18:27:02.174Z"
   },
   {
    "duration": 72,
    "start_time": "2022-01-04T18:28:20.123Z"
   },
   {
    "duration": 23,
    "start_time": "2022-01-04T18:28:21.803Z"
   },
   {
    "duration": 24,
    "start_time": "2022-01-04T18:28:38.875Z"
   },
   {
    "duration": 16,
    "start_time": "2022-01-04T18:29:07.836Z"
   },
   {
    "duration": 633,
    "start_time": "2022-01-04T18:29:18.013Z"
   },
   {
    "duration": 24,
    "start_time": "2022-01-04T18:29:56.964Z"
   },
   {
    "duration": 1722,
    "start_time": "2022-01-04T18:30:43.729Z"
   },
   {
    "duration": 17,
    "start_time": "2022-01-04T18:30:45.453Z"
   },
   {
    "duration": 30,
    "start_time": "2022-01-04T18:30:45.472Z"
   },
   {
    "duration": 25,
    "start_time": "2022-01-04T18:30:45.504Z"
   },
   {
    "duration": 26,
    "start_time": "2022-01-04T18:30:45.563Z"
   },
   {
    "duration": 595,
    "start_time": "2022-01-04T18:30:45.591Z"
   },
   {
    "duration": 21,
    "start_time": "2022-01-04T18:30:46.188Z"
   },
   {
    "duration": 468,
    "start_time": "2022-01-04T18:30:46.211Z"
   },
   {
    "duration": 35,
    "start_time": "2022-01-04T18:30:46.683Z"
   },
   {
    "duration": 582,
    "start_time": "2022-01-04T18:30:46.720Z"
   },
   {
    "duration": 19,
    "start_time": "2022-01-04T18:30:47.304Z"
   },
   {
    "duration": 52,
    "start_time": "2022-01-04T18:30:47.325Z"
   },
   {
    "duration": 18,
    "start_time": "2022-01-04T18:30:47.380Z"
   },
   {
    "duration": 571,
    "start_time": "2022-01-04T18:30:47.400Z"
   },
   {
    "duration": 6575,
    "start_time": "2022-01-04T18:30:47.974Z"
   },
   {
    "duration": 640,
    "start_time": "2022-01-04T18:30:53.913Z"
   },
   {
    "duration": 639,
    "start_time": "2022-01-04T18:30:53.916Z"
   },
   {
    "duration": 638,
    "start_time": "2022-01-04T18:30:53.919Z"
   },
   {
    "duration": 638,
    "start_time": "2022-01-04T18:30:53.922Z"
   },
   {
    "duration": 637,
    "start_time": "2022-01-04T18:30:53.925Z"
   },
   {
    "duration": 627,
    "start_time": "2022-01-04T18:30:53.938Z"
   },
   {
    "duration": 627,
    "start_time": "2022-01-04T18:30:53.940Z"
   },
   {
    "duration": 623,
    "start_time": "2022-01-04T18:30:53.946Z"
   },
   {
    "duration": 624,
    "start_time": "2022-01-04T18:30:53.948Z"
   },
   {
    "duration": 622,
    "start_time": "2022-01-04T18:30:53.952Z"
   },
   {
    "duration": 6850,
    "start_time": "2022-01-04T18:31:06.613Z"
   },
   {
    "duration": 58,
    "start_time": "2022-01-04T18:31:37.382Z"
   },
   {
    "duration": 25,
    "start_time": "2022-01-04T18:31:41.723Z"
   },
   {
    "duration": 61,
    "start_time": "2022-01-04T18:31:47.353Z"
   },
   {
    "duration": 23,
    "start_time": "2022-01-04T18:31:49.274Z"
   },
   {
    "duration": 60,
    "start_time": "2022-01-04T18:31:52.963Z"
   },
   {
    "duration": 16,
    "start_time": "2022-01-04T18:31:55.404Z"
   },
   {
    "duration": 59,
    "start_time": "2022-01-04T18:31:59.963Z"
   },
   {
    "duration": 23,
    "start_time": "2022-01-04T18:32:01.614Z"
   },
   {
    "duration": 140,
    "start_time": "2022-01-04T18:32:09.113Z"
   },
   {
    "duration": 25,
    "start_time": "2022-01-04T18:32:11.223Z"
   },
   {
    "duration": 16,
    "start_time": "2022-01-04T18:32:21.833Z"
   },
   {
    "duration": 562,
    "start_time": "2022-01-04T18:32:30.583Z"
   },
   {
    "duration": 63,
    "start_time": "2022-01-04T18:33:12.164Z"
   },
   {
    "duration": 24,
    "start_time": "2022-01-04T18:33:14.654Z"
   },
   {
    "duration": 3649,
    "start_time": "2022-01-04T18:35:50.725Z"
   },
   {
    "duration": 15,
    "start_time": "2022-01-04T18:36:01.286Z"
   },
   {
    "duration": 11,
    "start_time": "2022-01-04T18:36:02.810Z"
   },
   {
    "duration": 320,
    "start_time": "2022-01-04T18:36:08.645Z"
   },
   {
    "duration": 25,
    "start_time": "2022-01-04T18:36:26.188Z"
   },
   {
    "duration": 12,
    "start_time": "2022-01-04T18:36:33.253Z"
   },
   {
    "duration": 8,
    "start_time": "2022-01-04T18:37:34.673Z"
   },
   {
    "duration": 403,
    "start_time": "2022-01-04T18:39:27.984Z"
   },
   {
    "duration": 1688,
    "start_time": "2022-01-04T18:40:40.547Z"
   },
   {
    "duration": 17,
    "start_time": "2022-01-04T18:40:42.239Z"
   },
   {
    "duration": 31,
    "start_time": "2022-01-04T18:40:42.265Z"
   },
   {
    "duration": 27,
    "start_time": "2022-01-04T18:40:42.300Z"
   },
   {
    "duration": 52,
    "start_time": "2022-01-04T18:40:42.329Z"
   },
   {
    "duration": 833,
    "start_time": "2022-01-04T18:40:42.384Z"
   },
   {
    "duration": 44,
    "start_time": "2022-01-04T18:40:43.220Z"
   },
   {
    "duration": 560,
    "start_time": "2022-01-04T18:40:43.268Z"
   },
   {
    "duration": 59,
    "start_time": "2022-01-04T18:40:43.834Z"
   },
   {
    "duration": 822,
    "start_time": "2022-01-04T18:40:43.897Z"
   },
   {
    "duration": 20,
    "start_time": "2022-01-04T18:40:44.722Z"
   },
   {
    "duration": 45,
    "start_time": "2022-01-04T18:40:44.745Z"
   },
   {
    "duration": 17,
    "start_time": "2022-01-04T18:40:44.793Z"
   },
   {
    "duration": 817,
    "start_time": "2022-01-04T18:40:44.813Z"
   },
   {
    "duration": 204,
    "start_time": "2022-01-04T18:40:45.633Z"
   },
   {
    "duration": 37,
    "start_time": "2022-01-04T18:40:45.840Z"
   },
   {
    "duration": 20,
    "start_time": "2022-01-04T18:40:45.879Z"
   },
   {
    "duration": 830,
    "start_time": "2022-01-04T18:40:45.902Z"
   },
   {
    "duration": 2165,
    "start_time": "2022-01-04T18:40:46.736Z"
   },
   {
    "duration": 33,
    "start_time": "2022-01-04T18:40:48.905Z"
   },
   {
    "duration": 33,
    "start_time": "2022-01-04T18:40:48.942Z"
   },
   {
    "duration": 12,
    "start_time": "2022-01-04T18:40:48.978Z"
   },
   {
    "duration": 13,
    "start_time": "2022-01-04T18:40:48.992Z"
   },
   {
    "duration": 5,
    "start_time": "2022-01-04T18:40:49.008Z"
   },
   {
    "duration": 586,
    "start_time": "2022-01-04T18:40:49.016Z"
   },
   {
    "duration": 1131,
    "start_time": "2022-01-07T16:59:18.688Z"
   },
   {
    "duration": 10,
    "start_time": "2022-01-07T16:59:19.821Z"
   },
   {
    "duration": 21,
    "start_time": "2022-01-07T16:59:19.833Z"
   },
   {
    "duration": 14,
    "start_time": "2022-01-07T16:59:19.856Z"
   },
   {
    "duration": 11,
    "start_time": "2022-01-07T16:59:19.872Z"
   },
   {
    "duration": 317,
    "start_time": "2022-01-07T16:59:19.885Z"
   },
   {
    "duration": 11,
    "start_time": "2022-01-07T16:59:20.203Z"
   },
   {
    "duration": 228,
    "start_time": "2022-01-07T16:59:20.215Z"
   },
   {
    "duration": 20,
    "start_time": "2022-01-07T16:59:20.445Z"
   },
   {
    "duration": 307,
    "start_time": "2022-01-07T16:59:20.467Z"
   },
   {
    "duration": 11,
    "start_time": "2022-01-07T16:59:20.775Z"
   },
   {
    "duration": 15,
    "start_time": "2022-01-07T16:59:20.788Z"
   },
   {
    "duration": 10,
    "start_time": "2022-01-07T16:59:20.805Z"
   },
   {
    "duration": 295,
    "start_time": "2022-01-07T16:59:20.841Z"
   },
   {
    "duration": 105,
    "start_time": "2022-01-07T16:59:21.138Z"
   },
   {
    "duration": 15,
    "start_time": "2022-01-07T16:59:21.244Z"
   },
   {
    "duration": 8,
    "start_time": "2022-01-07T16:59:21.261Z"
   },
   {
    "duration": 326,
    "start_time": "2022-01-07T16:59:21.271Z"
   },
   {
    "duration": 3245,
    "start_time": "2022-01-07T16:59:21.599Z"
   },
   {
    "duration": 16,
    "start_time": "2022-01-07T16:59:24.846Z"
   },
   {
    "duration": 9,
    "start_time": "2022-01-07T16:59:24.863Z"
   },
   {
    "duration": 11,
    "start_time": "2022-01-07T16:59:24.874Z"
   },
   {
    "duration": 14,
    "start_time": "2022-01-07T16:59:24.886Z"
   },
   {
    "duration": 6,
    "start_time": "2022-01-07T16:59:24.901Z"
   },
   {
    "duration": 265,
    "start_time": "2022-01-07T16:59:24.909Z"
   },
   {
    "duration": 391,
    "start_time": "2022-01-07T17:06:46.267Z"
   },
   {
    "duration": 278,
    "start_time": "2022-01-07T17:07:02.921Z"
   },
   {
    "duration": 35,
    "start_time": "2022-01-07T17:08:56.785Z"
   },
   {
    "duration": 15,
    "start_time": "2022-01-07T17:08:57.953Z"
   },
   {
    "duration": 32,
    "start_time": "2022-01-07T17:09:04.706Z"
   },
   {
    "duration": 14,
    "start_time": "2022-01-07T17:09:05.440Z"
   },
   {
    "duration": 301,
    "start_time": "2022-01-07T17:09:16.664Z"
   },
   {
    "duration": 36,
    "start_time": "2022-01-07T17:09:23.643Z"
   },
   {
    "duration": 16,
    "start_time": "2022-01-07T17:09:24.263Z"
   },
   {
    "duration": 271,
    "start_time": "2022-01-07T17:09:31.922Z"
   },
   {
    "duration": 296,
    "start_time": "2022-01-07T17:09:35.466Z"
   },
   {
    "duration": 102,
    "start_time": "2022-01-07T17:09:45.694Z"
   },
   {
    "duration": 17,
    "start_time": "2022-01-07T17:09:46.350Z"
   },
   {
    "duration": 350,
    "start_time": "2022-01-08T08:05:52.021Z"
   },
   {
    "duration": 1181,
    "start_time": "2022-01-08T08:05:57.687Z"
   },
   {
    "duration": 10,
    "start_time": "2022-01-08T08:05:58.870Z"
   },
   {
    "duration": 28,
    "start_time": "2022-01-08T08:05:58.882Z"
   },
   {
    "duration": 15,
    "start_time": "2022-01-08T08:05:58.912Z"
   },
   {
    "duration": 21,
    "start_time": "2022-01-08T08:05:58.929Z"
   },
   {
    "duration": 314,
    "start_time": "2022-01-08T08:05:58.952Z"
   },
   {
    "duration": 11,
    "start_time": "2022-01-08T08:05:59.267Z"
   },
   {
    "duration": 225,
    "start_time": "2022-01-08T08:05:59.280Z"
   },
   {
    "duration": 20,
    "start_time": "2022-01-08T08:05:59.508Z"
   },
   {
    "duration": 319,
    "start_time": "2022-01-08T08:05:59.530Z"
   },
   {
    "duration": 11,
    "start_time": "2022-01-08T08:05:59.851Z"
   },
   {
    "duration": 17,
    "start_time": "2022-01-08T08:05:59.864Z"
   },
   {
    "duration": 10,
    "start_time": "2022-01-08T08:05:59.882Z"
   },
   {
    "duration": 350,
    "start_time": "2022-01-08T08:05:59.894Z"
   },
   {
    "duration": 114,
    "start_time": "2022-01-08T08:06:00.246Z"
   },
   {
    "duration": 4,
    "start_time": "2022-01-08T08:06:00.361Z"
   },
   {
    "duration": 43,
    "start_time": "2022-01-08T08:06:00.367Z"
   },
   {
    "duration": 308,
    "start_time": "2022-01-08T08:06:00.411Z"
   },
   {
    "duration": -387,
    "start_time": "2022-01-08T08:06:01.108Z"
   },
   {
    "duration": -392,
    "start_time": "2022-01-08T08:06:01.114Z"
   },
   {
    "duration": -396,
    "start_time": "2022-01-08T08:06:01.119Z"
   },
   {
    "duration": -400,
    "start_time": "2022-01-08T08:06:01.124Z"
   },
   {
    "duration": -403,
    "start_time": "2022-01-08T08:06:01.128Z"
   },
   {
    "duration": -408,
    "start_time": "2022-01-08T08:06:01.134Z"
   },
   {
    "duration": -413,
    "start_time": "2022-01-08T08:06:01.139Z"
   },
   {
    "duration": -416,
    "start_time": "2022-01-08T08:06:01.143Z"
   },
   {
    "duration": 1284,
    "start_time": "2022-01-08T09:29:01.776Z"
   },
   {
    "duration": 12,
    "start_time": "2022-01-08T09:29:03.062Z"
   },
   {
    "duration": 27,
    "start_time": "2022-01-08T09:29:03.076Z"
   },
   {
    "duration": 18,
    "start_time": "2022-01-08T09:29:03.105Z"
   },
   {
    "duration": 28,
    "start_time": "2022-01-08T09:29:03.124Z"
   },
   {
    "duration": 369,
    "start_time": "2022-01-08T09:29:03.154Z"
   },
   {
    "duration": 22,
    "start_time": "2022-01-08T09:29:03.525Z"
   },
   {
    "duration": 257,
    "start_time": "2022-01-08T09:29:03.549Z"
   },
   {
    "duration": 33,
    "start_time": "2022-01-08T09:29:03.809Z"
   },
   {
    "duration": 344,
    "start_time": "2022-01-08T09:29:03.844Z"
   },
   {
    "duration": 12,
    "start_time": "2022-01-08T09:29:04.190Z"
   },
   {
    "duration": 37,
    "start_time": "2022-01-08T09:29:04.204Z"
   },
   {
    "duration": 13,
    "start_time": "2022-01-08T09:29:04.243Z"
   },
   {
    "duration": 348,
    "start_time": "2022-01-08T09:29:04.258Z"
   },
   {
    "duration": 2,
    "start_time": "2022-01-08T09:29:04.608Z"
   },
   {
    "duration": 9,
    "start_time": "2022-01-08T09:29:04.612Z"
   },
   {
    "duration": 112,
    "start_time": "2022-01-08T09:29:04.623Z"
   },
   {
    "duration": 269,
    "start_time": "2022-01-08T09:29:04.737Z"
   },
   {
    "duration": -9848,
    "start_time": "2022-01-08T09:29:14.856Z"
   },
   {
    "duration": -9851,
    "start_time": "2022-01-08T09:29:14.860Z"
   },
   {
    "duration": -9854,
    "start_time": "2022-01-08T09:29:14.864Z"
   },
   {
    "duration": -9857,
    "start_time": "2022-01-08T09:29:14.868Z"
   },
   {
    "duration": -9861,
    "start_time": "2022-01-08T09:29:14.872Z"
   },
   {
    "duration": -9865,
    "start_time": "2022-01-08T09:29:14.877Z"
   },
   {
    "duration": -9867,
    "start_time": "2022-01-08T09:29:14.880Z"
   },
   {
    "duration": -9870,
    "start_time": "2022-01-08T09:29:14.884Z"
   },
   {
    "duration": 40,
    "start_time": "2022-01-08T09:33:30.440Z"
   },
   {
    "duration": 46,
    "start_time": "2022-01-08T09:33:36.518Z"
   },
   {
    "duration": 198,
    "start_time": "2022-01-08T09:33:43.572Z"
   },
   {
    "duration": 15,
    "start_time": "2022-01-08T09:34:16.987Z"
   },
   {
    "duration": 7549,
    "start_time": "2022-01-08T09:36:02.018Z"
   },
   {
    "duration": 12,
    "start_time": "2022-01-08T09:36:10.350Z"
   },
   {
    "duration": 14,
    "start_time": "2022-01-08T09:37:04.510Z"
   },
   {
    "duration": 13,
    "start_time": "2022-01-08T09:37:26.181Z"
   },
   {
    "duration": 358,
    "start_time": "2022-01-08T09:37:32.190Z"
   },
   {
    "duration": 3034,
    "start_time": "2022-01-08T09:38:23.510Z"
   },
   {
    "duration": 17,
    "start_time": "2022-01-08T09:38:32.070Z"
   },
   {
    "duration": 4,
    "start_time": "2022-01-08T09:43:24.749Z"
   },
   {
    "duration": 451,
    "start_time": "2022-01-08T09:44:28.602Z"
   },
   {
    "duration": 4,
    "start_time": "2022-01-08T09:44:37.309Z"
   },
   {
    "duration": 399,
    "start_time": "2022-01-08T09:44:39.990Z"
   },
   {
    "duration": 193,
    "start_time": "2022-01-08T09:50:59.009Z"
   },
   {
    "duration": 205,
    "start_time": "2022-01-08T10:01:19.577Z"
   },
   {
    "duration": 246,
    "start_time": "2022-01-08T10:01:26.979Z"
   },
   {
    "duration": 186,
    "start_time": "2022-01-08T10:02:12.727Z"
   },
   {
    "duration": 220,
    "start_time": "2022-01-08T10:06:56.961Z"
   },
   {
    "duration": 204,
    "start_time": "2022-01-08T10:08:49.422Z"
   },
   {
    "duration": 214,
    "start_time": "2022-01-08T10:09:46.407Z"
   },
   {
    "duration": 1125,
    "start_time": "2022-01-08T10:10:08.794Z"
   },
   {
    "duration": 11,
    "start_time": "2022-01-08T10:10:09.921Z"
   },
   {
    "duration": 21,
    "start_time": "2022-01-08T10:10:09.934Z"
   },
   {
    "duration": 16,
    "start_time": "2022-01-08T10:10:09.957Z"
   },
   {
    "duration": 12,
    "start_time": "2022-01-08T10:10:09.974Z"
   },
   {
    "duration": 329,
    "start_time": "2022-01-08T10:10:09.987Z"
   },
   {
    "duration": 12,
    "start_time": "2022-01-08T10:10:10.317Z"
   },
   {
    "duration": 219,
    "start_time": "2022-01-08T10:10:10.341Z"
   },
   {
    "duration": 20,
    "start_time": "2022-01-08T10:10:10.562Z"
   },
   {
    "duration": 312,
    "start_time": "2022-01-08T10:10:10.583Z"
   },
   {
    "duration": 12,
    "start_time": "2022-01-08T10:10:10.897Z"
   },
   {
    "duration": 31,
    "start_time": "2022-01-08T10:10:10.911Z"
   },
   {
    "duration": 12,
    "start_time": "2022-01-08T10:10:10.944Z"
   },
   {
    "duration": 314,
    "start_time": "2022-01-08T10:10:10.958Z"
   },
   {
    "duration": 2,
    "start_time": "2022-01-08T10:10:11.274Z"
   },
   {
    "duration": 104,
    "start_time": "2022-01-08T10:10:11.277Z"
   },
   {
    "duration": 14,
    "start_time": "2022-01-08T10:10:11.382Z"
   },
   {
    "duration": 279,
    "start_time": "2022-01-08T10:10:11.397Z"
   },
   {
    "duration": -2374,
    "start_time": "2022-01-08T10:10:14.052Z"
   },
   {
    "duration": -2376,
    "start_time": "2022-01-08T10:10:14.055Z"
   },
   {
    "duration": -2422,
    "start_time": "2022-01-08T10:10:14.102Z"
   },
   {
    "duration": -2929,
    "start_time": "2022-01-08T10:10:14.610Z"
   },
   {
    "duration": -2936,
    "start_time": "2022-01-08T10:10:14.618Z"
   },
   {
    "duration": -2937,
    "start_time": "2022-01-08T10:10:14.620Z"
   },
   {
    "duration": -2940,
    "start_time": "2022-01-08T10:10:14.623Z"
   },
   {
    "duration": -2949,
    "start_time": "2022-01-08T10:10:14.634Z"
   },
   {
    "duration": -2979,
    "start_time": "2022-01-08T10:10:14.664Z"
   },
   {
    "duration": -2989,
    "start_time": "2022-01-08T10:10:14.675Z"
   },
   {
    "duration": 197,
    "start_time": "2022-01-08T10:11:07.332Z"
   },
   {
    "duration": 210,
    "start_time": "2022-01-08T10:11:12.463Z"
   },
   {
    "duration": 5,
    "start_time": "2022-01-08T10:11:53.123Z"
   },
   {
    "duration": 5,
    "start_time": "2022-01-08T10:13:02.993Z"
   },
   {
    "duration": 7,
    "start_time": "2022-01-08T10:13:16.945Z"
   },
   {
    "duration": 4,
    "start_time": "2022-01-08T10:13:30.896Z"
   },
   {
    "duration": 5,
    "start_time": "2022-01-08T10:13:33.244Z"
   },
   {
    "duration": 6,
    "start_time": "2022-01-08T10:14:33.218Z"
   },
   {
    "duration": 312,
    "start_time": "2022-01-08T10:14:54.794Z"
   },
   {
    "duration": 5,
    "start_time": "2022-01-08T10:15:17.632Z"
   },
   {
    "duration": 9,
    "start_time": "2022-01-08T10:15:27.112Z"
   },
   {
    "duration": 3,
    "start_time": "2022-01-08T10:20:07.868Z"
   },
   {
    "duration": 4,
    "start_time": "2022-01-08T10:20:10.099Z"
   },
   {
    "duration": 3,
    "start_time": "2022-01-08T10:20:42.828Z"
   },
   {
    "duration": 4,
    "start_time": "2022-01-08T10:20:49.628Z"
   },
   {
    "duration": 3,
    "start_time": "2022-01-08T10:21:00.397Z"
   },
   {
    "duration": 2206,
    "start_time": "2022-01-08T10:21:10.349Z"
   },
   {
    "duration": 15,
    "start_time": "2022-01-08T10:21:14.667Z"
   },
   {
    "duration": 3,
    "start_time": "2022-01-08T10:22:04.779Z"
   },
   {
    "duration": 3,
    "start_time": "2022-01-08T10:23:14.397Z"
   },
   {
    "duration": 231,
    "start_time": "2022-01-08T10:23:26.457Z"
   },
   {
    "duration": 212,
    "start_time": "2022-01-08T10:23:33.005Z"
   },
   {
    "duration": 6749,
    "start_time": "2022-01-08T10:23:41.525Z"
   },
   {
    "duration": 210,
    "start_time": "2022-01-08T10:27:26.221Z"
   },
   {
    "duration": 4,
    "start_time": "2022-01-08T10:27:31.469Z"
   },
   {
    "duration": 192,
    "start_time": "2022-01-08T10:27:42.349Z"
   },
   {
    "duration": 454,
    "start_time": "2022-01-08T10:27:51.789Z"
   },
   {
    "duration": 403,
    "start_time": "2022-01-08T10:28:06.550Z"
   },
   {
    "duration": 373,
    "start_time": "2022-01-08T10:29:26.719Z"
   },
   {
    "duration": 3,
    "start_time": "2022-01-08T10:31:09.886Z"
   },
   {
    "duration": 308,
    "start_time": "2022-01-08T10:31:35.616Z"
   },
   {
    "duration": 387,
    "start_time": "2022-01-08T10:31:41.948Z"
   },
   {
    "duration": 3,
    "start_time": "2022-01-08T10:31:54.255Z"
   },
   {
    "duration": 424,
    "start_time": "2022-01-08T10:31:56.015Z"
   },
   {
    "duration": 14,
    "start_time": "2022-01-08T10:34:25.267Z"
   },
   {
    "duration": 4,
    "start_time": "2022-01-08T10:34:31.235Z"
   },
   {
    "duration": 247,
    "start_time": "2022-01-08T10:36:52.139Z"
   },
   {
    "duration": 10,
    "start_time": "2022-01-08T10:37:28.283Z"
   },
   {
    "duration": 7,
    "start_time": "2022-01-08T10:37:36.133Z"
   },
   {
    "duration": 199,
    "start_time": "2022-01-08T10:37:49.587Z"
   },
   {
    "duration": 201,
    "start_time": "2022-01-08T10:38:00.627Z"
   },
   {
    "duration": 8,
    "start_time": "2022-01-08T10:38:05.605Z"
   },
   {
    "duration": 20,
    "start_time": "2022-01-08T10:38:40.205Z"
   },
   {
    "duration": 12,
    "start_time": "2022-01-08T10:38:42.124Z"
   },
   {
    "duration": 18,
    "start_time": "2022-01-08T10:39:20.714Z"
   },
   {
    "duration": 10,
    "start_time": "2022-01-08T10:39:30.526Z"
   },
   {
    "duration": 11,
    "start_time": "2022-01-08T10:40:16.464Z"
   },
   {
    "duration": 11,
    "start_time": "2022-01-08T10:40:21.613Z"
   },
   {
    "duration": 11,
    "start_time": "2022-01-08T10:40:23.105Z"
   },
   {
    "duration": 10,
    "start_time": "2022-01-08T10:40:54.123Z"
   },
   {
    "duration": 15,
    "start_time": "2022-01-08T10:41:02.203Z"
   },
   {
    "duration": 15,
    "start_time": "2022-01-08T10:43:32.473Z"
   },
   {
    "duration": 9,
    "start_time": "2022-01-08T10:43:38.972Z"
   },
   {
    "duration": 8,
    "start_time": "2022-01-08T10:43:40.421Z"
   },
   {
    "duration": 831,
    "start_time": "2022-01-08T10:45:43.250Z"
   },
   {
    "duration": 33,
    "start_time": "2022-01-08T10:45:46.319Z"
   },
   {
    "duration": 851,
    "start_time": "2022-01-08T10:46:02.451Z"
   },
   {
    "duration": 11,
    "start_time": "2022-01-08T10:46:14.232Z"
   },
   {
    "duration": 3,
    "start_time": "2022-01-08T10:46:34.312Z"
   },
   {
    "duration": 7,
    "start_time": "2022-01-08T10:46:44.211Z"
   },
   {
    "duration": 4,
    "start_time": "2022-01-08T10:47:25.687Z"
   },
   {
    "duration": 4,
    "start_time": "2022-01-08T10:48:36.061Z"
   },
   {
    "duration": 5010,
    "start_time": "2022-01-08T10:48:47.748Z"
   },
   {
    "duration": 13,
    "start_time": "2022-01-08T10:49:12.024Z"
   },
   {
    "duration": 5038,
    "start_time": "2022-01-08T10:49:21.955Z"
   },
   {
    "duration": 213,
    "start_time": "2022-01-08T10:50:21.897Z"
   },
   {
    "duration": 1152,
    "start_time": "2022-01-08T11:23:51.656Z"
   },
   {
    "duration": 11,
    "start_time": "2022-01-08T11:23:52.810Z"
   },
   {
    "duration": 21,
    "start_time": "2022-01-08T11:23:52.823Z"
   },
   {
    "duration": 17,
    "start_time": "2022-01-08T11:23:52.846Z"
   },
   {
    "duration": 17,
    "start_time": "2022-01-08T11:23:52.865Z"
   },
   {
    "duration": 323,
    "start_time": "2022-01-08T11:23:52.884Z"
   },
   {
    "duration": 13,
    "start_time": "2022-01-08T11:23:53.209Z"
   },
   {
    "duration": 225,
    "start_time": "2022-01-08T11:23:53.225Z"
   },
   {
    "duration": 22,
    "start_time": "2022-01-08T11:23:53.452Z"
   },
   {
    "duration": 323,
    "start_time": "2022-01-08T11:23:53.475Z"
   },
   {
    "duration": 12,
    "start_time": "2022-01-08T11:23:53.800Z"
   },
   {
    "duration": 31,
    "start_time": "2022-01-08T11:23:53.814Z"
   },
   {
    "duration": 14,
    "start_time": "2022-01-08T11:23:53.847Z"
   },
   {
    "duration": 324,
    "start_time": "2022-01-08T11:23:53.863Z"
   },
   {
    "duration": 93,
    "start_time": "2022-01-08T11:23:54.189Z"
   },
   {
    "duration": 16,
    "start_time": "2022-01-08T11:23:54.284Z"
   },
   {
    "duration": 4,
    "start_time": "2022-01-08T11:23:54.301Z"
   },
   {
    "duration": 317,
    "start_time": "2022-01-08T11:23:54.306Z"
   },
   {
    "duration": 2416,
    "start_time": "2022-01-08T11:23:54.625Z"
   },
   {
    "duration": 14,
    "start_time": "2022-01-08T11:23:57.043Z"
   },
   {
    "duration": 345,
    "start_time": "2022-01-08T11:23:57.058Z"
   },
   {
    "duration": -201,
    "start_time": "2022-01-08T11:23:57.606Z"
   },
   {
    "duration": -205,
    "start_time": "2022-01-08T11:23:57.610Z"
   },
   {
    "duration": -209,
    "start_time": "2022-01-08T11:23:57.615Z"
   },
   {
    "duration": 9,
    "start_time": "2022-01-08T11:27:44.763Z"
   },
   {
    "duration": 8,
    "start_time": "2022-01-08T11:27:49.432Z"
   },
   {
    "duration": 4,
    "start_time": "2022-01-08T11:27:56.353Z"
   },
   {
    "duration": 241,
    "start_time": "2022-01-08T11:28:04.364Z"
   },
   {
    "duration": 4,
    "start_time": "2022-01-08T11:29:37.493Z"
   },
   {
    "duration": 211,
    "start_time": "2022-01-08T11:30:35.513Z"
   },
   {
    "duration": 3,
    "start_time": "2022-01-08T11:31:00.993Z"
   },
   {
    "duration": 7,
    "start_time": "2022-01-08T11:31:05.463Z"
   },
   {
    "duration": 4,
    "start_time": "2022-01-08T11:31:11.248Z"
   },
   {
    "duration": 401,
    "start_time": "2022-01-08T11:31:13.221Z"
   },
   {
    "duration": 5381,
    "start_time": "2022-01-08T11:31:50.854Z"
   },
   {
    "duration": 13,
    "start_time": "2022-01-08T11:32:24.044Z"
   },
   {
    "duration": 12,
    "start_time": "2022-01-08T11:32:28.156Z"
   },
   {
    "duration": 5,
    "start_time": "2022-01-08T11:32:38.982Z"
   },
   {
    "duration": 28,
    "start_time": "2022-01-08T11:33:24.086Z"
   },
   {
    "duration": 5,
    "start_time": "2022-01-08T11:33:26.666Z"
   },
   {
    "duration": 8,
    "start_time": "2022-01-08T11:33:32.583Z"
   },
   {
    "duration": 1169,
    "start_time": "2022-01-08T11:33:41.495Z"
   },
   {
    "duration": 10,
    "start_time": "2022-01-08T11:33:42.665Z"
   },
   {
    "duration": 22,
    "start_time": "2022-01-08T11:33:42.677Z"
   },
   {
    "duration": 16,
    "start_time": "2022-01-08T11:33:42.701Z"
   },
   {
    "duration": 17,
    "start_time": "2022-01-08T11:33:42.741Z"
   },
   {
    "duration": 325,
    "start_time": "2022-01-08T11:33:42.760Z"
   },
   {
    "duration": 12,
    "start_time": "2022-01-08T11:33:43.087Z"
   },
   {
    "duration": 257,
    "start_time": "2022-01-08T11:33:43.100Z"
   },
   {
    "duration": 20,
    "start_time": "2022-01-08T11:33:43.360Z"
   },
   {
    "duration": 320,
    "start_time": "2022-01-08T11:33:43.382Z"
   },
   {
    "duration": 12,
    "start_time": "2022-01-08T11:33:43.703Z"
   },
   {
    "duration": 35,
    "start_time": "2022-01-08T11:33:43.717Z"
   },
   {
    "duration": 13,
    "start_time": "2022-01-08T11:33:43.754Z"
   },
   {
    "duration": 320,
    "start_time": "2022-01-08T11:33:43.769Z"
   },
   {
    "duration": 114,
    "start_time": "2022-01-08T11:33:44.091Z"
   },
   {
    "duration": 14,
    "start_time": "2022-01-08T11:33:44.207Z"
   },
   {
    "duration": 19,
    "start_time": "2022-01-08T11:33:44.223Z"
   },
   {
    "duration": 6,
    "start_time": "2022-01-08T11:33:44.244Z"
   },
   {
    "duration": 311,
    "start_time": "2022-01-08T11:33:44.251Z"
   },
   {
    "duration": 2863,
    "start_time": "2022-01-08T11:33:44.564Z"
   },
   {
    "duration": 21,
    "start_time": "2022-01-08T11:33:47.429Z"
   },
   {
    "duration": 5291,
    "start_time": "2022-01-08T11:33:47.452Z"
   },
   {
    "duration": -333,
    "start_time": "2022-01-08T11:33:53.078Z"
   },
   {
    "duration": -336,
    "start_time": "2022-01-08T11:33:53.082Z"
   },
   {
    "duration": -340,
    "start_time": "2022-01-08T11:33:53.087Z"
   },
   {
    "duration": 32,
    "start_time": "2022-01-08T11:38:27.722Z"
   },
   {
    "duration": 6,
    "start_time": "2022-01-08T11:38:38.151Z"
   },
   {
    "duration": 5,
    "start_time": "2022-01-08T11:58:27.670Z"
   },
   {
    "duration": 4,
    "start_time": "2022-01-08T11:59:46.554Z"
   },
   {
    "duration": 3,
    "start_time": "2022-01-08T12:00:31.035Z"
   },
   {
    "duration": 387,
    "start_time": "2022-01-08T12:01:10.296Z"
   },
   {
    "duration": 14,
    "start_time": "2022-01-08T12:01:15.976Z"
   },
   {
    "duration": 67,
    "start_time": "2022-01-08T12:01:35.057Z"
   },
   {
    "duration": 3,
    "start_time": "2022-01-08T12:01:40.086Z"
   },
   {
    "duration": 426,
    "start_time": "2022-01-08T12:01:42.157Z"
   },
   {
    "duration": 3,
    "start_time": "2022-01-08T12:02:22.318Z"
   },
   {
    "duration": 1765,
    "start_time": "2022-01-08T12:02:25.007Z"
   },
   {
    "duration": 3,
    "start_time": "2022-01-08T12:02:51.266Z"
   },
   {
    "duration": 1654,
    "start_time": "2022-01-08T12:02:52.725Z"
   },
   {
    "duration": 3,
    "start_time": "2022-01-08T12:03:31.356Z"
   },
   {
    "duration": 1749,
    "start_time": "2022-01-08T12:03:35.428Z"
   },
   {
    "duration": 443,
    "start_time": "2022-01-08T12:03:48.448Z"
   },
   {
    "duration": 2433,
    "start_time": "2022-01-08T12:04:31.968Z"
   },
   {
    "duration": 15,
    "start_time": "2022-01-08T12:04:49.336Z"
   },
   {
    "duration": 211,
    "start_time": "2022-01-08T12:05:22.058Z"
   },
   {
    "duration": 14,
    "start_time": "2022-01-08T12:05:30.986Z"
   },
   {
    "duration": 3,
    "start_time": "2022-01-08T12:05:55.977Z"
   },
   {
    "duration": 7,
    "start_time": "2022-01-08T12:06:14.582Z"
   },
   {
    "duration": 4,
    "start_time": "2022-01-08T12:06:46.322Z"
   },
   {
    "duration": 3,
    "start_time": "2022-01-08T12:06:58.678Z"
   },
   {
    "duration": 5,
    "start_time": "2022-01-08T12:07:01.263Z"
   },
   {
    "duration": 86,
    "start_time": "2022-01-08T12:07:23.132Z"
   },
   {
    "duration": 65,
    "start_time": "2022-01-08T12:07:35.732Z"
   },
   {
    "duration": 202,
    "start_time": "2022-01-08T12:07:43.223Z"
   },
   {
    "duration": 9,
    "start_time": "2022-01-08T12:08:08.142Z"
   },
   {
    "duration": 7,
    "start_time": "2022-01-08T12:08:12.822Z"
   },
   {
    "duration": 17,
    "start_time": "2022-01-08T12:08:34.902Z"
   },
   {
    "duration": 15,
    "start_time": "2022-01-08T12:08:36.342Z"
   },
   {
    "duration": 18,
    "start_time": "2022-01-08T12:08:56.152Z"
   },
   {
    "duration": 4,
    "start_time": "2022-01-08T12:08:57.773Z"
   },
   {
    "duration": 25,
    "start_time": "2022-01-08T12:09:17.502Z"
   },
   {
    "duration": 6,
    "start_time": "2022-01-08T12:09:18.916Z"
   },
   {
    "duration": 22,
    "start_time": "2022-01-08T12:09:42.072Z"
   },
   {
    "duration": 6,
    "start_time": "2022-01-08T12:09:43.493Z"
   },
   {
    "duration": 298,
    "start_time": "2022-01-08T12:10:08.572Z"
   },
   {
    "duration": 207,
    "start_time": "2022-01-08T12:10:19.672Z"
   },
   {
    "duration": 15,
    "start_time": "2022-01-08T12:12:25.872Z"
   },
   {
    "duration": 14,
    "start_time": "2022-01-08T12:12:27.385Z"
   },
   {
    "duration": 215,
    "start_time": "2022-01-08T12:12:55.943Z"
   },
   {
    "duration": 4,
    "start_time": "2022-01-08T12:13:14.080Z"
   },
   {
    "duration": 27,
    "start_time": "2022-01-08T12:13:17.452Z"
   },
   {
    "duration": 200,
    "start_time": "2022-01-08T12:13:42.092Z"
   },
   {
    "duration": 205,
    "start_time": "2022-01-08T12:13:46.675Z"
   },
   {
    "duration": 271,
    "start_time": "2022-01-08T12:15:56.771Z"
   },
   {
    "duration": 223,
    "start_time": "2022-01-08T12:16:26.120Z"
   },
   {
    "duration": 5031,
    "start_time": "2022-01-08T12:22:56.674Z"
   },
   {
    "duration": 4,
    "start_time": "2022-01-08T12:23:54.734Z"
   },
   {
    "duration": 202,
    "start_time": "2022-01-08T12:24:34.778Z"
   },
   {
    "duration": 251,
    "start_time": "2022-01-08T12:24:41.418Z"
   },
   {
    "duration": 4,
    "start_time": "2022-01-08T12:24:45.481Z"
   },
   {
    "duration": 3,
    "start_time": "2022-01-08T12:27:46.921Z"
   },
   {
    "duration": 385,
    "start_time": "2022-01-08T12:28:07.860Z"
   },
   {
    "duration": 3,
    "start_time": "2022-01-08T12:28:54.941Z"
   },
   {
    "duration": 8,
    "start_time": "2022-01-08T12:28:56.922Z"
   },
   {
    "duration": 3,
    "start_time": "2022-01-08T12:29:23.999Z"
   },
   {
    "duration": 8,
    "start_time": "2022-01-08T12:29:28.428Z"
   },
   {
    "duration": 14,
    "start_time": "2022-01-08T12:29:43.190Z"
   },
   {
    "duration": 15,
    "start_time": "2022-01-08T12:29:45.359Z"
   },
   {
    "duration": 23,
    "start_time": "2022-01-08T12:30:44.510Z"
   },
   {
    "duration": 199,
    "start_time": "2022-01-08T12:30:49.530Z"
   },
   {
    "duration": 9,
    "start_time": "2022-01-08T12:30:51.890Z"
   },
   {
    "duration": 4,
    "start_time": "2022-01-08T12:31:08.280Z"
   },
   {
    "duration": 3,
    "start_time": "2022-01-08T12:31:45.991Z"
   },
   {
    "duration": 204,
    "start_time": "2022-01-08T12:31:49.149Z"
   },
   {
    "duration": 8,
    "start_time": "2022-01-08T12:32:09.840Z"
   },
   {
    "duration": 187,
    "start_time": "2022-01-08T12:32:18.145Z"
   },
   {
    "duration": 9,
    "start_time": "2022-01-08T12:32:24.533Z"
   },
   {
    "duration": 8,
    "start_time": "2022-01-08T12:32:25.870Z"
   },
   {
    "duration": 9,
    "start_time": "2022-01-08T12:32:26.442Z"
   },
   {
    "duration": 8,
    "start_time": "2022-01-08T12:32:26.892Z"
   },
   {
    "duration": 8,
    "start_time": "2022-01-08T12:32:27.272Z"
   },
   {
    "duration": 5,
    "start_time": "2022-01-08T12:33:57.810Z"
   },
   {
    "duration": 6,
    "start_time": "2022-01-08T13:23:01.992Z"
   },
   {
    "duration": 6,
    "start_time": "2022-01-08T13:23:22.994Z"
   },
   {
    "duration": 5,
    "start_time": "2022-01-08T13:23:43.922Z"
   },
   {
    "duration": 4,
    "start_time": "2022-01-08T13:23:53.423Z"
   },
   {
    "duration": 5,
    "start_time": "2022-01-08T13:24:08.742Z"
   },
   {
    "duration": 5,
    "start_time": "2022-01-08T13:24:22.412Z"
   },
   {
    "duration": 7,
    "start_time": "2022-01-08T13:24:41.622Z"
   },
   {
    "duration": 5,
    "start_time": "2022-01-08T13:24:59.132Z"
   },
   {
    "duration": 5,
    "start_time": "2022-01-08T13:25:13.262Z"
   },
   {
    "duration": 5,
    "start_time": "2022-01-08T13:25:16.961Z"
   },
   {
    "duration": 5,
    "start_time": "2022-01-08T13:25:19.311Z"
   },
   {
    "duration": 5,
    "start_time": "2022-01-08T13:25:21.834Z"
   },
   {
    "duration": 6,
    "start_time": "2022-01-08T13:25:34.802Z"
   },
   {
    "duration": 13,
    "start_time": "2022-01-08T13:30:11.812Z"
   },
   {
    "duration": 5,
    "start_time": "2022-01-08T13:32:12.352Z"
   },
   {
    "duration": 4,
    "start_time": "2022-01-08T13:32:21.661Z"
   },
   {
    "duration": 6,
    "start_time": "2022-01-08T13:32:38.151Z"
   },
   {
    "duration": 4,
    "start_time": "2022-01-08T13:33:08.140Z"
   },
   {
    "duration": 8,
    "start_time": "2022-01-08T13:33:14.022Z"
   },
   {
    "duration": 7,
    "start_time": "2022-01-08T13:33:34.702Z"
   },
   {
    "duration": 6,
    "start_time": "2022-01-08T13:33:45.102Z"
   },
   {
    "duration": 6,
    "start_time": "2022-01-08T13:33:53.201Z"
   },
   {
    "duration": 7,
    "start_time": "2022-01-08T13:34:00.830Z"
   },
   {
    "duration": 6,
    "start_time": "2022-01-08T13:34:09.662Z"
   },
   {
    "duration": 9,
    "start_time": "2022-01-08T13:34:16.212Z"
   },
   {
    "duration": 9,
    "start_time": "2022-01-08T13:34:19.193Z"
   },
   {
    "duration": 10,
    "start_time": "2022-01-08T13:34:27.832Z"
   },
   {
    "duration": 9,
    "start_time": "2022-01-08T13:34:35.032Z"
   },
   {
    "duration": 232,
    "start_time": "2022-01-08T13:35:00.242Z"
   },
   {
    "duration": 4,
    "start_time": "2022-01-08T13:35:23.073Z"
   },
   {
    "duration": 8,
    "start_time": "2022-01-08T13:35:31.122Z"
   },
   {
    "duration": 4,
    "start_time": "2022-01-08T13:35:36.002Z"
   },
   {
    "duration": 8,
    "start_time": "2022-01-08T13:36:16.162Z"
   },
   {
    "duration": 3,
    "start_time": "2022-01-08T13:36:42.962Z"
   },
   {
    "duration": 6,
    "start_time": "2022-01-08T13:37:39.632Z"
   },
   {
    "duration": 11,
    "start_time": "2022-01-08T13:37:45.069Z"
   },
   {
    "duration": 235,
    "start_time": "2022-01-08T13:38:09.742Z"
   },
   {
    "duration": 6,
    "start_time": "2022-01-08T13:38:15.880Z"
   },
   {
    "duration": 94,
    "start_time": "2022-01-08T13:38:31.032Z"
   },
   {
    "duration": 6,
    "start_time": "2022-01-08T13:38:35.542Z"
   },
   {
    "duration": 193,
    "start_time": "2022-01-08T13:38:56.508Z"
   },
   {
    "duration": 4,
    "start_time": "2022-01-08T13:38:59.528Z"
   },
   {
    "duration": 37,
    "start_time": "2022-01-08T14:36:04.344Z"
   },
   {
    "duration": 306,
    "start_time": "2022-01-08T14:39:56.679Z"
   },
   {
    "duration": 4,
    "start_time": "2022-01-08T14:40:28.657Z"
   },
   {
    "duration": 337,
    "start_time": "2022-01-08T14:40:42.782Z"
   },
   {
    "duration": 7,
    "start_time": "2022-01-08T14:41:20.734Z"
   },
   {
    "duration": 8,
    "start_time": "2022-01-08T14:42:04.862Z"
   },
   {
    "duration": 1180,
    "start_time": "2022-01-08T14:45:07.830Z"
   },
   {
    "duration": 10,
    "start_time": "2022-01-08T14:45:09.012Z"
   },
   {
    "duration": 20,
    "start_time": "2022-01-08T14:45:09.026Z"
   },
   {
    "duration": 15,
    "start_time": "2022-01-08T14:45:09.048Z"
   },
   {
    "duration": 17,
    "start_time": "2022-01-08T14:45:09.065Z"
   },
   {
    "duration": 331,
    "start_time": "2022-01-08T14:45:09.083Z"
   },
   {
    "duration": 13,
    "start_time": "2022-01-08T14:45:09.415Z"
   },
   {
    "duration": 236,
    "start_time": "2022-01-08T14:45:09.430Z"
   },
   {
    "duration": 21,
    "start_time": "2022-01-08T14:45:09.669Z"
   },
   {
    "duration": 326,
    "start_time": "2022-01-08T14:45:09.692Z"
   },
   {
    "duration": 27,
    "start_time": "2022-01-08T14:45:10.020Z"
   },
   {
    "duration": 11,
    "start_time": "2022-01-08T14:45:10.048Z"
   },
   {
    "duration": 414,
    "start_time": "2022-01-08T14:45:10.061Z"
   },
   {
    "duration": 108,
    "start_time": "2022-01-08T14:45:10.477Z"
   },
   {
    "duration": 18,
    "start_time": "2022-01-08T14:45:10.587Z"
   },
   {
    "duration": 3,
    "start_time": "2022-01-08T14:45:10.607Z"
   },
   {
    "duration": 321,
    "start_time": "2022-01-08T14:45:10.611Z"
   },
   {
    "duration": 2260,
    "start_time": "2022-01-08T14:45:10.933Z"
   },
   {
    "duration": 12,
    "start_time": "2022-01-08T14:45:13.195Z"
   },
   {
    "duration": 7,
    "start_time": "2022-01-08T14:45:13.209Z"
   },
   {
    "duration": 23,
    "start_time": "2022-01-08T14:45:13.218Z"
   },
   {
    "duration": 8,
    "start_time": "2022-01-08T14:45:13.243Z"
   },
   {
    "duration": 5,
    "start_time": "2022-01-08T14:45:13.253Z"
   },
   {
    "duration": 6,
    "start_time": "2022-01-08T14:45:13.260Z"
   },
   {
    "duration": 229,
    "start_time": "2022-01-08T14:45:13.268Z"
   },
   {
    "duration": 5,
    "start_time": "2022-01-08T15:06:13.651Z"
   },
   {
    "duration": 1390,
    "start_time": "2022-01-08T15:55:01.963Z"
   },
   {
    "duration": 18,
    "start_time": "2022-01-08T15:55:03.356Z"
   },
   {
    "duration": 26,
    "start_time": "2022-01-08T15:55:03.377Z"
   },
   {
    "duration": 45,
    "start_time": "2022-01-08T15:55:03.406Z"
   },
   {
    "duration": 14,
    "start_time": "2022-01-08T15:55:03.453Z"
   },
   {
    "duration": 430,
    "start_time": "2022-01-08T15:55:03.469Z"
   },
   {
    "duration": 16,
    "start_time": "2022-01-08T15:55:03.901Z"
   },
   {
    "duration": 330,
    "start_time": "2022-01-08T15:55:03.919Z"
   },
   {
    "duration": 26,
    "start_time": "2022-01-08T15:55:04.251Z"
   },
   {
    "duration": 401,
    "start_time": "2022-01-08T15:55:04.279Z"
   },
   {
    "duration": 21,
    "start_time": "2022-01-08T15:55:04.683Z"
   },
   {
    "duration": 12,
    "start_time": "2022-01-08T15:55:04.706Z"
   },
   {
    "duration": 420,
    "start_time": "2022-01-08T15:55:04.740Z"
   },
   {
    "duration": 116,
    "start_time": "2022-01-08T15:55:05.162Z"
   },
   {
    "duration": 14,
    "start_time": "2022-01-08T15:55:05.280Z"
   },
   {
    "duration": 3,
    "start_time": "2022-01-08T15:55:05.296Z"
   },
   {
    "duration": 481,
    "start_time": "2022-01-08T15:55:05.301Z"
   },
   {
    "duration": 2660,
    "start_time": "2022-01-08T15:55:05.784Z"
   },
   {
    "duration": 17,
    "start_time": "2022-01-08T15:55:08.446Z"
   },
   {
    "duration": 27,
    "start_time": "2022-01-08T15:55:08.464Z"
   },
   {
    "duration": 16,
    "start_time": "2022-01-08T15:55:08.493Z"
   },
   {
    "duration": 38,
    "start_time": "2022-01-08T15:55:08.511Z"
   },
   {
    "duration": 15,
    "start_time": "2022-01-08T15:55:08.553Z"
   },
   {
    "duration": 38,
    "start_time": "2022-01-08T15:55:08.570Z"
   },
   {
    "duration": 260,
    "start_time": "2022-01-08T15:55:08.610Z"
   },
   {
    "duration": 6,
    "start_time": "2022-01-08T15:55:08.871Z"
   },
   {
    "duration": 1198,
    "start_time": "2022-01-09T18:21:17.443Z"
   },
   {
    "duration": 10,
    "start_time": "2022-01-09T18:21:18.642Z"
   },
   {
    "duration": 21,
    "start_time": "2022-01-09T18:21:18.653Z"
   },
   {
    "duration": 15,
    "start_time": "2022-01-09T18:21:18.675Z"
   },
   {
    "duration": 11,
    "start_time": "2022-01-09T18:21:18.691Z"
   },
   {
    "duration": 317,
    "start_time": "2022-01-09T18:21:18.704Z"
   },
   {
    "duration": 10,
    "start_time": "2022-01-09T18:21:19.023Z"
   },
   {
    "duration": 283,
    "start_time": "2022-01-09T18:21:19.035Z"
   },
   {
    "duration": 19,
    "start_time": "2022-01-09T18:21:19.326Z"
   },
   {
    "duration": 295,
    "start_time": "2022-01-09T18:21:19.346Z"
   },
   {
    "duration": 18,
    "start_time": "2022-01-09T18:21:19.643Z"
   },
   {
    "duration": 11,
    "start_time": "2022-01-09T18:21:19.663Z"
   },
   {
    "duration": 300,
    "start_time": "2022-01-09T18:21:19.676Z"
   },
   {
    "duration": 85,
    "start_time": "2022-01-09T18:21:19.978Z"
   },
   {
    "duration": 14,
    "start_time": "2022-01-09T18:21:20.065Z"
   },
   {
    "duration": 3,
    "start_time": "2022-01-09T18:21:20.080Z"
   },
   {
    "duration": 322,
    "start_time": "2022-01-09T18:21:20.084Z"
   },
   {
    "duration": 2100,
    "start_time": "2022-01-09T18:21:20.407Z"
   },
   {
    "duration": 20,
    "start_time": "2022-01-09T18:21:22.509Z"
   },
   {
    "duration": 7,
    "start_time": "2022-01-09T18:21:22.531Z"
   },
   {
    "duration": 4,
    "start_time": "2022-01-09T18:21:22.540Z"
   },
   {
    "duration": 8,
    "start_time": "2022-01-09T18:21:22.546Z"
   },
   {
    "duration": 4,
    "start_time": "2022-01-09T18:21:22.556Z"
   },
   {
    "duration": 7,
    "start_time": "2022-01-09T18:21:22.561Z"
   },
   {
    "duration": 234,
    "start_time": "2022-01-09T18:21:22.569Z"
   },
   {
    "duration": 5,
    "start_time": "2022-01-09T18:21:22.804Z"
   },
   {
    "duration": 1524,
    "start_time": "2022-01-09T18:25:38.603Z"
   },
   {
    "duration": 10,
    "start_time": "2022-01-09T18:25:40.129Z"
   },
   {
    "duration": 21,
    "start_time": "2022-01-09T18:25:40.141Z"
   },
   {
    "duration": 15,
    "start_time": "2022-01-09T18:25:40.164Z"
   },
   {
    "duration": 12,
    "start_time": "2022-01-09T18:25:40.181Z"
   },
   {
    "duration": 315,
    "start_time": "2022-01-09T18:25:40.194Z"
   },
   {
    "duration": 21,
    "start_time": "2022-01-09T18:25:40.511Z"
   },
   {
    "duration": 207,
    "start_time": "2022-01-09T18:25:40.533Z"
   },
   {
    "duration": 19,
    "start_time": "2022-01-09T18:25:40.743Z"
   },
   {
    "duration": 298,
    "start_time": "2022-01-09T18:25:40.764Z"
   },
   {
    "duration": 17,
    "start_time": "2022-01-09T18:25:41.063Z"
   },
   {
    "duration": 10,
    "start_time": "2022-01-09T18:25:41.081Z"
   },
   {
    "duration": 514,
    "start_time": "2022-01-09T18:25:41.092Z"
   },
   {
    "duration": 140,
    "start_time": "2022-01-09T18:25:41.608Z"
   },
   {
    "duration": 13,
    "start_time": "2022-01-09T18:25:41.750Z"
   },
   {
    "duration": 3,
    "start_time": "2022-01-09T18:25:41.765Z"
   },
   {
    "duration": 323,
    "start_time": "2022-01-09T18:25:41.769Z"
   },
   {
    "duration": 1496,
    "start_time": "2022-01-09T18:25:42.093Z"
   },
   {
    "duration": 13,
    "start_time": "2022-01-09T18:25:43.591Z"
   },
   {
    "duration": 8,
    "start_time": "2022-01-09T18:25:43.606Z"
   },
   {
    "duration": 14,
    "start_time": "2022-01-09T18:25:43.615Z"
   },
   {
    "duration": 11,
    "start_time": "2022-01-09T18:25:43.630Z"
   },
   {
    "duration": 6,
    "start_time": "2022-01-09T18:25:43.643Z"
   },
   {
    "duration": 7,
    "start_time": "2022-01-09T18:25:43.651Z"
   },
   {
    "duration": 315,
    "start_time": "2022-01-09T18:25:43.659Z"
   },
   {
    "duration": 3,
    "start_time": "2022-01-09T18:25:43.976Z"
   },
   {
    "duration": 15,
    "start_time": "2022-01-09T18:25:57.794Z"
   },
   {
    "duration": 143,
    "start_time": "2022-01-09T18:38:48.560Z"
   },
   {
    "duration": 15,
    "start_time": "2022-01-09T18:38:50.173Z"
   },
   {
    "duration": 1258,
    "start_time": "2022-01-10T08:12:58.920Z"
   },
   {
    "duration": 10,
    "start_time": "2022-01-10T08:13:00.179Z"
   },
   {
    "duration": 21,
    "start_time": "2022-01-10T08:13:00.191Z"
   },
   {
    "duration": 20,
    "start_time": "2022-01-10T08:13:00.213Z"
   },
   {
    "duration": 12,
    "start_time": "2022-01-10T08:13:00.234Z"
   },
   {
    "duration": 306,
    "start_time": "2022-01-10T08:13:00.248Z"
   },
   {
    "duration": 10,
    "start_time": "2022-01-10T08:13:00.556Z"
   },
   {
    "duration": 213,
    "start_time": "2022-01-10T08:13:00.568Z"
   },
   {
    "duration": 18,
    "start_time": "2022-01-10T08:13:00.783Z"
   },
   {
    "duration": 297,
    "start_time": "2022-01-10T08:13:00.802Z"
   },
   {
    "duration": 27,
    "start_time": "2022-01-10T08:13:01.101Z"
   },
   {
    "duration": 10,
    "start_time": "2022-01-10T08:13:01.129Z"
   },
   {
    "duration": 318,
    "start_time": "2022-01-10T08:13:01.141Z"
   },
   {
    "duration": 204,
    "start_time": "2022-01-10T08:13:01.460Z"
   },
   {
    "duration": 15,
    "start_time": "2022-01-10T08:13:01.665Z"
   },
   {
    "duration": 6,
    "start_time": "2022-01-10T08:13:01.682Z"
   },
   {
    "duration": 316,
    "start_time": "2022-01-10T08:13:01.689Z"
   },
   {
    "duration": 3134,
    "start_time": "2022-01-10T08:13:02.007Z"
   },
   {
    "duration": 13,
    "start_time": "2022-01-10T08:13:05.142Z"
   },
   {
    "duration": 9,
    "start_time": "2022-01-10T08:13:05.156Z"
   },
   {
    "duration": 6,
    "start_time": "2022-01-10T08:13:05.166Z"
   },
   {
    "duration": 9,
    "start_time": "2022-01-10T08:13:05.173Z"
   },
   {
    "duration": 5,
    "start_time": "2022-01-10T08:13:05.184Z"
   },
   {
    "duration": 8,
    "start_time": "2022-01-10T08:13:05.190Z"
   },
   {
    "duration": 226,
    "start_time": "2022-01-10T08:13:05.199Z"
   },
   {
    "duration": 4,
    "start_time": "2022-01-10T08:13:05.427Z"
   },
   {
    "duration": 1984,
    "start_time": "2022-01-10T20:37:29.746Z"
   },
   {
    "duration": 11,
    "start_time": "2022-01-10T20:37:31.732Z"
   },
   {
    "duration": 47,
    "start_time": "2022-01-10T20:37:31.745Z"
   },
   {
    "duration": 23,
    "start_time": "2022-01-10T20:37:31.795Z"
   },
   {
    "duration": 15,
    "start_time": "2022-01-10T20:37:31.820Z"
   },
   {
    "duration": 396,
    "start_time": "2022-01-10T20:37:31.836Z"
   },
   {
    "duration": 13,
    "start_time": "2022-01-10T20:37:32.234Z"
   },
   {
    "duration": 279,
    "start_time": "2022-01-10T20:37:32.250Z"
   },
   {
    "duration": 22,
    "start_time": "2022-01-10T20:37:32.531Z"
   },
   {
    "duration": 384,
    "start_time": "2022-01-10T20:37:32.555Z"
   },
   {
    "duration": 21,
    "start_time": "2022-01-10T20:37:32.940Z"
   },
   {
    "duration": 12,
    "start_time": "2022-01-10T20:37:32.962Z"
   },
   {
    "duration": 384,
    "start_time": "2022-01-10T20:37:32.991Z"
   },
   {
    "duration": 260,
    "start_time": "2022-01-10T20:37:33.377Z"
   },
   {
    "duration": 17,
    "start_time": "2022-01-10T20:37:33.638Z"
   },
   {
    "duration": 3,
    "start_time": "2022-01-10T20:37:33.656Z"
   },
   {
    "duration": 395,
    "start_time": "2022-01-10T20:37:33.661Z"
   },
   {
    "duration": 3424,
    "start_time": "2022-01-10T20:37:34.057Z"
   },
   {
    "duration": 23,
    "start_time": "2022-01-10T20:37:37.483Z"
   },
   {
    "duration": 12,
    "start_time": "2022-01-10T20:37:37.508Z"
   },
   {
    "duration": 7,
    "start_time": "2022-01-10T20:37:37.521Z"
   },
   {
    "duration": 9,
    "start_time": "2022-01-10T20:37:37.529Z"
   },
   {
    "duration": 6,
    "start_time": "2022-01-10T20:37:37.540Z"
   },
   {
    "duration": 14,
    "start_time": "2022-01-10T20:37:37.549Z"
   },
   {
    "duration": 261,
    "start_time": "2022-01-10T20:37:37.592Z"
   },
   {
    "duration": 5,
    "start_time": "2022-01-10T20:37:37.855Z"
   },
   {
    "duration": 1275,
    "start_time": "2022-01-10T21:14:37.432Z"
   },
   {
    "duration": 14,
    "start_time": "2022-01-10T21:14:38.709Z"
   },
   {
    "duration": 25,
    "start_time": "2022-01-10T21:14:38.725Z"
   },
   {
    "duration": 45,
    "start_time": "2022-01-10T21:14:38.752Z"
   },
   {
    "duration": 15,
    "start_time": "2022-01-10T21:14:38.799Z"
   },
   {
    "duration": 388,
    "start_time": "2022-01-10T21:14:38.816Z"
   },
   {
    "duration": 14,
    "start_time": "2022-01-10T21:14:39.206Z"
   },
   {
    "duration": 270,
    "start_time": "2022-01-10T21:14:39.223Z"
   },
   {
    "duration": 25,
    "start_time": "2022-01-10T21:14:39.495Z"
   },
   {
    "duration": 376,
    "start_time": "2022-01-10T21:14:39.522Z"
   },
   {
    "duration": 23,
    "start_time": "2022-01-10T21:14:39.900Z"
   },
   {
    "duration": 13,
    "start_time": "2022-01-10T21:14:39.925Z"
   },
   {
    "duration": 400,
    "start_time": "2022-01-10T21:14:39.939Z"
   },
   {
    "duration": 239,
    "start_time": "2022-01-10T21:14:40.341Z"
   },
   {
    "duration": 22,
    "start_time": "2022-01-10T21:14:40.582Z"
   },
   {
    "duration": 13,
    "start_time": "2022-01-10T21:14:40.606Z"
   },
   {
    "duration": 404,
    "start_time": "2022-01-10T21:14:40.620Z"
   },
   {
    "duration": 2947,
    "start_time": "2022-01-10T21:14:41.026Z"
   },
   {
    "duration": 20,
    "start_time": "2022-01-10T21:14:43.975Z"
   },
   {
    "duration": 11,
    "start_time": "2022-01-10T21:14:43.997Z"
   },
   {
    "duration": 5,
    "start_time": "2022-01-10T21:14:44.010Z"
   },
   {
    "duration": 11,
    "start_time": "2022-01-10T21:14:44.017Z"
   },
   {
    "duration": 8,
    "start_time": "2022-01-10T21:14:44.031Z"
   },
   {
    "duration": 9,
    "start_time": "2022-01-10T21:14:44.040Z"
   },
   {
    "duration": 293,
    "start_time": "2022-01-10T21:14:44.051Z"
   },
   {
    "duration": 90,
    "start_time": "2022-01-11T18:39:27.149Z"
   }
  ],
  "kernelspec": {
   "display_name": "Python 3",
   "language": "python",
   "name": "python3"
  },
  "language_info": {
   "codemirror_mode": {
    "name": "ipython",
    "version": 3
   },
   "file_extension": ".py",
   "mimetype": "text/x-python",
   "name": "python",
   "nbconvert_exporter": "python",
   "pygments_lexer": "ipython3",
   "version": "3.7.8"
  },
  "toc": {
   "base_numbering": 1,
   "nav_menu": {},
   "number_sections": true,
   "sideBar": true,
   "skip_h1_title": true,
   "title_cell": "Table of Contents",
   "title_sidebar": "Contents",
   "toc_cell": false,
   "toc_position": {},
   "toc_section_display": true,
   "toc_window_display": false
  }
 },
 "nbformat": 4,
 "nbformat_minor": 2
}
